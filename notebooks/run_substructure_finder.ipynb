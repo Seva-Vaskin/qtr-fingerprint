{
 "cells": [
  {
   "cell_type": "code",
   "execution_count": 1,
   "id": "293a9920",
   "metadata": {},
   "outputs": [
    {
     "name": "stdout",
     "output_type": "stream",
     "text": [
      "INFO: Pandarallel will run on 4 workers.\n",
      "INFO: Pandarallel will use Memory file system to transfer data between the main process and workers.\n"
     ]
    }
   ],
   "source": [
    "from indigo import Indigo\n",
    "import numpy as np\n",
    "import pandas as pd\n",
    "import asyncio\n",
    "import shutil\n",
    "\n",
    "from pathlib import Path\n",
    "import sys\n",
    "\n",
    "packages_dir = Path.cwd().absolute().parent / 'python' / 'packages'\n",
    "assert packages_dir.is_dir()\n",
    "sys.path.append(str(packages_dir))\n",
    "\n",
    "from substructure_finder import BucketsInitializer\n",
    "from substructure_finder.search_engines import ProcessPoolSearchEngine, RamProcessPoolSearchEngine\n",
    "from substructure_finder import DbFilesystem\n",
    "\n",
    "import fp_utils\n",
    "from fp_utils.finders import Finder\n",
    "from fp_utils.testing import FinderSpeedTester\n",
    "from fp_utils.catch_time import CatchTime\n",
    "\n",
    "fp_utils.settings.init_fp_utils()"
   ]
  },
  {
   "cell_type": "code",
   "execution_count": 2,
   "id": "5bcdd2f7",
   "metadata": {},
   "outputs": [
    {
     "data": {
      "text/plain": [
       "(True, True, True)"
      ]
     },
     "execution_count": 2,
     "metadata": {},
     "output_type": "execute_result"
    }
   ],
   "source": [
    "base_drives_dir = Path('../data/drives/')\n",
    "other_dir = Path('../data/drives/0/')\n",
    "drives_number = 4\n",
    "zero_columns_name = '../data/zero_columns'\n",
    "db_name = 'db_500k'\n",
    "\n",
    "data_dirs = [base_drives_dir / str(i) for i in range(1, drives_number + 1)]\n",
    "db_fs = DbFilesystem(data_dirs, other_dir)\n",
    "\n",
    "Path(zero_columns_name).exists(), \\\n",
    "all(map(lambda x: (x / db_name).is_dir(), data_dirs)), \\\n",
    "(other_dir / db_name).is_dir()"
   ]
  },
  {
   "cell_type": "markdown",
   "id": "24513925",
   "metadata": {},
   "source": [
    "# Search Queries"
   ]
  },
  {
   "cell_type": "code",
   "execution_count": 3,
   "id": "0ce6e415",
   "metadata": {},
   "outputs": [],
   "source": [
    "with open(zero_columns_name, 'r') as f:\n",
    "    zero_columns = list(map(int, f.read().split()))\n",
    "assert list(sorted(zero_columns)) == zero_columns\n",
    "\n",
    "full_columns = list(sorted(set(range(3736)) - set(zero_columns)))\n",
    "\n",
    "def bin_format(number, num_of_bits=3736):\n",
    "    fp = list(map(int, list(bin(int(number, 16))[2:].zfill(num_of_bits))))\n",
    "    return np.fromiter(fp, dtype=int)\n",
    "\n",
    "def smiles_to_fingerprint(smiles):\n",
    "    indigo_mol_to_test = Indigo().loadMolecule(smiles)\n",
    "    full_fp = bin_format(indigo_mol_to_test.fingerprint(\"sub\").toString())\n",
    "    return np.fromiter(pd.Series(full_fp)[full_columns].values, dtype=bool)\n",
    "\n",
    "@CatchTime(\"search\")\n",
    "def search(smiles: str, finder: Finder, ans_count=None):\n",
    "    fp = smiles_to_fingerprint(smiles)\n",
    "    return list(finder.find(fp, ans_count))"
   ]
  },
  {
   "cell_type": "markdown",
   "id": "d985fd85",
   "metadata": {},
   "source": [
    "### Finders init"
   ]
  },
  {
   "cell_type": "code",
   "execution_count": 4,
   "id": "24c05efc",
   "metadata": {},
   "outputs": [],
   "source": [
    "class ProcessPoolFinder(ProcessPoolSearchEngine, Finder):\n",
    "    def find_all(self, fp):\n",
    "        return self.search(fp)"
   ]
  },
  {
   "cell_type": "code",
   "execution_count": 5,
   "id": "cbf7daa4",
   "metadata": {},
   "outputs": [],
   "source": [
    "class RamProcessPoolFinder(RamProcessPoolSearchEngine, Finder):\n",
    "    def find_all(self, fp):\n",
    "        return self.search(fp)"
   ]
  },
  {
   "cell_type": "code",
   "execution_count": 6,
   "id": "fde342b8",
   "metadata": {
    "scrolled": true
   },
   "outputs": [
    {
     "name": "stdout",
     "output_type": "stream",
     "text": [
      "0.019s -- ProcessPoolFinder init time\n",
      "6.716s -- RamProcessPoolFinder init time\n"
     ]
    }
   ],
   "source": [
    "# finder = ComplexFinder(db_fs, db_name)\n",
    "# thread_pool_finder = ThreadPoolFinder(db_fs, db_name)\n",
    "process_pool_finder = ProcessPoolFinder(db_fs, db_name)\n",
    "ram_process_pool_finder = RamProcessPoolFinder(db_fs, db_name)"
   ]
  },
  {
   "cell_type": "markdown",
   "id": "ad4c9d49",
   "metadata": {},
   "source": [
    "### Queries init"
   ]
  },
  {
   "cell_type": "code",
   "execution_count": 7,
   "id": "7b2514d8",
   "metadata": {},
   "outputs": [
    {
     "data": {
      "text/plain": [
       "(157,\n",
       " ['Cc1c[n]c2[nH]ccc2c1Cl',\n",
       "  'OC(=O)c1c[n]c2[nH]ccc2c1Cl',\n",
       "  'Cc1c(Cl)c[n]c2[nH]ccc21',\n",
       "  'Oc1c[n]c2[nH]ccc2c1Cl',\n",
       "  'N[C@@H](C[S@](=O)CCO)C(O)=O'])"
      ]
     },
     "execution_count": 7,
     "metadata": {},
     "output_type": "execute_result"
    }
   ],
   "source": [
    "with open('../data/pubchem_994_queries.txt', 'r') as f:\n",
    "    queries = list(map(lambda x: x.split()[0], f.read().strip().split('\\n')))\n",
    "    \n",
    "queries_fp = [smiles_to_fingerprint(smiles) for smiles in queries]\n",
    "\n",
    "len(queries), queries[:5]"
   ]
  },
  {
   "cell_type": "markdown",
   "id": "0b44047e",
   "metadata": {},
   "source": [
    "### Speed testing"
   ]
  },
  {
   "cell_type": "code",
   "execution_count": 12,
   "id": "5e990187",
   "metadata": {},
   "outputs": [],
   "source": [
    "speed_tester = FinderSpeedTester([process_pool_finder, ram_process_pool_finder])"
   ]
  },
  {
   "cell_type": "code",
   "execution_count": null,
   "id": "e07fcf2b",
   "metadata": {
    "scrolled": true
   },
   "outputs": [
    {
     "name": "stdout",
     "output_type": "stream",
     "text": [
      "-----\n",
      "Test #000\n"
     ]
    },
    {
     "name": "stderr",
     "output_type": "stream",
     "text": [
      "Buckets number: 376\n"
     ]
    },
    {
     "name": "stdout",
     "output_type": "stream",
     "text": [
      "1.551 -- ProcessPoolFinder\n"
     ]
    },
    {
     "name": "stderr",
     "output_type": "stream",
     "text": [
      "Buckets number: 376\n"
     ]
    },
    {
     "name": "stdout",
     "output_type": "stream",
     "text": [
      "1.127 -- RamProcessPoolFinder\n",
      "-----\n",
      "Test #001\n"
     ]
    },
    {
     "name": "stderr",
     "output_type": "stream",
     "text": [
      "Buckets number: 231\n"
     ]
    },
    {
     "name": "stdout",
     "output_type": "stream",
     "text": [
      "1.024 -- ProcessPoolFinder\n"
     ]
    },
    {
     "name": "stderr",
     "output_type": "stream",
     "text": [
      "Buckets number: 231\n"
     ]
    },
    {
     "name": "stdout",
     "output_type": "stream",
     "text": [
      "0.722 -- RamProcessPoolFinder\n",
      "-----\n",
      "Test #002\n"
     ]
    },
    {
     "name": "stderr",
     "output_type": "stream",
     "text": [
      "Buckets number: 373\n"
     ]
    },
    {
     "name": "stdout",
     "output_type": "stream",
     "text": [
      "1.532 -- ProcessPoolFinder\n"
     ]
    },
    {
     "name": "stderr",
     "output_type": "stream",
     "text": [
      "Buckets number: 373\n"
     ]
    },
    {
     "name": "stdout",
     "output_type": "stream",
     "text": [
      "1.188 -- RamProcessPoolFinder\n",
      "-----\n",
      "Test #003\n"
     ]
    },
    {
     "name": "stderr",
     "output_type": "stream",
     "text": [
      "Buckets number: 376\n"
     ]
    },
    {
     "name": "stdout",
     "output_type": "stream",
     "text": [
      "1.705 -- ProcessPoolFinder\n"
     ]
    },
    {
     "name": "stderr",
     "output_type": "stream",
     "text": [
      "Buckets number: 376\n"
     ]
    },
    {
     "name": "stdout",
     "output_type": "stream",
     "text": [
      "1.130 -- RamProcessPoolFinder\n",
      "-----\n",
      "Test #004\n"
     ]
    },
    {
     "name": "stderr",
     "output_type": "stream",
     "text": [
      "Buckets number: 522\n"
     ]
    },
    {
     "name": "stdout",
     "output_type": "stream",
     "text": [
      "2.351 -- ProcessPoolFinder\n"
     ]
    },
    {
     "name": "stderr",
     "output_type": "stream",
     "text": [
      "Buckets number: 522\n"
     ]
    },
    {
     "name": "stdout",
     "output_type": "stream",
     "text": [
      "1.577 -- RamProcessPoolFinder\n",
      "-----\n",
      "Test #005\n"
     ]
    },
    {
     "name": "stderr",
     "output_type": "stream",
     "text": [
      "Buckets number: 151\n"
     ]
    },
    {
     "name": "stdout",
     "output_type": "stream",
     "text": [
      "0.953 -- ProcessPoolFinder\n"
     ]
    },
    {
     "name": "stderr",
     "output_type": "stream",
     "text": [
      "Buckets number: 151\n"
     ]
    },
    {
     "name": "stdout",
     "output_type": "stream",
     "text": [
      "0.752 -- RamProcessPoolFinder\n",
      "-----\n",
      "Test #006\n"
     ]
    },
    {
     "name": "stderr",
     "output_type": "stream",
     "text": [
      "Buckets number: 522\n"
     ]
    },
    {
     "name": "stdout",
     "output_type": "stream",
     "text": [
      "3.416 -- ProcessPoolFinder\n"
     ]
    },
    {
     "name": "stderr",
     "output_type": "stream",
     "text": [
      "Buckets number: 522\n"
     ]
    },
    {
     "name": "stdout",
     "output_type": "stream",
     "text": [
      "2.227 -- RamProcessPoolFinder\n",
      "-----\n",
      "Test #007\n"
     ]
    },
    {
     "name": "stderr",
     "output_type": "stream",
     "text": [
      "Buckets number: 469\n"
     ]
    },
    {
     "name": "stdout",
     "output_type": "stream",
     "text": [
      "2.980 -- ProcessPoolFinder\n"
     ]
    },
    {
     "name": "stderr",
     "output_type": "stream",
     "text": [
      "Buckets number: 469\n"
     ]
    },
    {
     "name": "stdout",
     "output_type": "stream",
     "text": [
      "1.929 -- RamProcessPoolFinder\n",
      "-----\n",
      "Test #008\n"
     ]
    },
    {
     "name": "stderr",
     "output_type": "stream",
     "text": [
      "Buckets number: 253\n"
     ]
    },
    {
     "name": "stdout",
     "output_type": "stream",
     "text": [
      "1.694 -- ProcessPoolFinder\n"
     ]
    },
    {
     "name": "stderr",
     "output_type": "stream",
     "text": [
      "Buckets number: 253\n"
     ]
    },
    {
     "name": "stdout",
     "output_type": "stream",
     "text": [
      "1.160 -- RamProcessPoolFinder\n",
      "-----\n",
      "Test #009\n"
     ]
    },
    {
     "name": "stderr",
     "output_type": "stream",
     "text": [
      "Buckets number: 772\n"
     ]
    },
    {
     "name": "stdout",
     "output_type": "stream",
     "text": [
      "0.384 -- ProcessPoolFinder\n"
     ]
    },
    {
     "name": "stderr",
     "output_type": "stream",
     "text": [
      "Buckets number: 772\n"
     ]
    },
    {
     "name": "stdout",
     "output_type": "stream",
     "text": [
      "0.717 -- RamProcessPoolFinder\n",
      "-----\n",
      "Test #010\n"
     ]
    },
    {
     "name": "stderr",
     "output_type": "stream",
     "text": [
      "Buckets number: 179\n"
     ]
    },
    {
     "name": "stdout",
     "output_type": "stream",
     "text": [
      "2.919 -- ProcessPoolFinder\n"
     ]
    },
    {
     "name": "stderr",
     "output_type": "stream",
     "text": [
      "Buckets number: 179\n"
     ]
    },
    {
     "name": "stdout",
     "output_type": "stream",
     "text": [
      "3.457 -- RamProcessPoolFinder\n",
      "-----\n",
      "Test #011\n"
     ]
    },
    {
     "name": "stderr",
     "output_type": "stream",
     "text": [
      "Buckets number: 772\n"
     ]
    },
    {
     "name": "stdout",
     "output_type": "stream",
     "text": [
      "0.379 -- ProcessPoolFinder\n"
     ]
    },
    {
     "name": "stderr",
     "output_type": "stream",
     "text": [
      "Buckets number: 772\n"
     ]
    },
    {
     "name": "stdout",
     "output_type": "stream",
     "text": [
      "0.943 -- RamProcessPoolFinder\n",
      "-----\n",
      "Test #012\n"
     ]
    },
    {
     "name": "stderr",
     "output_type": "stream",
     "text": [
      "Buckets number: 480\n"
     ]
    },
    {
     "name": "stdout",
     "output_type": "stream",
     "text": [
      "1.623 -- ProcessPoolFinder\n"
     ]
    },
    {
     "name": "stderr",
     "output_type": "stream",
     "text": [
      "Buckets number: 480\n"
     ]
    },
    {
     "name": "stdout",
     "output_type": "stream",
     "text": [
      "2.105 -- RamProcessPoolFinder\n",
      "-----\n",
      "Test #013\n"
     ]
    },
    {
     "name": "stderr",
     "output_type": "stream",
     "text": [
      "Buckets number: 139\n"
     ]
    },
    {
     "name": "stdout",
     "output_type": "stream",
     "text": [
      "3.708 -- ProcessPoolFinder\n"
     ]
    },
    {
     "name": "stderr",
     "output_type": "stream",
     "text": [
      "Buckets number: 139\n"
     ]
    },
    {
     "name": "stdout",
     "output_type": "stream",
     "text": [
      "3.440 -- RamProcessPoolFinder\n",
      "-----\n",
      "Test #014\n"
     ]
    },
    {
     "name": "stderr",
     "output_type": "stream",
     "text": [
      "Buckets number: 190\n"
     ]
    },
    {
     "name": "stdout",
     "output_type": "stream",
     "text": [
      "1.319 -- ProcessPoolFinder\n"
     ]
    },
    {
     "name": "stderr",
     "output_type": "stream",
     "text": [
      "Buckets number: 190\n"
     ]
    },
    {
     "name": "stdout",
     "output_type": "stream",
     "text": [
      "1.338 -- RamProcessPoolFinder\n",
      "-----\n",
      "Test #015\n"
     ]
    },
    {
     "name": "stderr",
     "output_type": "stream",
     "text": [
      "Buckets number: 196\n"
     ]
    },
    {
     "name": "stdout",
     "output_type": "stream",
     "text": [
      "1.253 -- ProcessPoolFinder\n"
     ]
    },
    {
     "name": "stderr",
     "output_type": "stream",
     "text": [
      "Buckets number: 196\n"
     ]
    },
    {
     "name": "stdout",
     "output_type": "stream",
     "text": [
      "1.720 -- RamProcessPoolFinder\n",
      "-----\n",
      "Test #016\n"
     ]
    },
    {
     "name": "stderr",
     "output_type": "stream",
     "text": [
      "Buckets number: 198\n"
     ]
    },
    {
     "name": "stdout",
     "output_type": "stream",
     "text": [
      "0.631 -- ProcessPoolFinder\n"
     ]
    },
    {
     "name": "stderr",
     "output_type": "stream",
     "text": [
      "Buckets number: 198\n"
     ]
    },
    {
     "name": "stdout",
     "output_type": "stream",
     "text": [
      "0.932 -- RamProcessPoolFinder\n",
      "-----\n",
      "Test #017\n"
     ]
    },
    {
     "name": "stderr",
     "output_type": "stream",
     "text": [
      "Buckets number: 378\n"
     ]
    },
    {
     "name": "stdout",
     "output_type": "stream",
     "text": [
      "4.448 -- ProcessPoolFinder\n"
     ]
    },
    {
     "name": "stderr",
     "output_type": "stream",
     "text": [
      "Buckets number: 378\n"
     ]
    },
    {
     "name": "stdout",
     "output_type": "stream",
     "text": [
      "1.611 -- RamProcessPoolFinder\n",
      "-----\n",
      "Test #018\n"
     ]
    },
    {
     "name": "stderr",
     "output_type": "stream",
     "text": [
      "Buckets number: 139\n"
     ]
    },
    {
     "name": "stdout",
     "output_type": "stream",
     "text": [
      "0.877 -- ProcessPoolFinder\n"
     ]
    },
    {
     "name": "stderr",
     "output_type": "stream",
     "text": [
      "Buckets number: 139\n"
     ]
    },
    {
     "name": "stdout",
     "output_type": "stream",
     "text": [
      "0.709 -- RamProcessPoolFinder\n",
      "-----\n",
      "Test #019\n"
     ]
    },
    {
     "name": "stderr",
     "output_type": "stream",
     "text": [
      "Buckets number: 417\n"
     ]
    },
    {
     "name": "stdout",
     "output_type": "stream",
     "text": [
      "1.593 -- ProcessPoolFinder\n"
     ]
    },
    {
     "name": "stderr",
     "output_type": "stream",
     "text": [
      "Buckets number: 417\n"
     ]
    },
    {
     "name": "stdout",
     "output_type": "stream",
     "text": [
      "3.175 -- RamProcessPoolFinder\n",
      "-----\n",
      "Test #020\n"
     ]
    },
    {
     "name": "stderr",
     "output_type": "stream",
     "text": [
      "Buckets number: 354\n"
     ]
    },
    {
     "name": "stdout",
     "output_type": "stream",
     "text": [
      "1.359 -- ProcessPoolFinder\n"
     ]
    },
    {
     "name": "stderr",
     "output_type": "stream",
     "text": [
      "Buckets number: 354\n"
     ]
    },
    {
     "name": "stdout",
     "output_type": "stream",
     "text": [
      "2.211 -- RamProcessPoolFinder\n",
      "-----\n",
      "Test #021\n"
     ]
    },
    {
     "name": "stderr",
     "output_type": "stream",
     "text": [
      "Buckets number: 327\n"
     ]
    },
    {
     "name": "stdout",
     "output_type": "stream",
     "text": [
      "2.088 -- ProcessPoolFinder\n"
     ]
    },
    {
     "name": "stderr",
     "output_type": "stream",
     "text": [
      "Buckets number: 327\n"
     ]
    },
    {
     "name": "stdout",
     "output_type": "stream",
     "text": [
      "1.627 -- RamProcessPoolFinder\n",
      "-----\n",
      "Test #022\n"
     ]
    },
    {
     "name": "stderr",
     "output_type": "stream",
     "text": [
      "Buckets number: 478\n"
     ]
    },
    {
     "name": "stdout",
     "output_type": "stream",
     "text": [
      "1.827 -- ProcessPoolFinder\n"
     ]
    },
    {
     "name": "stderr",
     "output_type": "stream",
     "text": [
      "Buckets number: 478\n"
     ]
    },
    {
     "name": "stdout",
     "output_type": "stream",
     "text": [
      "2.311 -- RamProcessPoolFinder\n",
      "-----\n",
      "Test #023\n"
     ]
    },
    {
     "name": "stderr",
     "output_type": "stream",
     "text": [
      "Buckets number: 348\n"
     ]
    },
    {
     "name": "stdout",
     "output_type": "stream",
     "text": [
      "2.606 -- ProcessPoolFinder\n"
     ]
    },
    {
     "name": "stderr",
     "output_type": "stream",
     "text": [
      "Buckets number: 348\n"
     ]
    },
    {
     "name": "stdout",
     "output_type": "stream",
     "text": [
      "1.959 -- RamProcessPoolFinder\n",
      "-----\n",
      "Test #024\n"
     ]
    },
    {
     "name": "stderr",
     "output_type": "stream",
     "text": [
      "Buckets number: 582\n"
     ]
    },
    {
     "name": "stdout",
     "output_type": "stream",
     "text": [
      "3.611 -- ProcessPoolFinder\n"
     ]
    },
    {
     "name": "stderr",
     "output_type": "stream",
     "text": [
      "Buckets number: 582\n"
     ]
    },
    {
     "name": "stdout",
     "output_type": "stream",
     "text": [
      "2.217 -- RamProcessPoolFinder\n",
      "-----\n",
      "Test #025\n"
     ]
    },
    {
     "name": "stderr",
     "output_type": "stream",
     "text": [
      "Buckets number: 294\n"
     ]
    },
    {
     "name": "stdout",
     "output_type": "stream",
     "text": [
      "1.547 -- ProcessPoolFinder\n"
     ]
    },
    {
     "name": "stderr",
     "output_type": "stream",
     "text": [
      "Buckets number: 294\n"
     ]
    },
    {
     "name": "stdout",
     "output_type": "stream",
     "text": [
      "1.390 -- RamProcessPoolFinder\n",
      "-----\n",
      "Test #026\n"
     ]
    },
    {
     "name": "stderr",
     "output_type": "stream",
     "text": [
      "Buckets number: 378\n"
     ]
    },
    {
     "name": "stdout",
     "output_type": "stream",
     "text": [
      "2.733 -- ProcessPoolFinder\n"
     ]
    },
    {
     "name": "stderr",
     "output_type": "stream",
     "text": [
      "Buckets number: 378\n"
     ]
    },
    {
     "name": "stdout",
     "output_type": "stream",
     "text": [
      "1.589 -- RamProcessPoolFinder\n",
      "-----\n",
      "Test #027\n"
     ]
    },
    {
     "name": "stderr",
     "output_type": "stream",
     "text": [
      "Buckets number: 181\n"
     ]
    },
    {
     "name": "stdout",
     "output_type": "stream",
     "text": [
      "0.851 -- ProcessPoolFinder\n"
     ]
    },
    {
     "name": "stderr",
     "output_type": "stream",
     "text": [
      "Buckets number: 181\n"
     ]
    },
    {
     "name": "stdout",
     "output_type": "stream",
     "text": [
      "0.927 -- RamProcessPoolFinder\n",
      "-----\n",
      "Test #028\n"
     ]
    },
    {
     "name": "stderr",
     "output_type": "stream",
     "text": [
      "Buckets number: 172\n"
     ]
    },
    {
     "name": "stdout",
     "output_type": "stream",
     "text": [
      "1.324 -- ProcessPoolFinder\n"
     ]
    },
    {
     "name": "stderr",
     "output_type": "stream",
     "text": [
      "Buckets number: 172\n"
     ]
    },
    {
     "name": "stdout",
     "output_type": "stream",
     "text": [
      "0.894 -- RamProcessPoolFinder\n",
      "-----\n",
      "Test #029\n"
     ]
    },
    {
     "name": "stderr",
     "output_type": "stream",
     "text": [
      "Buckets number: 334\n"
     ]
    },
    {
     "name": "stdout",
     "output_type": "stream",
     "text": [
      "2.294 -- ProcessPoolFinder\n"
     ]
    },
    {
     "name": "stderr",
     "output_type": "stream",
     "text": [
      "Buckets number: 334\n"
     ]
    },
    {
     "name": "stdout",
     "output_type": "stream",
     "text": [
      "1.382 -- RamProcessPoolFinder\n",
      "-----\n",
      "Test #030\n"
     ]
    },
    {
     "name": "stderr",
     "output_type": "stream",
     "text": [
      "Buckets number: 177\n"
     ]
    },
    {
     "name": "stdout",
     "output_type": "stream",
     "text": [
      "1.229 -- ProcessPoolFinder\n"
     ]
    },
    {
     "name": "stderr",
     "output_type": "stream",
     "text": [
      "Buckets number: 177\n"
     ]
    },
    {
     "name": "stdout",
     "output_type": "stream",
     "text": [
      "0.813 -- RamProcessPoolFinder\n",
      "-----\n",
      "Test #031\n"
     ]
    },
    {
     "name": "stderr",
     "output_type": "stream",
     "text": [
      "Buckets number: 328\n"
     ]
    },
    {
     "name": "stdout",
     "output_type": "stream",
     "text": [
      "2.156 -- ProcessPoolFinder\n"
     ]
    },
    {
     "name": "stderr",
     "output_type": "stream",
     "text": [
      "Buckets number: 328\n"
     ]
    },
    {
     "name": "stdout",
     "output_type": "stream",
     "text": [
      "1.463 -- RamProcessPoolFinder\n",
      "-----\n",
      "Test #032\n"
     ]
    },
    {
     "name": "stderr",
     "output_type": "stream",
     "text": [
      "Buckets number: 165\n"
     ]
    },
    {
     "name": "stdout",
     "output_type": "stream",
     "text": [
      "0.958 -- ProcessPoolFinder\n"
     ]
    },
    {
     "name": "stderr",
     "output_type": "stream",
     "text": [
      "Buckets number: 165\n"
     ]
    },
    {
     "name": "stdout",
     "output_type": "stream",
     "text": [
      "0.902 -- RamProcessPoolFinder\n",
      "-----\n",
      "Test #033\n"
     ]
    },
    {
     "name": "stderr",
     "output_type": "stream",
     "text": [
      "Buckets number: 146\n"
     ]
    },
    {
     "name": "stdout",
     "output_type": "stream",
     "text": [
      "0.882 -- ProcessPoolFinder\n"
     ]
    },
    {
     "name": "stderr",
     "output_type": "stream",
     "text": [
      "Buckets number: 146\n"
     ]
    },
    {
     "name": "stdout",
     "output_type": "stream",
     "text": [
      "0.864 -- RamProcessPoolFinder\n",
      "-----\n",
      "Test #034\n"
     ]
    },
    {
     "name": "stderr",
     "output_type": "stream",
     "text": [
      "Buckets number: 182\n"
     ]
    },
    {
     "name": "stdout",
     "output_type": "stream",
     "text": [
      "1.546 -- ProcessPoolFinder\n"
     ]
    },
    {
     "name": "stderr",
     "output_type": "stream",
     "text": [
      "Buckets number: 182\n"
     ]
    },
    {
     "name": "stdout",
     "output_type": "stream",
     "text": [
      "0.949 -- RamProcessPoolFinder\n",
      "-----\n",
      "Test #035\n"
     ]
    },
    {
     "name": "stderr",
     "output_type": "stream",
     "text": [
      "Buckets number: 201\n"
     ]
    },
    {
     "name": "stdout",
     "output_type": "stream",
     "text": [
      "1.515 -- ProcessPoolFinder\n"
     ]
    },
    {
     "name": "stderr",
     "output_type": "stream",
     "text": [
      "Buckets number: 201\n"
     ]
    },
    {
     "name": "stdout",
     "output_type": "stream",
     "text": [
      "0.927 -- RamProcessPoolFinder\n",
      "-----\n",
      "Test #036\n"
     ]
    },
    {
     "name": "stderr",
     "output_type": "stream",
     "text": [
      "Buckets number: 184\n"
     ]
    },
    {
     "name": "stdout",
     "output_type": "stream",
     "text": [
      "0.291 -- ProcessPoolFinder\n"
     ]
    },
    {
     "name": "stderr",
     "output_type": "stream",
     "text": [
      "Buckets number: 184\n"
     ]
    },
    {
     "name": "stdout",
     "output_type": "stream",
     "text": [
      "0.639 -- RamProcessPoolFinder\n",
      "-----\n",
      "Test #037\n"
     ]
    },
    {
     "name": "stderr",
     "output_type": "stream",
     "text": [
      "Buckets number: 207\n"
     ]
    },
    {
     "name": "stdout",
     "output_type": "stream",
     "text": [
      "0.798 -- ProcessPoolFinder\n"
     ]
    },
    {
     "name": "stderr",
     "output_type": "stream",
     "text": [
      "Buckets number: 207\n"
     ]
    },
    {
     "name": "stdout",
     "output_type": "stream",
     "text": [
      "0.951 -- RamProcessPoolFinder\n",
      "-----\n",
      "Test #038\n"
     ]
    },
    {
     "name": "stderr",
     "output_type": "stream",
     "text": [
      "Buckets number: 277\n"
     ]
    },
    {
     "name": "stdout",
     "output_type": "stream",
     "text": [
      "0.818 -- ProcessPoolFinder\n"
     ]
    },
    {
     "name": "stderr",
     "output_type": "stream",
     "text": [
      "Buckets number: 277\n"
     ]
    },
    {
     "name": "stdout",
     "output_type": "stream",
     "text": [
      "1.108 -- RamProcessPoolFinder\n",
      "-----\n",
      "Test #039\n"
     ]
    },
    {
     "name": "stderr",
     "output_type": "stream",
     "text": [
      "Buckets number: 139\n"
     ]
    }
   ],
   "source": [
    "stat = speed_tester.test_all(queries_fp, ans_count=10, verbose=True)"
   ]
  },
  {
   "cell_type": "code",
   "execution_count": 11,
   "id": "0a1acbfa",
   "metadata": {
    "scrolled": true
   },
   "outputs": [
    {
     "data": {
      "text/plain": [
       "ProcessPoolFinder:\n",
       "\t0.182 -- min\n",
       "\t21.737 -- max\n",
       "\t3.635 -- mean\n",
       "\t2.653 -- median"
      ]
     },
     "execution_count": 11,
     "metadata": {},
     "output_type": "execute_result"
    }
   ],
   "source": [
    "stat"
   ]
  },
  {
   "cell_type": "code",
   "execution_count": 12,
   "id": "10949584",
   "metadata": {},
   "outputs": [
    {
     "data": {
      "image/png": "[encoded data removed]",
      "text/plain": [
       "<Figure size 576x576 with 1 Axes>"
      ]
     },
     "metadata": {
      "needs_background": "light"
     },
     "output_type": "display_data"
    }
   ],
   "source": [
    "stat.as_boxplot()"
   ]
  },
  {
   "cell_type": "markdown",
   "id": "e177c134",
   "metadata": {},
   "source": [
    "### Draw answers"
   ]
  },
  {
   "cell_type": "code",
   "execution_count": 8,
   "id": "80e08f96",
   "metadata": {},
   "outputs": [],
   "source": [
    "from fp_utils.draw import MoleculeDrawer"
   ]
  },
  {
   "cell_type": "code",
   "execution_count": 9,
   "id": "d71cffe1",
   "metadata": {
    "scrolled": false
   },
   "outputs": [
    {
     "data": {
      "image/png": "[encoded data removed]",
      "text/plain": [
       "<PIL.PngImagePlugin.PngImageFile image mode=RGB size=300x300 at 0x7FB6A5003E80>"
      ]
     },
     "execution_count": 9,
     "metadata": {},
     "output_type": "execute_result"
    }
   ],
   "source": [
    "query = 'Br-N-Cl'\n",
    "# query = queries[0]\n",
    "MoleculeDrawer.draw_one(query)"
   ]
  },
  {
   "cell_type": "code",
   "execution_count": 10,
   "id": "cc36cba2",
   "metadata": {
    "scrolled": false
   },
   "outputs": [
    {
     "name": "stderr",
     "output_type": "stream",
     "text": [
      "Buckets number: 900\n"
     ]
    },
    {
     "name": "stdout",
     "output_type": "stream",
     "text": [
      "2.281s -- search\n"
     ]
    },
    {
     "data": {
      "text/plain": [
       "2"
      ]
     },
     "execution_count": 10,
     "metadata": {},
     "output_type": "execute_result"
    }
   ],
   "source": [
    "answers = search(query, ram_process_pool_finder, ans_count=10)\n",
    "len(answers)"
   ]
  },
  {
   "cell_type": "code",
   "execution_count": 11,
   "id": "64801f6d",
   "metadata": {},
   "outputs": [
    {
     "data": {
      "image/png": "[encoded data removed]",
      "text/plain": [
       "<Figure size 1440x1440 with 9 Axes>"
      ]
     },
     "metadata": {
      "needs_background": "light"
     },
     "output_type": "display_data"
    }
   ],
   "source": [
    "MoleculeDrawer.draw_many(answers, figsize=(20, 20), shape=(3, 3))"
   ]
  },
  {
   "cell_type": "code",
   "execution_count": null,
   "id": "f8eb02af",
   "metadata": {},
   "outputs": [],
   "source": []
  }
 ],
 "metadata": {
  "kernelspec": {
   "display_name": "Python 3 (ipykernel)",
   "language": "python",
   "name": "python3"
  },
  "language_info": {
   "codemirror_mode": {
    "name": "ipython",
    "version": 3
   },
   "file_extension": ".py",
   "mimetype": "text/x-python",
   "name": "python",
   "nbconvert_exporter": "python",
   "pygments_lexer": "ipython3",
   "version": "3.10.5"
  }
 },
 "nbformat": 4,
 "nbformat_minor": 5
}
