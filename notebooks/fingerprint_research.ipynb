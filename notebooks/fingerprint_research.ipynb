{
 "cells": [
  {
   "cell_type": "code",
   "execution_count": 1,
   "id": "f0eb7b7a",
   "metadata": {},
   "outputs": [],
   "source": [
    "import pandas as pd\n",
    "import matplotlib.pyplot as plt\n",
    "import numpy as np\n",
    "from sklearn.decomposition import PCA\n",
    "from rdkit import Chem"
   ]
  },
  {
   "cell_type": "code",
   "execution_count": 2,
   "id": "3296c4cc",
   "metadata": {},
   "outputs": [],
   "source": [
    "mols = Chem.MultithreadedSDMolSupplier('./119697.sdf', numWriterThreads=10)"
   ]
  },
  {
   "cell_type": "code",
   "execution_count": 3,
   "id": "6ec6da4f",
   "metadata": {},
   "outputs": [],
   "source": [
    "mols = [m for m in mols]"
   ]
  },
  {
   "cell_type": "code",
   "execution_count": 12,
   "id": "28d51911",
   "metadata": {},
   "outputs": [],
   "source": [
    "df = pd.read_csv(\"fingerprints_119697.txt\", sep=\" \", names=['id', 'fingerprint'], index_col=0)"
   ]
  },
  {
   "cell_type": "code",
   "execution_count": 13,
   "id": "9f18c84d",
   "metadata": {},
   "outputs": [],
   "source": [
    "def bin_format(number, num_of_bits=3736):\n",
    "    return list(map(int, list(bin(int(number, 16))[2:].zfill(num_of_bits))))"
   ]
  },
  {
   "cell_type": "code",
   "execution_count": 14,
   "id": "81dde6c1",
   "metadata": {},
   "outputs": [],
   "source": [
    "df['fingerprint'] = df['fingerprint'].apply(bin_format)"
   ]
  },
  {
   "cell_type": "code",
   "execution_count": 78,
   "id": "4a237918",
   "metadata": {},
   "outputs": [],
   "source": [
    "split_df = pd.DataFrame(df['fingerprint'].tolist())"
   ]
  },
  {
   "cell_type": "code",
   "execution_count": 81,
   "id": "4fbb831c",
   "metadata": {},
   "outputs": [
    {
     "data": {
      "text/html": [
       "<div>\n",
       "<style scoped>\n",
       "    .dataframe tbody tr th:only-of-type {\n",
       "        vertical-align: middle;\n",
       "    }\n",
       "\n",
       "    .dataframe tbody tr th {\n",
       "        vertical-align: top;\n",
       "    }\n",
       "\n",
       "    .dataframe thead th {\n",
       "        text-align: right;\n",
       "    }\n",
       "</style>\n",
       "<table border=\"1\" class=\"dataframe\">\n",
       "  <thead>\n",
       "    <tr style=\"text-align: right;\">\n",
       "      <th></th>\n",
       "      <th>0</th>\n",
       "      <th>1</th>\n",
       "      <th>2</th>\n",
       "      <th>3</th>\n",
       "      <th>4</th>\n",
       "      <th>5</th>\n",
       "      <th>6</th>\n",
       "      <th>7</th>\n",
       "      <th>8</th>\n",
       "      <th>9</th>\n",
       "      <th>...</th>\n",
       "      <th>3726</th>\n",
       "      <th>3727</th>\n",
       "      <th>3728</th>\n",
       "      <th>3729</th>\n",
       "      <th>3730</th>\n",
       "      <th>3731</th>\n",
       "      <th>3732</th>\n",
       "      <th>3733</th>\n",
       "      <th>3734</th>\n",
       "      <th>3735</th>\n",
       "    </tr>\n",
       "  </thead>\n",
       "  <tbody>\n",
       "    <tr>\n",
       "      <th>count</th>\n",
       "      <td>119697</td>\n",
       "      <td>119697</td>\n",
       "      <td>119697</td>\n",
       "      <td>119697</td>\n",
       "      <td>119697</td>\n",
       "      <td>119697</td>\n",
       "      <td>119697</td>\n",
       "      <td>119697</td>\n",
       "      <td>119697</td>\n",
       "      <td>119697</td>\n",
       "      <td>...</td>\n",
       "      <td>119697</td>\n",
       "      <td>119697</td>\n",
       "      <td>119697</td>\n",
       "      <td>119697</td>\n",
       "      <td>119697</td>\n",
       "      <td>119697</td>\n",
       "      <td>119697</td>\n",
       "      <td>119697</td>\n",
       "      <td>119697</td>\n",
       "      <td>119697</td>\n",
       "    </tr>\n",
       "    <tr>\n",
       "      <th>unique</th>\n",
       "      <td>2</td>\n",
       "      <td>2</td>\n",
       "      <td>2</td>\n",
       "      <td>2</td>\n",
       "      <td>2</td>\n",
       "      <td>2</td>\n",
       "      <td>2</td>\n",
       "      <td>2</td>\n",
       "      <td>1</td>\n",
       "      <td>2</td>\n",
       "      <td>...</td>\n",
       "      <td>2</td>\n",
       "      <td>2</td>\n",
       "      <td>2</td>\n",
       "      <td>2</td>\n",
       "      <td>2</td>\n",
       "      <td>2</td>\n",
       "      <td>2</td>\n",
       "      <td>2</td>\n",
       "      <td>2</td>\n",
       "      <td>2</td>\n",
       "    </tr>\n",
       "    <tr>\n",
       "      <th>top</th>\n",
       "      <td>0</td>\n",
       "      <td>0</td>\n",
       "      <td>0</td>\n",
       "      <td>1</td>\n",
       "      <td>1</td>\n",
       "      <td>1</td>\n",
       "      <td>1</td>\n",
       "      <td>1</td>\n",
       "      <td>0</td>\n",
       "      <td>0</td>\n",
       "      <td>...</td>\n",
       "      <td>1</td>\n",
       "      <td>1</td>\n",
       "      <td>0</td>\n",
       "      <td>1</td>\n",
       "      <td>1</td>\n",
       "      <td>0</td>\n",
       "      <td>0</td>\n",
       "      <td>1</td>\n",
       "      <td>1</td>\n",
       "      <td>1</td>\n",
       "    </tr>\n",
       "    <tr>\n",
       "      <th>freq</th>\n",
       "      <td>119656</td>\n",
       "      <td>102785</td>\n",
       "      <td>79377</td>\n",
       "      <td>74634</td>\n",
       "      <td>106718</td>\n",
       "      <td>79837</td>\n",
       "      <td>104658</td>\n",
       "      <td>115492</td>\n",
       "      <td>119697</td>\n",
       "      <td>112935</td>\n",
       "      <td>...</td>\n",
       "      <td>118060</td>\n",
       "      <td>96319</td>\n",
       "      <td>98512</td>\n",
       "      <td>94248</td>\n",
       "      <td>65512</td>\n",
       "      <td>84357</td>\n",
       "      <td>109417</td>\n",
       "      <td>72215</td>\n",
       "      <td>83925</td>\n",
       "      <td>117782</td>\n",
       "    </tr>\n",
       "  </tbody>\n",
       "</table>\n",
       "<p>4 rows × 3736 columns</p>\n",
       "</div>"
      ],
      "text/plain": [
       "          0       1       2       3       4       5       6       7     \\\n",
       "count   119697  119697  119697  119697  119697  119697  119697  119697   \n",
       "unique       2       2       2       2       2       2       2       2   \n",
       "top          0       0       0       1       1       1       1       1   \n",
       "freq    119656  102785   79377   74634  106718   79837  104658  115492   \n",
       "\n",
       "          8       9     ...    3726    3727    3728    3729    3730    3731  \\\n",
       "count   119697  119697  ...  119697  119697  119697  119697  119697  119697   \n",
       "unique       1       2  ...       2       2       2       2       2       2   \n",
       "top          0       0  ...       1       1       0       1       1       0   \n",
       "freq    119697  112935  ...  118060   96319   98512   94248   65512   84357   \n",
       "\n",
       "          3732    3733    3734    3735  \n",
       "count   119697  119697  119697  119697  \n",
       "unique       2       2       2       2  \n",
       "top          0       1       1       1  \n",
       "freq    109417   72215   83925  117782  \n",
       "\n",
       "[4 rows x 3736 columns]"
      ]
     },
     "execution_count": 81,
     "metadata": {},
     "output_type": "execute_result"
    }
   ],
   "source": [
    "split_df.describe()"
   ]
  },
  {
   "cell_type": "code",
   "execution_count": 15,
   "id": "19c331bd",
   "metadata": {},
   "outputs": [],
   "source": [
    "# df_5000 = df.sample(n=50000)\n",
    "df_5000 = df"
   ]
  },
  {
   "cell_type": "code",
   "execution_count": 16,
   "id": "6d31e79b",
   "metadata": {},
   "outputs": [
    {
     "data": {
      "text/plain": [
       "id\n",
       "26000020    [0, 0, 1, 0, 1, 1, 1, 1, 0, 0, 0, 0, 0, 0, 0, ...\n",
       "26000026    [0, 1, 1, 0, 1, 1, 1, 1, 0, 0, 0, 0, 0, 0, 0, ...\n",
       "26000033    [0, 0, 0, 1, 1, 0, 0, 0, 0, 0, 0, 0, 0, 1, 0, ...\n",
       "26000039    [0, 1, 1, 0, 1, 1, 1, 1, 0, 0, 0, 0, 0, 0, 0, ...\n",
       "26000046    [0, 1, 1, 0, 1, 1, 1, 1, 0, 0, 0, 0, 0, 0, 0, ...\n",
       "                                  ...                        \n",
       "26499992    [0, 0, 1, 1, 1, 1, 1, 1, 0, 0, 0, 0, 0, 0, 0, ...\n",
       "26499994    [0, 0, 0, 1, 1, 0, 1, 1, 0, 0, 0, 0, 0, 0, 0, ...\n",
       "26499995    [0, 0, 0, 1, 1, 1, 1, 1, 0, 0, 0, 0, 0, 0, 0, ...\n",
       "26499999    [0, 0, 1, 1, 1, 1, 1, 1, 0, 0, 0, 0, 0, 0, 0, ...\n",
       "26500000    [0, 0, 1, 1, 1, 1, 1, 1, 0, 0, 0, 0, 0, 0, 0, ...\n",
       "Name: fingerprint, Length: 119697, dtype: object"
      ]
     },
     "execution_count": 16,
     "metadata": {},
     "output_type": "execute_result"
    }
   ],
   "source": [
    "df_5000.fingerprint"
   ]
  },
  {
   "cell_type": "code",
   "execution_count": 10,
   "id": "9f358238",
   "metadata": {},
   "outputs": [],
   "source": [
    "from sklearn.decomposition import PCA"
   ]
  },
  {
   "cell_type": "code",
   "execution_count": 18,
   "id": "89a2f239",
   "metadata": {},
   "outputs": [],
   "source": [
    "X = df_5000.fingerprint.to_list()"
   ]
  },
  {
   "cell_type": "code",
   "execution_count": 63,
   "id": "ad725741",
   "metadata": {},
   "outputs": [
    {
     "data": {
      "text/plain": [
       "PCA(n_components=1000)"
      ]
     },
     "execution_count": 63,
     "metadata": {},
     "output_type": "execute_result"
    }
   ],
   "source": [
    "pca = PCA(n_components=1000)\n",
    "pca.fit(X)"
   ]
  },
  {
   "cell_type": "code",
   "execution_count": 64,
   "id": "81ba13a6",
   "metadata": {},
   "outputs": [],
   "source": [
    "X_pca = pca.fit_transform(X)"
   ]
  },
  {
   "cell_type": "code",
   "execution_count": 23,
   "id": "c81a693f",
   "metadata": {},
   "outputs": [],
   "source": [
    "from sklearn.cluster import KMeans"
   ]
  },
  {
   "cell_type": "code",
   "execution_count": 61,
   "id": "af494628",
   "metadata": {},
   "outputs": [
    {
     "name": "stdout",
     "output_type": "stream",
     "text": [
      "1\n",
      "11\n",
      "21\n",
      "31\n",
      "41\n",
      "51\n",
      "61\n",
      "71\n",
      "81\n",
      "91\n"
     ]
    }
   ],
   "source": [
    "sse = []\n",
    "ks = range(1, 100, 10)\n",
    "for k in ks:\n",
    "    print(k)\n",
    "    kmeans = KMeans(n_clusters=k, random_state=1).fit(X_pca)\n",
    "    sse.append(np.sqrt(kmeans.inertia_))"
   ]
  },
  {
   "cell_type": "code",
   "execution_count": 62,
   "id": "0dc05a48",
   "metadata": {},
   "outputs": [
    {
     "data": {
      "image/png": "[encoded data removed]",
      "text/plain": [
       "<Figure size 432x288 with 1 Axes>"
      ]
     },
     "metadata": {},
     "output_type": "display_data"
    }
   ],
   "source": [
    "plt.style.use(\"fivethirtyeight\")\n",
    "plt.plot(ks, sse)\n",
    "plt.xticks(ks)\n",
    "plt.xlabel(\"Number of Clusters\")\n",
    "plt.ylabel(\"SSE\")\n",
    "plt.show()"
   ]
  },
  {
   "cell_type": "code",
   "execution_count": 19,
   "id": "2057c187",
   "metadata": {},
   "outputs": [],
   "source": [
    "from sklearn.neighbors import KDTree"
   ]
  },
  {
   "cell_type": "code",
   "execution_count": 20,
   "id": "aa94168e",
   "metadata": {},
   "outputs": [],
   "source": [
    "tree = KDTree(X, leaf_size=2)              "
   ]
  },
  {
   "cell_type": "code",
   "execution_count": 40,
   "id": "71d9655e",
   "metadata": {},
   "outputs": [],
   "source": [
    "dist, ind = tree.query([X[20000]], k=10)   "
   ]
  },
  {
   "cell_type": "code",
   "execution_count": 41,
   "id": "b5c9d498",
   "metadata": {},
   "outputs": [
    {
     "data": {
      "text/plain": [
       "(array([[ 0.        ,  5.56776436, 10.81665383, 11.48912529, 11.5758369 ,\n",
       "         12.4498996 , 13.        , 13.03840481, 13.37908816, 13.52774926]]),\n",
       " array([[20000, 20146, 19949, 20130, 19993, 20138, 20270, 20176, 20299,\n",
       "         20123]]))"
      ]
     },
     "execution_count": 41,
     "metadata": {},
     "output_type": "execute_result"
    }
   ],
   "source": [
    "dist, ind"
   ]
  },
  {
   "cell_type": "code",
   "execution_count": 60,
   "id": "63eda6af",
   "metadata": {},
   "outputs": [
    {
     "data": {
      "text/plain": [
       "119697"
      ]
     },
     "execution_count": 60,
     "metadata": {},
     "output_type": "execute_result"
    }
   ],
   "source": [
    "len(X_pca)"
   ]
  },
  {
   "cell_type": "code",
   "execution_count": 68,
   "id": "a8e4453b",
   "metadata": {},
   "outputs": [
    {
     "name": "stdout",
     "output_type": "stream",
     "text": [
      "                                                fingerprint\n",
      "id                                                         \n",
      "26000020  [0, 0, 1, 0, 1, 1, 1, 1, 0, 0, 0, 0, 0, 0, 0, ...\n",
      "26013936  [0, 0, 0, 0, 1, 1, 1, 1, 0, 0, 0, 0, 0, 0, 0, ...\n",
      "26187389  [0, 0, 0, 0, 1, 1, 1, 1, 0, 0, 0, 0, 0, 0, 0, ...\n"
     ]
    }
   ],
   "source": [
    "for i in ind:\n",
    "    print(df_5000.iloc[i])"
   ]
  },
  {
   "cell_type": "code",
   "execution_count": 43,
   "id": "657b138b",
   "metadata": {},
   "outputs": [
    {
     "data": {
      "image/png": "[encoded data removed]",
      "text/html": [
       "<table><tr><td colspan=2 style=\"text-align:center\"><image src=\"data:image/png;base64,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\"></td></tr>\n",
       "<tr><th style=\"text-align:right\">PUBCHEM_COMPOUND_CID</th><td style=\"text-align:left\">26120316</td></tr>\n",
       "<tr><th style=\"text-align:right\">PUBCHEM_COMPOUND_CANONICALIZED</th><td style=\"text-align:left\">1</td></tr>\n",
       "<tr><th style=\"text-align:right\">PUBCHEM_CACTVS_COMPLEXITY</th><td style=\"text-align:left\">356</td></tr>\n",
       "<tr><th style=\"text-align:right\">PUBCHEM_CACTVS_HBOND_ACCEPTOR</th><td style=\"text-align:left\">5</td></tr>\n",
       "<tr><th style=\"text-align:right\">PUBCHEM_CACTVS_HBOND_DONOR</th><td style=\"text-align:left\">2</td></tr>\n",
       "<tr><th style=\"text-align:right\">PUBCHEM_CACTVS_ROTATABLE_BOND</th><td style=\"text-align:left\">5</td></tr>\n",
       "<tr><th style=\"text-align:right\">PUBCHEM_CACTVS_SUBSKEYS</th><td style=\"text-align:left\">AAADceB7sAAAAAAAAAAAAAAAAAAAAAAAAAA8QAAAAAAAAAABwAAAHgAYAAAADAyhngIzlpZqFACoAyVydAKCiCkhIqIfuCB2bJiOLiLE+d6HPCjs0BNI6CeAwGAOIAACAAAIAABAAAQAABAAAAAAAAAAAA==</td></tr>\n",
       "<tr><th style=\"text-align:right\">PUBCHEM_IUPAC_OPENEYE_NAME</th><td style=\"text-align:left\">2-(2,4-dimethylphenoxy)-N'-(4,6-dimethylpyrimidin-2-yl)acetohydrazide</td></tr>\n",
       "<tr><th style=\"text-align:right\">PUBCHEM_IUPAC_CAS_NAME</th><td style=\"text-align:left\">2-(2,4-dimethylphenoxy)-N'-(4,6-dimethyl-2-pyrimidinyl)acetohydrazide</td></tr>\n",
       "<tr><th style=\"text-align:right\">PUBCHEM_IUPAC_NAME_MARKUP</th><td style=\"text-align:left\">2-(2,4-dimethylphenoxy)-<I>N</I>&apos;-(4,6-dimethylpyrimidin-2-yl)acetohydrazide</td></tr>\n",
       "<tr><td colspan=2 style=\"text-align:center\">Property list truncated.<br />Increase IPythonConsole.ipython_maxProperties (or set it to -1) to see more properties.</td></tr></table>"
      ],
      "text/plain": [
       "<rdkit.Chem.rdchem.Mol at 0x19ab0b220>"
      ]
     },
     "execution_count": 43,
     "metadata": {},
     "output_type": "execute_result"
    }
   ],
   "source": [
    "mols[20000] # молекула запроса"
   ]
  },
  {
   "cell_type": "code",
   "execution_count": 47,
   "id": "25a81145",
   "metadata": {},
   "outputs": [
    {
     "data": {
      "image/png": "[encoded data removed]",
      "text/html": [
       "<table><tr><td colspan=2 style=\"text-align:center\"><image src=\"data:image/png;base64,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\"></td></tr>\n",
       "<tr><th style=\"text-align:right\">PUBCHEM_COMPOUND_CID</th><td style=\"text-align:left\">26120804</td></tr>\n",
       "<tr><th style=\"text-align:right\">PUBCHEM_COMPOUND_CANONICALIZED</th><td style=\"text-align:left\">1</td></tr>\n",
       "<tr><th style=\"text-align:right\">PUBCHEM_CACTVS_COMPLEXITY</th><td style=\"text-align:left\">506</td></tr>\n",
       "<tr><th style=\"text-align:right\">PUBCHEM_CACTVS_HBOND_ACCEPTOR</th><td style=\"text-align:left\">6</td></tr>\n",
       "<tr><th style=\"text-align:right\">PUBCHEM_CACTVS_HBOND_DONOR</th><td style=\"text-align:left\">2</td></tr>\n",
       "<tr><th style=\"text-align:right\">PUBCHEM_CACTVS_ROTATABLE_BOND</th><td style=\"text-align:left\">7</td></tr>\n",
       "<tr><th style=\"text-align:right\">PUBCHEM_CACTVS_SUBSKEYS</th><td style=\"text-align:left\">AAADceB7sAAAAAAAAAAAAAAAAAAAAAAAAAA8YIAAAAAAAAAB0AAAHgAYAAAADAyhngIzlpZqFACoA6VydAKCiCklIqIfuCF2bNiOLjLE/d6HPSjs0BNI6aeIzODOIAAAAAAAAABAAAAAAAAAAAAAAAAAAA==</td></tr>\n",
       "<tr><th style=\"text-align:right\">PUBCHEM_IUPAC_OPENEYE_NAME</th><td style=\"text-align:left\">2-(4-benzoylphenoxy)-N'-(4,6-dimethylpyrimidin-2-yl)acetohydrazide</td></tr>\n",
       "<tr><th style=\"text-align:right\">PUBCHEM_IUPAC_CAS_NAME</th><td style=\"text-align:left\">2-(4-benzoylphenoxy)-N'-(4,6-dimethyl-2-pyrimidinyl)acetohydrazide</td></tr>\n",
       "<tr><th style=\"text-align:right\">PUBCHEM_IUPAC_NAME_MARKUP</th><td style=\"text-align:left\">2-(4-benzoylphenoxy)-<I>N</I>&apos;-(4,6-dimethylpyrimidin-2-yl)acetohydrazide</td></tr>\n",
       "<tr><td colspan=2 style=\"text-align:center\">Property list truncated.<br />Increase IPythonConsole.ipython_maxProperties (or set it to -1) to see more properties.</td></tr></table>"
      ],
      "text/plain": [
       "<rdkit.Chem.rdchem.Mol at 0x19ab0e620>"
      ]
     },
     "execution_count": 47,
     "metadata": {},
     "output_type": "execute_result"
    }
   ],
   "source": [
    "mols[ind[0][5]] # молекула ответа"
   ]
  }
 ],
 "metadata": {
  "kernelspec": {
   "display_name": "Python 3 (ipykernel)",
   "language": "python",
   "name": "python3"
  },
  "language_info": {
   "codemirror_mode": {
    "name": "ipython",
    "version": 3
   },
   "file_extension": ".py",
   "mimetype": "text/x-python",
   "name": "python",
   "nbconvert_exporter": "python",
   "pygments_lexer": "ipython3",
   "version": "3.10.4"
  }
 },
 "nbformat": 4,
 "nbformat_minor": 5
}
