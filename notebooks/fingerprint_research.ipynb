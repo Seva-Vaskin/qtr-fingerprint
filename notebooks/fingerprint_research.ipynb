{
 "cells": [
  {
   "cell_type": "code",
   "execution_count": 1,
   "id": "f0eb7b7a",
   "metadata": {},
   "outputs": [],
   "source": [
    "import pandas as pd\n",
    "import matplotlib.pyplot as plt\n",
    "import numpy as np\n",
    "from sklearn.decomposition import PCA"
   ]
  },
  {
   "cell_type": "code",
   "execution_count": 2,
   "id": "28d51911",
   "metadata": {},
   "outputs": [],
   "source": [
    "df = pd.read_csv(\"fingerprints_119697.txt\", sep=\" \", names=['id', 'fingerprint'], index_col=0)"
   ]
  },
  {
   "cell_type": "code",
   "execution_count": 3,
   "id": "9f18c84d",
   "metadata": {},
   "outputs": [],
   "source": [
    "def bin_format(number, num_of_bits=3736):\n",
    "    return list(map(int, list(bin(int(number, 16))[2:].zfill(num_of_bits))))"
   ]
  },
  {
   "cell_type": "code",
   "execution_count": 4,
   "id": "81dde6c1",
   "metadata": {},
   "outputs": [],
   "source": [
    "df['fingerprint'] = df['fingerprint'].apply(bin_format)"
   ]
  },
  {
   "cell_type": "code",
   "execution_count": 78,
   "id": "4a237918",
   "metadata": {},
   "outputs": [],
   "source": [
    "split_df = pd.DataFrame(df['fingerprint'].tolist())"
   ]
  },
  {
   "cell_type": "code",
   "execution_count": 81,
   "id": "4fbb831c",
   "metadata": {},
   "outputs": [
    {
     "data": {
      "text/html": [
       "<div>\n",
       "<style scoped>\n",
       "    .dataframe tbody tr th:only-of-type {\n",
       "        vertical-align: middle;\n",
       "    }\n",
       "\n",
       "    .dataframe tbody tr th {\n",
       "        vertical-align: top;\n",
       "    }\n",
       "\n",
       "    .dataframe thead th {\n",
       "        text-align: right;\n",
       "    }\n",
       "</style>\n",
       "<table border=\"1\" class=\"dataframe\">\n",
       "  <thead>\n",
       "    <tr style=\"text-align: right;\">\n",
       "      <th></th>\n",
       "      <th>0</th>\n",
       "      <th>1</th>\n",
       "      <th>2</th>\n",
       "      <th>3</th>\n",
       "      <th>4</th>\n",
       "      <th>5</th>\n",
       "      <th>6</th>\n",
       "      <th>7</th>\n",
       "      <th>8</th>\n",
       "      <th>9</th>\n",
       "      <th>...</th>\n",
       "      <th>3726</th>\n",
       "      <th>3727</th>\n",
       "      <th>3728</th>\n",
       "      <th>3729</th>\n",
       "      <th>3730</th>\n",
       "      <th>3731</th>\n",
       "      <th>3732</th>\n",
       "      <th>3733</th>\n",
       "      <th>3734</th>\n",
       "      <th>3735</th>\n",
       "    </tr>\n",
       "  </thead>\n",
       "  <tbody>\n",
       "    <tr>\n",
       "      <th>count</th>\n",
       "      <td>119697</td>\n",
       "      <td>119697</td>\n",
       "      <td>119697</td>\n",
       "      <td>119697</td>\n",
       "      <td>119697</td>\n",
       "      <td>119697</td>\n",
       "      <td>119697</td>\n",
       "      <td>119697</td>\n",
       "      <td>119697</td>\n",
       "      <td>119697</td>\n",
       "      <td>...</td>\n",
       "      <td>119697</td>\n",
       "      <td>119697</td>\n",
       "      <td>119697</td>\n",
       "      <td>119697</td>\n",
       "      <td>119697</td>\n",
       "      <td>119697</td>\n",
       "      <td>119697</td>\n",
       "      <td>119697</td>\n",
       "      <td>119697</td>\n",
       "      <td>119697</td>\n",
       "    </tr>\n",
       "    <tr>\n",
       "      <th>unique</th>\n",
       "      <td>2</td>\n",
       "      <td>2</td>\n",
       "      <td>2</td>\n",
       "      <td>2</td>\n",
       "      <td>2</td>\n",
       "      <td>2</td>\n",
       "      <td>2</td>\n",
       "      <td>2</td>\n",
       "      <td>1</td>\n",
       "      <td>2</td>\n",
       "      <td>...</td>\n",
       "      <td>2</td>\n",
       "      <td>2</td>\n",
       "      <td>2</td>\n",
       "      <td>2</td>\n",
       "      <td>2</td>\n",
       "      <td>2</td>\n",
       "      <td>2</td>\n",
       "      <td>2</td>\n",
       "      <td>2</td>\n",
       "      <td>2</td>\n",
       "    </tr>\n",
       "    <tr>\n",
       "      <th>top</th>\n",
       "      <td>0</td>\n",
       "      <td>0</td>\n",
       "      <td>0</td>\n",
       "      <td>1</td>\n",
       "      <td>1</td>\n",
       "      <td>1</td>\n",
       "      <td>1</td>\n",
       "      <td>1</td>\n",
       "      <td>0</td>\n",
       "      <td>0</td>\n",
       "      <td>...</td>\n",
       "      <td>1</td>\n",
       "      <td>1</td>\n",
       "      <td>0</td>\n",
       "      <td>1</td>\n",
       "      <td>1</td>\n",
       "      <td>0</td>\n",
       "      <td>0</td>\n",
       "      <td>1</td>\n",
       "      <td>1</td>\n",
       "      <td>1</td>\n",
       "    </tr>\n",
       "    <tr>\n",
       "      <th>freq</th>\n",
       "      <td>119656</td>\n",
       "      <td>102785</td>\n",
       "      <td>79377</td>\n",
       "      <td>74634</td>\n",
       "      <td>106718</td>\n",
       "      <td>79837</td>\n",
       "      <td>104658</td>\n",
       "      <td>115492</td>\n",
       "      <td>119697</td>\n",
       "      <td>112935</td>\n",
       "      <td>...</td>\n",
       "      <td>118060</td>\n",
       "      <td>96319</td>\n",
       "      <td>98512</td>\n",
       "      <td>94248</td>\n",
       "      <td>65512</td>\n",
       "      <td>84357</td>\n",
       "      <td>109417</td>\n",
       "      <td>72215</td>\n",
       "      <td>83925</td>\n",
       "      <td>117782</td>\n",
       "    </tr>\n",
       "  </tbody>\n",
       "</table>\n",
       "<p>4 rows × 3736 columns</p>\n",
       "</div>"
      ],
      "text/plain": [
       "          0       1       2       3       4       5       6       7     \\\n",
       "count   119697  119697  119697  119697  119697  119697  119697  119697   \n",
       "unique       2       2       2       2       2       2       2       2   \n",
       "top          0       0       0       1       1       1       1       1   \n",
       "freq    119656  102785   79377   74634  106718   79837  104658  115492   \n",
       "\n",
       "          8       9     ...    3726    3727    3728    3729    3730    3731  \\\n",
       "count   119697  119697  ...  119697  119697  119697  119697  119697  119697   \n",
       "unique       1       2  ...       2       2       2       2       2       2   \n",
       "top          0       0  ...       1       1       0       1       1       0   \n",
       "freq    119697  112935  ...  118060   96319   98512   94248   65512   84357   \n",
       "\n",
       "          3732    3733    3734    3735  \n",
       "count   119697  119697  119697  119697  \n",
       "unique       2       2       2       2  \n",
       "top          0       1       1       1  \n",
       "freq    109417   72215   83925  117782  \n",
       "\n",
       "[4 rows x 3736 columns]"
      ]
     },
     "execution_count": 81,
     "metadata": {},
     "output_type": "execute_result"
    }
   ],
   "source": [
    "split_df.describe()"
   ]
  },
  {
   "cell_type": "code",
   "execution_count": 49,
   "id": "19c331bd",
   "metadata": {},
   "outputs": [],
   "source": [
    "# df_5000 = df.sample(n=50000)\n",
    "df_5000 = df"
   ]
  },
  {
   "cell_type": "code",
   "execution_count": 11,
   "id": "6d31e79b",
   "metadata": {},
   "outputs": [
    {
     "data": {
      "text/plain": [
       "id\n",
       "26192414    [0, 0, 0, 0, 0, 0, 0, 1, 0, 0, 0, 0, 0, 0, 0, ...\n",
       "26334003    [0, 0, 0, 0, 1, 1, 1, 1, 0, 0, 0, 0, 1, 1, 0, ...\n",
       "26086971    [0, 0, 0, 1, 1, 1, 1, 1, 0, 0, 0, 0, 0, 0, 0, ...\n",
       "26338962    [0, 0, 0, 0, 0, 0, 0, 0, 0, 1, 0, 0, 0, 0, 0, ...\n",
       "26009498    [0, 0, 0, 1, 1, 1, 1, 1, 0, 0, 0, 0, 0, 0, 0, ...\n",
       "                                  ...                        \n",
       "26429681    [0, 0, 0, 0, 1, 1, 1, 1, 0, 0, 0, 0, 0, 1, 0, ...\n",
       "26009633    [0, 0, 1, 1, 1, 1, 1, 1, 0, 0, 0, 0, 0, 0, 0, ...\n",
       "26347948    [0, 1, 1, 1, 1, 1, 1, 1, 0, 0, 0, 0, 0, 0, 0, ...\n",
       "26346663    [0, 0, 1, 1, 1, 1, 1, 1, 0, 0, 0, 0, 0, 0, 0, ...\n",
       "26070589    [0, 0, 1, 0, 0, 0, 1, 1, 0, 0, 0, 0, 0, 0, 0, ...\n",
       "Name: fingerprint, Length: 5000, dtype: object"
      ]
     },
     "execution_count": 11,
     "metadata": {},
     "output_type": "execute_result"
    }
   ],
   "source": [
    "df_5000.fingerprint"
   ]
  },
  {
   "cell_type": "code",
   "execution_count": 10,
   "id": "9f358238",
   "metadata": {},
   "outputs": [],
   "source": [
    "from sklearn.decomposition import PCA"
   ]
  },
  {
   "cell_type": "code",
   "execution_count": 50,
   "id": "89a2f239",
   "metadata": {},
   "outputs": [],
   "source": [
    "X = df_5000.fingerprint.to_list()"
   ]
  },
  {
   "cell_type": "code",
   "execution_count": 63,
   "id": "ad725741",
   "metadata": {},
   "outputs": [
    {
     "data": {
      "text/plain": [
       "PCA(n_components=1000)"
      ]
     },
     "execution_count": 63,
     "metadata": {},
     "output_type": "execute_result"
    }
   ],
   "source": [
    "pca = PCA(n_components=1000)\n",
    "pca.fit(X)"
   ]
  },
  {
   "cell_type": "code",
   "execution_count": 64,
   "id": "81ba13a6",
   "metadata": {},
   "outputs": [],
   "source": [
    "X_pca = pca.fit_transform(X)"
   ]
  },
  {
   "cell_type": "code",
   "execution_count": 23,
   "id": "c81a693f",
   "metadata": {},
   "outputs": [],
   "source": [
    "from sklearn.cluster import KMeans"
   ]
  },
  {
   "cell_type": "code",
   "execution_count": 61,
   "id": "af494628",
   "metadata": {},
   "outputs": [
    {
     "name": "stdout",
     "output_type": "stream",
     "text": [
      "1\n",
      "11\n",
      "21\n",
      "31\n",
      "41\n",
      "51\n",
      "61\n",
      "71\n",
      "81\n",
      "91\n"
     ]
    }
   ],
   "source": [
    "sse = []\n",
    "ks = range(1, 100, 10)\n",
    "for k in ks:\n",
    "    print(k)\n",
    "    kmeans = KMeans(n_clusters=k, random_state=1).fit(X_pca)\n",
    "    sse.append(np.sqrt(kmeans.inertia_))"
   ]
  },
  {
   "cell_type": "code",
   "execution_count": 62,
   "id": "0dc05a48",
   "metadata": {},
   "outputs": [
    {
     "data": {
      "image/png": "[encoded data removed]",
      "text/plain": [
       "<Figure size 432x288 with 1 Axes>"
      ]
     },
     "metadata": {},
     "output_type": "display_data"
    }
   ],
   "source": [
    "plt.style.use(\"fivethirtyeight\")\n",
    "plt.plot(ks, sse)\n",
    "plt.xticks(ks)\n",
    "plt.xlabel(\"Number of Clusters\")\n",
    "plt.ylabel(\"SSE\")\n",
    "plt.show()"
   ]
  },
  {
   "cell_type": "code",
   "execution_count": 38,
   "id": "2057c187",
   "metadata": {},
   "outputs": [],
   "source": [
    "from sklearn.neighbors import KDTree"
   ]
  },
  {
   "cell_type": "code",
   "execution_count": 65,
   "id": "aa94168e",
   "metadata": {},
   "outputs": [],
   "source": [
    "tree = KDTree(X_pca, leaf_size=2)              "
   ]
  },
  {
   "cell_type": "code",
   "execution_count": 66,
   "id": "71d9655e",
   "metadata": {},
   "outputs": [],
   "source": [
    "dist, ind = tree.query(X_pca[:1], k=3)   "
   ]
  },
  {
   "cell_type": "code",
   "execution_count": 67,
   "id": "b5c9d498",
   "metadata": {},
   "outputs": [
    {
     "data": {
      "text/plain": [
       "(array([[ 0.        , 14.72393636, 14.89325289]]),\n",
       " array([[    0,  7208, 37533]]))"
      ]
     },
     "execution_count": 67,
     "metadata": {},
     "output_type": "execute_result"
    }
   ],
   "source": [
    "dist, ind"
   ]
  },
  {
   "cell_type": "code",
   "execution_count": 60,
   "id": "63eda6af",
   "metadata": {},
   "outputs": [
    {
     "data": {
      "text/plain": [
       "119697"
      ]
     },
     "execution_count": 60,
     "metadata": {},
     "output_type": "execute_result"
    }
   ],
   "source": [
    "len(X_pca)"
   ]
  },
  {
   "cell_type": "code",
   "execution_count": 68,
   "id": "a8e4453b",
   "metadata": {},
   "outputs": [
    {
     "name": "stdout",
     "output_type": "stream",
     "text": [
      "                                                fingerprint\n",
      "id                                                         \n",
      "26000020  [0, 0, 1, 0, 1, 1, 1, 1, 0, 0, 0, 0, 0, 0, 0, ...\n",
      "26013936  [0, 0, 0, 0, 1, 1, 1, 1, 0, 0, 0, 0, 0, 0, 0, ...\n",
      "26187389  [0, 0, 0, 0, 1, 1, 1, 1, 0, 0, 0, 0, 0, 0, 0, ...\n"
     ]
    }
   ],
   "source": [
    "for i in ind:\n",
    "    print(df_5000.iloc[i])"
   ]
  }
 ],
 "metadata": {
  "kernelspec": {
   "display_name": "Python 3 (ipykernel)",
   "language": "python",
   "name": "python3"
  },
  "language_info": {
   "codemirror_mode": {
    "name": "ipython",
    "version": 3
   },
   "file_extension": ".py",
   "mimetype": "text/x-python",
   "name": "python",
   "nbconvert_exporter": "python",
   "pygments_lexer": "ipython3",
   "version": "3.9.7"
  }
 },
 "nbformat": 4,
 "nbformat_minor": 5
}
