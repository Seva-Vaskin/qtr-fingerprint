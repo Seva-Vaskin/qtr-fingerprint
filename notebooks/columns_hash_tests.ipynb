{
 "cells": [
  {
   "cell_type": "code",
   "execution_count": 1,
   "id": "54e55f45",
   "metadata": {},
   "outputs": [],
   "source": [
    "import pandas as pd\n",
    "import numpy as np\n",
    "from pathlib import Path\n",
    "from pandarallel import pandarallel"
   ]
  },
  {
   "cell_type": "code",
   "execution_count": 2,
   "id": "ac4ec280",
   "metadata": {},
   "outputs": [],
   "source": [
    "import fp_utils"
   ]
  },
  {
   "cell_type": "code",
   "execution_count": 3,
   "id": "e8665962",
   "metadata": {},
   "outputs": [
    {
     "name": "stdout",
     "output_type": "stream",
     "text": [
      "INFO: Pandarallel will run on 4 workers.\n",
      "INFO: Pandarallel will use Memory file system to transfer data between the main process and workers.\n"
     ]
    }
   ],
   "source": [
    "fp_utils.settings.init_fp_utils()"
   ]
  },
  {
   "cell_type": "code",
   "execution_count": 4,
   "id": "2d4a3e10",
   "metadata": {},
   "outputs": [],
   "source": [
    "data_dir = Path('../data')"
   ]
  },
  {
   "cell_type": "code",
   "execution_count": 5,
   "id": "f6bba55f",
   "metadata": {},
   "outputs": [
    {
     "data": {
      "text/plain": [
       "(100000, 2575)"
      ]
     },
     "execution_count": 5,
     "metadata": {},
     "output_type": "execute_result"
    }
   ],
   "source": [
    "df = fp_utils.data_io.DataFrameLoader.pickle(data_dir / '1e5.pickle')\n",
    "df.shape"
   ]
  },
  {
   "cell_type": "code",
   "execution_count": 6,
   "id": "e4d74d4c",
   "metadata": {},
   "outputs": [
    {
     "data": {
      "application/vnd.jupyter.widget-view+json": {
       "model_id": "a26af52040484336bbf79dd0493d4b93",
       "version_major": 2,
       "version_minor": 0
      },
      "text/plain": [
       "VBox(children=(HBox(children=(IntProgress(value=0, description='0.00%', max=644), Label(value='0 / 644'))), HB…"
      ]
     },
     "metadata": {},
     "output_type": "display_data"
    }
   ],
   "source": [
    "iv_cols = df.mean().parallel_apply(lambda p: p * (1 - p) / (1 - p + p * p)).sort_values(ascending=False).index"
   ]
  },
  {
   "cell_type": "code",
   "execution_count": 7,
   "id": "4dc2dbb2",
   "metadata": {},
   "outputs": [
    {
     "data": {
      "text/plain": [
       "Int64Index([1510, 3197, 3403, 3026, 1212, 1487,   45,  150, 3115,   88,\n",
       "            ...\n",
       "            2889, 3392, 3112, 3542, 3070, 3016, 3166, 3385, 2871, 3654],\n",
       "           dtype='int64', length=2575)"
      ]
     },
     "execution_count": 7,
     "metadata": {},
     "output_type": "execute_result"
    }
   ],
   "source": [
    "iv_cols"
   ]
  },
  {
   "cell_type": "markdown",
   "id": "736ce1bb",
   "metadata": {},
   "source": [
    "# Init finders"
   ]
  },
  {
   "cell_type": "code",
   "execution_count": 8,
   "id": "0d78443c",
   "metadata": {},
   "outputs": [],
   "source": [
    "from fp_utils.finders import ColumnsHashFinder, SplitterTreeFinder"
   ]
  },
  {
   "cell_type": "code",
   "execution_count": 19,
   "id": "282a3df5",
   "metadata": {},
   "outputs": [],
   "source": [
    "class IvColshHash5(ColumnsHashFinder):\n",
    "    columns = list(iv_cols[:5])\n",
    "\n",
    "class IvColshHash10(ColumnsHashFinder):\n",
    "    columns = list(iv_cols[:10])\n",
    "    \n",
    "class IvColshHash15(ColumnsHashFinder):\n",
    "    columns = list(iv_cols[:15])\n",
    "\n",
    "class IvColshHash20(ColumnsHashFinder):\n",
    "    columns = list(iv_cols[:20])\n"
   ]
  },
  {
   "cell_type": "code",
   "execution_count": 20,
   "id": "e2d98062",
   "metadata": {},
   "outputs": [
    {
     "name": "stdout",
     "output_type": "stream",
     "text": [
      "20.170s -- IvColshHash5 init time\n"
     ]
    }
   ],
   "source": [
    "table5 = IvColshHash5(df, data_dir / 'table5')"
   ]
  },
  {
   "cell_type": "code",
   "execution_count": 21,
   "id": "0564ef5b",
   "metadata": {},
   "outputs": [
    {
     "name": "stdout",
     "output_type": "stream",
     "text": [
      "15.377s -- IvColshHash10 init time\n"
     ]
    }
   ],
   "source": [
    "table10 = IvColshHash10(df, data_dir / 'table10')"
   ]
  },
  {
   "cell_type": "code",
   "execution_count": 22,
   "id": "124e85b0",
   "metadata": {},
   "outputs": [
    {
     "name": "stdout",
     "output_type": "stream",
     "text": [
      "15.877s -- IvColshHash15 init time\n"
     ]
    }
   ],
   "source": [
    "table15 = IvColshHash15(df, data_dir / 'table15')"
   ]
  },
  {
   "cell_type": "code",
   "execution_count": 23,
   "id": "6fc718d7",
   "metadata": {},
   "outputs": [
    {
     "name": "stdout",
     "output_type": "stream",
     "text": [
      "22.781s -- IvColshHash20 init time\n"
     ]
    }
   ],
   "source": [
    "table20 = IvColshHash20(df, data_dir / 'table20')"
   ]
  },
  {
   "cell_type": "code",
   "execution_count": 57,
   "id": "264dbbc3",
   "metadata": {},
   "outputs": [],
   "source": [
    "class SplitterTree100(SplitterTreeFinder):\n",
    "    BUCKET_SIZE = 100"
   ]
  },
  {
   "cell_type": "code",
   "execution_count": 72,
   "id": "935ec4e3",
   "metadata": {},
   "outputs": [
    {
     "name": "stdout",
     "output_type": "stream",
     "text": [
      "30.238s -- SplitterTreeFinder init time\n"
     ]
    }
   ],
   "source": [
    "tree = SplitterTree100(df, data_dir / 'splitter_tree')"
   ]
  },
  {
   "cell_type": "markdown",
   "id": "a22fe383",
   "metadata": {},
   "source": [
    "# Check correctness"
   ]
  },
  {
   "cell_type": "code",
   "execution_count": 61,
   "id": "6173d872",
   "metadata": {},
   "outputs": [],
   "source": [
    "from fp_utils.tests import FinderCorrectnessTester, FinderSpeedTester"
   ]
  },
  {
   "cell_type": "code",
   "execution_count": 62,
   "id": "899b323d",
   "metadata": {},
   "outputs": [],
   "source": [
    "checker = FinderCorrectnessTester(tree, [table5, table10, table15, table20])"
   ]
  },
  {
   "cell_type": "code",
   "execution_count": 64,
   "id": "ba7f2409",
   "metadata": {},
   "outputs": [
    {
     "name": "stdout",
     "output_type": "stream",
     "text": [
      "-----\n",
      "Test #000\n",
      "OK -- IvColshHash5\n",
      "OK -- IvColshHash10\n",
      "OK -- IvColshHash15\n",
      "OK -- IvColshHash20\n",
      "-----\n",
      "Test #001\n",
      "OK -- IvColshHash5\n",
      "OK -- IvColshHash10\n",
      "OK -- IvColshHash15\n",
      "OK -- IvColshHash20\n",
      "-----\n",
      "Test #002\n",
      "OK -- IvColshHash5\n",
      "OK -- IvColshHash10\n",
      "OK -- IvColshHash15\n",
      "OK -- IvColshHash20\n",
      "-----\n",
      "Test #003\n",
      "OK -- IvColshHash5\n",
      "OK -- IvColshHash10\n",
      "OK -- IvColshHash15\n",
      "OK -- IvColshHash20\n",
      "-----\n",
      "Test #004\n",
      "OK -- IvColshHash5\n",
      "OK -- IvColshHash10\n",
      "OK -- IvColshHash15\n",
      "OK -- IvColshHash20\n",
      "-----\n"
     ]
    },
    {
     "data": {
      "text/plain": [
       "array([ True,  True,  True,  True])"
      ]
     },
     "execution_count": 64,
     "metadata": {},
     "output_type": "execute_result"
    }
   ],
   "source": [
    "checker.test_random(df, 5, verbose=True)"
   ]
  },
  {
   "cell_type": "markdown",
   "id": "8e693e4f",
   "metadata": {},
   "source": [
    "# Basic tests"
   ]
  },
  {
   "cell_type": "code",
   "execution_count": 75,
   "id": "eeeea4b8",
   "metadata": {},
   "outputs": [],
   "source": [
    "speed_tester = FinderSpeedTester([tree, table5, table10, table15, table20])"
   ]
  },
  {
   "cell_type": "code",
   "execution_count": 76,
   "id": "c869b960",
   "metadata": {},
   "outputs": [],
   "source": [
    "queries = df.sample(20)"
   ]
  },
  {
   "cell_type": "code",
   "execution_count": 77,
   "id": "f91122ec",
   "metadata": {},
   "outputs": [
    {
     "name": "stdout",
     "output_type": "stream",
     "text": [
      "-----\n",
      "Test #000\n",
      "0.112s -- SplitterTree100\n",
      "0.664s -- IvColshHash5\n",
      "0.606s -- IvColshHash10\n",
      "0.296s -- IvColshHash15\n",
      "0.617s -- IvColshHash20\n",
      "-----\n",
      "Test #001\n",
      "0.049s -- SplitterTree100\n",
      "0.513s -- IvColshHash5\n",
      "0.413s -- IvColshHash10\n",
      "0.422s -- IvColshHash15\n",
      "0.190s -- IvColshHash20\n",
      "-----\n",
      "Test #002\n",
      "0.085s -- SplitterTree100\n",
      "0.200s -- IvColshHash5\n",
      "0.112s -- IvColshHash10\n",
      "0.049s -- IvColshHash15\n",
      "0.047s -- IvColshHash20\n",
      "-----\n",
      "Test #003\n",
      "0.142s -- SplitterTree100\n",
      "0.410s -- IvColshHash5\n",
      "0.187s -- IvColshHash10\n",
      "0.086s -- IvColshHash15\n",
      "0.111s -- IvColshHash20\n",
      "-----\n",
      "Test #004\n",
      "0.308s -- SplitterTree100\n",
      "0.341s -- IvColshHash5\n",
      "0.286s -- IvColshHash10\n",
      "0.112s -- IvColshHash15\n",
      "0.188s -- IvColshHash20\n",
      "-----\n",
      "Test #005\n",
      "0.047s -- SplitterTree100\n",
      "0.249s -- IvColshHash5\n",
      "0.099s -- IvColshHash10\n",
      "0.028s -- IvColshHash15\n",
      "0.007s -- IvColshHash20\n",
      "-----\n",
      "Test #006\n",
      "0.360s -- SplitterTree100\n",
      "0.301s -- IvColshHash5\n",
      "0.203s -- IvColshHash10\n",
      "0.166s -- IvColshHash15\n",
      "0.130s -- IvColshHash20\n",
      "-----\n",
      "Test #007\n",
      "0.069s -- SplitterTree100\n",
      "0.531s -- IvColshHash5\n",
      "0.291s -- IvColshHash10\n",
      "0.294s -- IvColshHash15\n",
      "0.273s -- IvColshHash20\n",
      "-----\n",
      "Test #008\n",
      "0.254s -- SplitterTree100\n",
      "0.736s -- IvColshHash5\n",
      "0.247s -- IvColshHash10\n",
      "0.185s -- IvColshHash15\n",
      "0.126s -- IvColshHash20\n",
      "-----\n",
      "Test #009\n",
      "0.149s -- SplitterTree100\n",
      "0.159s -- IvColshHash5\n",
      "0.084s -- IvColshHash10\n",
      "0.034s -- IvColshHash15\n",
      "0.043s -- IvColshHash20\n",
      "-----\n",
      "Test #010\n",
      "0.371s -- SplitterTree100\n",
      "0.581s -- IvColshHash5\n",
      "0.568s -- IvColshHash10\n",
      "0.207s -- IvColshHash15\n",
      "0.192s -- IvColshHash20\n",
      "-----\n",
      "Test #011\n",
      "0.317s -- SplitterTree100\n",
      "0.365s -- IvColshHash5\n",
      "0.271s -- IvColshHash10\n",
      "0.083s -- IvColshHash15\n",
      "0.047s -- IvColshHash20\n",
      "-----\n",
      "Test #012\n",
      "0.393s -- SplitterTree100\n",
      "1.129s -- IvColshHash5\n",
      "1.307s -- IvColshHash10\n",
      "1.930s -- IvColshHash15\n",
      "1.325s -- IvColshHash20\n",
      "-----\n",
      "Test #013\n",
      "0.060s -- SplitterTree100\n",
      "0.376s -- IvColshHash5\n",
      "0.196s -- IvColshHash10\n",
      "0.102s -- IvColshHash15\n",
      "0.043s -- IvColshHash20\n",
      "-----\n",
      "Test #014\n",
      "0.235s -- SplitterTree100\n",
      "1.131s -- IvColshHash5\n",
      "0.671s -- IvColshHash10\n",
      "0.379s -- IvColshHash15\n",
      "0.558s -- IvColshHash20\n",
      "-----\n",
      "Test #015\n",
      "0.327s -- SplitterTree100\n",
      "0.881s -- IvColshHash5\n",
      "0.671s -- IvColshHash10\n",
      "0.404s -- IvColshHash15\n",
      "0.123s -- IvColshHash20\n",
      "-----\n",
      "Test #016\n",
      "0.092s -- SplitterTree100\n",
      "0.192s -- IvColshHash5\n",
      "0.203s -- IvColshHash10\n",
      "0.082s -- IvColshHash15\n",
      "0.076s -- IvColshHash20\n",
      "-----\n",
      "Test #017\n",
      "0.370s -- SplitterTree100\n",
      "0.497s -- IvColshHash5\n",
      "0.365s -- IvColshHash10\n",
      "0.392s -- IvColshHash15\n",
      "1.034s -- IvColshHash20\n",
      "-----\n",
      "Test #018\n",
      "0.067s -- SplitterTree100\n",
      "0.558s -- IvColshHash5\n",
      "0.342s -- IvColshHash10\n",
      "0.089s -- IvColshHash15\n",
      "0.063s -- IvColshHash20\n",
      "-----\n",
      "Test #019\n",
      "0.105s -- SplitterTree100\n",
      "0.396s -- IvColshHash5\n",
      "0.146s -- IvColshHash10\n",
      "0.036s -- IvColshHash15\n",
      "0.027s -- IvColshHash20\n",
      "-----\n"
     ]
    }
   ],
   "source": [
    "stat = speed_tester.test_all(queries, verbose=True)"
   ]
  },
  {
   "cell_type": "code",
   "execution_count": 79,
   "id": "8095eb3d",
   "metadata": {},
   "outputs": [
    {
     "data": {
      "image/png": "[encoded data removed]",
      "text/plain": [
       "<Figure size 576x576 with 1 Axes>"
      ]
     },
     "metadata": {
      "needs_background": "light"
     },
     "output_type": "display_data"
    }
   ],
   "source": [
    "stat.as_boxplot()"
   ]
  },
  {
   "cell_type": "markdown",
   "id": "74ac88e7",
   "metadata": {},
   "source": [
    "# Bad test\n",
    "`S1C([H])([H])C(C([H])([H])[H])=C([H])C([H])([H])C1([H])[H]` \n",
    "\n",
    "1. все нули в первых 20 iv cols\n",
    "2. всего 3 ответа в базе\n",
    "\n",
    "\n",
    "* `1.907s -- SplitterTree (bucket_size = 100)`\n",
    "* `2.634s -- IvColshHash5`\n",
    "* `3.197s -- IvColshHash10`\n",
    "* `7.463s -- IvColshHash15`\n",
    "* `17.660s -- IvColshHash20`"
   ]
  },
  {
   "cell_type": "markdown",
   "id": "09278668",
   "metadata": {},
   "source": [
    "__TODO: потестить молекулы, которые попали в самый левый бакет в дереве. На них тоже по 17 секунд? Что это за молекулды?__"
   ]
  },
  {
   "cell_type": "code",
   "execution_count": 73,
   "id": "eb5ee95b",
   "metadata": {},
   "outputs": [],
   "source": [
    "from fp_utils.draw import MoleculeDrawer"
   ]
  },
  {
   "cell_type": "code",
   "execution_count": 74,
   "id": "c414de08",
   "metadata": {},
   "outputs": [
    {
     "data": {
      "image/png": "[encoded data removed]",
      "text/plain": [
       "<PIL.PngImagePlugin.PngImageFile image mode=RGB size=300x300 at 0x7FDCD970BD00>"
      ]
     },
     "execution_count": 74,
     "metadata": {},
     "output_type": "execute_result"
    }
   ],
   "source": [
    "MoleculeDrawer.draw_one('S1C([H])([H])C(C([H])([H])[H])=C([H])C([H])([H])C1([H])[H]')"
   ]
  },
  {
   "cell_type": "code",
   "execution_count": 84,
   "id": "f14fce25",
   "metadata": {},
   "outputs": [],
   "source": [
    "fp = df.loc['S1C([H])([H])C(C([H])([H])[H])=C([H])C([H])([H])C1([H])[H]']"
   ]
  },
  {
   "cell_type": "code",
   "execution_count": 87,
   "id": "5b6e67de",
   "metadata": {},
   "outputs": [],
   "source": [
    "from fp_utils import CatchTime"
   ]
  },
  {
   "cell_type": "code",
   "execution_count": 89,
   "id": "1096033c",
   "metadata": {},
   "outputs": [],
   "source": [
    "catch_time = CatchTime()\n",
    "with catch_time:\n",
    "    ans = list(table20.find(fp, ans_count=10))"
   ]
  },
  {
   "cell_type": "code",
   "execution_count": 91,
   "id": "1299584b",
   "metadata": {},
   "outputs": [
    {
     "data": {
      "text/plain": [
       "CatchTime(CatchTime, 17.258 sec)"
      ]
     },
     "execution_count": 91,
     "metadata": {},
     "output_type": "execute_result"
    }
   ],
   "source": [
    "catch_time"
   ]
  },
  {
   "cell_type": "code",
   "execution_count": 98,
   "id": "68fd5801",
   "metadata": {},
   "outputs": [
    {
     "data": {
      "image/png": "[encoded data removed]",
      "text/plain": [
       "<Figure size 576x576 with 4 Axes>"
      ]
     },
     "metadata": {
      "needs_background": "light"
     },
     "output_type": "display_data"
    }
   ],
   "source": [
    "MoleculeDrawer.draw_many(ans, shape=(2, 2), figsize=(8, 8))"
   ]
  },
  {
   "cell_type": "markdown",
   "id": "fc4c2151",
   "metadata": {},
   "source": [
    "# Compare Splitter tree and 15 Ivan's columns"
   ]
  },
  {
   "cell_type": "code",
   "execution_count": 81,
   "id": "9f5f96e1",
   "metadata": {},
   "outputs": [
    {
     "data": {
      "image/png": "[encoded data removed]",
      "text/plain": [
       "<Figure size 1152x576 with 1 Axes>"
      ]
     },
     "metadata": {
      "needs_background": "light"
     },
     "output_type": "display_data"
    }
   ],
   "source": [
    "stat.take([SplitterTree100, IvColshHash15]).as_plot()"
   ]
  },
  {
   "cell_type": "markdown",
   "id": "22880e72",
   "metadata": {},
   "source": [
    "# Test: find only first 10"
   ]
  },
  {
   "cell_type": "code",
   "execution_count": 103,
   "id": "374fc9b0",
   "metadata": {
    "scrolled": true
   },
   "outputs": [
    {
     "name": "stdout",
     "output_type": "stream",
     "text": [
      "-----\n",
      "Test #000\n",
      "0.172s -- SplitterTree100\n",
      "0.658s -- IvColshHash5\n",
      "0.595s -- IvColshHash10\n",
      "0.244s -- IvColshHash15\n",
      "0.335s -- IvColshHash20\n",
      "-----\n",
      "Test #001\n",
      "0.083s -- SplitterTree100\n",
      "0.444s -- IvColshHash5\n",
      "0.439s -- IvColshHash10\n",
      "0.312s -- IvColshHash15\n",
      "0.123s -- IvColshHash20\n",
      "-----\n",
      "Test #002\n",
      "0.116s -- SplitterTree100\n",
      "0.216s -- IvColshHash5\n",
      "0.104s -- IvColshHash10\n",
      "0.039s -- IvColshHash15\n",
      "0.033s -- IvColshHash20\n",
      "-----\n",
      "Test #003\n",
      "0.264s -- SplitterTree100\n",
      "0.391s -- IvColshHash5\n",
      "0.137s -- IvColshHash10\n",
      "0.079s -- IvColshHash15\n",
      "0.059s -- IvColshHash20\n",
      "-----\n",
      "Test #004\n",
      "0.432s -- SplitterTree100\n",
      "0.320s -- IvColshHash5\n",
      "0.310s -- IvColshHash10\n",
      "0.091s -- IvColshHash15\n",
      "0.076s -- IvColshHash20\n",
      "-----\n",
      "Test #005\n",
      "0.048s -- SplitterTree100\n",
      "0.341s -- IvColshHash5\n",
      "0.124s -- IvColshHash10\n",
      "0.031s -- IvColshHash15\n",
      "0.009s -- IvColshHash20\n",
      "-----\n",
      "Test #006\n",
      "0.402s -- SplitterTree100\n",
      "0.321s -- IvColshHash5\n",
      "0.230s -- IvColshHash10\n",
      "0.189s -- IvColshHash15\n",
      "0.149s -- IvColshHash20\n",
      "-----\n",
      "Test #007\n",
      "0.040s -- SplitterTree100\n",
      "0.527s -- IvColshHash5\n",
      "0.363s -- IvColshHash10\n",
      "0.347s -- IvColshHash15\n",
      "0.306s -- IvColshHash20\n",
      "-----\n",
      "Test #008\n",
      "0.217s -- SplitterTree100\n",
      "0.681s -- IvColshHash5\n",
      "0.169s -- IvColshHash10\n",
      "0.129s -- IvColshHash15\n",
      "0.167s -- IvColshHash20\n",
      "-----\n",
      "Test #009\n",
      "0.157s -- SplitterTree100\n",
      "0.198s -- IvColshHash5\n",
      "0.084s -- IvColshHash10\n",
      "0.020s -- IvColshHash15\n",
      "0.032s -- IvColshHash20\n",
      "-----\n",
      "Test #010\n",
      "0.445s -- SplitterTree100\n",
      "0.642s -- IvColshHash5\n",
      "0.536s -- IvColshHash10\n",
      "0.174s -- IvColshHash15\n",
      "0.185s -- IvColshHash20\n",
      "-----\n",
      "Test #011\n",
      "0.370s -- SplitterTree100\n",
      "0.368s -- IvColshHash5\n",
      "0.326s -- IvColshHash10\n",
      "0.085s -- IvColshHash15\n",
      "0.045s -- IvColshHash20\n",
      "-----\n",
      "Test #012\n",
      "0.372s -- SplitterTree100\n",
      "1.031s -- IvColshHash5\n",
      "1.434s -- IvColshHash10\n",
      "2.036s -- IvColshHash15\n",
      "1.276s -- IvColshHash20\n",
      "-----\n",
      "Test #013\n",
      "0.075s -- SplitterTree100\n",
      "0.389s -- IvColshHash5\n",
      "0.262s -- IvColshHash10\n",
      "0.101s -- IvColshHash15\n",
      "0.042s -- IvColshHash20\n",
      "-----\n",
      "Test #014\n",
      "0.210s -- SplitterTree100\n",
      "1.263s -- IvColshHash5\n",
      "0.753s -- IvColshHash10\n",
      "0.409s -- IvColshHash15\n",
      "0.576s -- IvColshHash20\n",
      "-----\n",
      "Test #015\n",
      "0.343s -- SplitterTree100\n",
      "0.900s -- IvColshHash5\n",
      "0.665s -- IvColshHash10\n",
      "0.370s -- IvColshHash15\n",
      "0.122s -- IvColshHash20\n",
      "-----\n",
      "Test #016\n",
      "0.112s -- SplitterTree100\n",
      "0.237s -- IvColshHash5\n",
      "0.161s -- IvColshHash10\n",
      "0.052s -- IvColshHash15\n",
      "0.082s -- IvColshHash20\n",
      "-----\n",
      "Test #017\n",
      "0.395s -- SplitterTree100\n",
      "0.584s -- IvColshHash5\n",
      "0.394s -- IvColshHash10\n",
      "0.384s -- IvColshHash15\n",
      "1.032s -- IvColshHash20\n",
      "-----\n",
      "Test #018\n",
      "0.059s -- SplitterTree100\n",
      "0.638s -- IvColshHash5\n",
      "0.370s -- IvColshHash10\n",
      "0.089s -- IvColshHash15\n",
      "0.059s -- IvColshHash20\n",
      "-----\n",
      "Test #019\n",
      "0.109s -- SplitterTree100\n",
      "0.408s -- IvColshHash5\n",
      "0.181s -- IvColshHash10\n",
      "0.055s -- IvColshHash15\n",
      "0.030s -- IvColshHash20\n",
      "-----\n"
     ]
    }
   ],
   "source": [
    "stat3 = speed_tester.test_all(queries, ans_count=10, verbose=True)"
   ]
  },
  {
   "cell_type": "code",
   "execution_count": 107,
   "id": "0580b60a",
   "metadata": {},
   "outputs": [
    {
     "data": {
      "image/png": "[encoded data removed]",
      "text/plain": [
       "<Figure size 360x360 with 1 Axes>"
      ]
     },
     "metadata": {
      "needs_background": "light"
     },
     "output_type": "display_data"
    }
   ],
   "source": [
    "stat3.as_boxplot(figsize=(5, 5))"
   ]
  },
  {
   "cell_type": "code",
   "execution_count": 108,
   "id": "2dd49dc6",
   "metadata": {},
   "outputs": [
    {
     "data": {
      "image/png": "[encoded data removed]",
      "text/plain": [
       "<Figure size 360x360 with 1 Axes>"
      ]
     },
     "metadata": {
      "needs_background": "light"
     },
     "output_type": "display_data"
    }
   ],
   "source": [
    "stat.as_boxplot(figsize=(5, 5))"
   ]
  },
  {
   "cell_type": "markdown",
   "id": "52973c45",
   "metadata": {},
   "source": [
    "__Объяснения:__\n",
    "* Бага в коде? (Посмотрел, не нашёл)\n",
    "* В среднем в базе менее 10 ответв, поэтому на статистику не влияет"
   ]
  },
  {
   "cell_type": "markdown",
   "id": "b0c864f1",
   "metadata": {},
   "source": [
    "# Test subcolumns"
   ]
  },
  {
   "cell_type": "code",
   "execution_count": 42,
   "id": "88f39739",
   "metadata": {},
   "outputs": [],
   "source": [
    "from fp_utils.finders import SubColsFinder"
   ]
  },
  {
   "cell_type": "code",
   "execution_count": 164,
   "id": "a0bdf3c6",
   "metadata": {},
   "outputs": [],
   "source": [
    "class SplitterTree1600(SplitterTreeFinder):\n",
    "    BUCKET_SIZE = 1600"
   ]
  },
  {
   "cell_type": "markdown",
   "id": "2595dcc5",
   "metadata": {},
   "source": [
    "__На SplitterTree1500 не построилось => гипотеза: splitter tree делит не только по первым iv columns__"
   ]
  },
  {
   "cell_type": "code",
   "execution_count": 161,
   "id": "b317afdf",
   "metadata": {},
   "outputs": [],
   "source": [
    "class SubCol100_Tree(SubColsFinder):\n",
    "    columns = iv_cols[:100]"
   ]
  },
  {
   "cell_type": "code",
   "execution_count": 165,
   "id": "89f9e036",
   "metadata": {},
   "outputs": [
    {
     "name": "stdout",
     "output_type": "stream",
     "text": [
      "1.566s -- SplitterTreeFinder init time\n",
      "3.155s -- SubCol100_Tree init time\n"
     ]
    }
   ],
   "source": [
    "sc100_tree1600 = SubCol100_Tree(df, SplitterTree1600, data_dir / 'st100')"
   ]
  },
  {
   "cell_type": "code",
   "execution_count": 169,
   "id": "b8cc27b0",
   "metadata": {},
   "outputs": [],
   "source": [
    "class SubCol100_Table(SubColsFinder):\n",
    "    columns = iv_cols[:100]"
   ]
  },
  {
   "cell_type": "code",
   "execution_count": 170,
   "id": "ad9a0111",
   "metadata": {},
   "outputs": [
    {
     "name": "stdout",
     "output_type": "stream",
     "text": [
      "7.599s -- IvColshHash15 init time\n",
      "9.145s -- SubCol100_Table init time\n"
     ]
    }
   ],
   "source": [
    "sc100_table15 = SubCol100_Table(df, IvColshHash15, data_dir / 'table100')"
   ]
  },
  {
   "cell_type": "code",
   "execution_count": 171,
   "id": "0e4097d5",
   "metadata": {},
   "outputs": [],
   "source": [
    "speed_tester3 = FinderSpeedTester([sc100_tree1600, sc100_table15])"
   ]
  },
  {
   "cell_type": "code",
   "execution_count": 173,
   "id": "2128d8df",
   "metadata": {},
   "outputs": [
    {
     "name": "stdout",
     "output_type": "stream",
     "text": [
      "-----\n",
      "Test #000\n",
      "0.028s -- SubCol100_Tree\n",
      "0.023s -- SubCol100_Table\n",
      "-----\n",
      "Test #001\n",
      "0.023s -- SubCol100_Tree\n",
      "0.062s -- SubCol100_Table\n",
      "-----\n",
      "Test #002\n",
      "0.007s -- SubCol100_Tree\n",
      "0.008s -- SubCol100_Table\n",
      "-----\n",
      "Test #003\n",
      "0.017s -- SubCol100_Tree\n",
      "0.013s -- SubCol100_Table\n",
      "-----\n",
      "Test #004\n",
      "0.019s -- SubCol100_Tree\n",
      "0.022s -- SubCol100_Table\n",
      "-----\n",
      "Test #005\n",
      "0.007s -- SubCol100_Tree\n",
      "0.003s -- SubCol100_Table\n",
      "-----\n",
      "Test #006\n",
      "0.022s -- SubCol100_Tree\n",
      "0.041s -- SubCol100_Table\n",
      "-----\n",
      "Test #007\n",
      "0.017s -- SubCol100_Tree\n",
      "0.069s -- SubCol100_Table\n",
      "-----\n",
      "Test #008\n",
      "0.018s -- SubCol100_Tree\n",
      "0.020s -- SubCol100_Table\n",
      "-----\n",
      "Test #009\n",
      "0.015s -- SubCol100_Tree\n",
      "0.006s -- SubCol100_Table\n",
      "-----\n",
      "Test #010\n",
      "0.012s -- SubCol100_Tree\n",
      "0.041s -- SubCol100_Table\n",
      "-----\n",
      "Test #011\n",
      "0.026s -- SubCol100_Tree\n",
      "0.012s -- SubCol100_Table\n",
      "-----\n",
      "Test #012\n",
      "0.026s -- SubCol100_Tree\n",
      "0.420s -- SubCol100_Table\n",
      "-----\n",
      "Test #013\n",
      "0.005s -- SubCol100_Tree\n",
      "0.013s -- SubCol100_Table\n",
      "-----\n",
      "Test #014\n",
      "0.027s -- SubCol100_Tree\n",
      "0.082s -- SubCol100_Table\n",
      "-----\n",
      "Test #015\n",
      "0.012s -- SubCol100_Tree\n",
      "0.077s -- SubCol100_Table\n",
      "-----\n",
      "Test #016\n",
      "0.008s -- SubCol100_Tree\n",
      "0.011s -- SubCol100_Table\n",
      "-----\n",
      "Test #017\n",
      "0.046s -- SubCol100_Tree\n",
      "0.057s -- SubCol100_Table\n",
      "-----\n",
      "Test #018\n",
      "0.016s -- SubCol100_Tree\n",
      "0.010s -- SubCol100_Table\n",
      "-----\n",
      "Test #019\n",
      "0.006s -- SubCol100_Tree\n",
      "0.005s -- SubCol100_Table\n",
      "-----\n"
     ]
    }
   ],
   "source": [
    "stat4 = speed_tester3.test_all(queries, verbose=True, ans_count=10)"
   ]
  },
  {
   "cell_type": "code",
   "execution_count": 174,
   "id": "10f51be7",
   "metadata": {},
   "outputs": [
    {
     "data": {
      "image/png": "[encoded data removed]",
      "text/plain": [
       "<Figure size 1152x576 with 1 Axes>"
      ]
     },
     "metadata": {
      "needs_background": "light"
     },
     "output_type": "display_data"
    }
   ],
   "source": [
    "stat4.as_plot()"
   ]
  },
  {
   "cell_type": "code",
   "execution_count": 178,
   "id": "6895f4c2",
   "metadata": {},
   "outputs": [],
   "source": [
    "queries1000 = df.sample(1000)"
   ]
  },
  {
   "cell_type": "code",
   "execution_count": 179,
   "id": "6392717d",
   "metadata": {},
   "outputs": [
    {
     "name": "stdout",
     "output_type": "stream",
     "text": [
      "CPU times: user 3min 9s, sys: 10.4 s, total: 3min 19s\n",
      "Wall time: 3min 19s\n"
     ]
    }
   ],
   "source": [
    "%%time\n",
    "stat5 = speed_tester3.test_all(queries1000, verbose=False, ans_count=10)"
   ]
  },
  {
   "cell_type": "code",
   "execution_count": 186,
   "id": "594548d8",
   "metadata": {},
   "outputs": [
    {
     "data": {
      "image/png": "[encoded data removed]",
      "text/plain": [
       "<Figure size 576x576 with 1 Axes>"
      ]
     },
     "metadata": {
      "needs_background": "light"
     },
     "output_type": "display_data"
    }
   ],
   "source": [
    "stat5.as_boxplot()"
   ]
  },
  {
   "cell_type": "code",
   "execution_count": 181,
   "id": "8055914f",
   "metadata": {},
   "outputs": [
    {
     "data": {
      "text/plain": [
       "SubCol100_Tree:\n",
       "\t0.002 -- min\n",
       "\t2.426 -- max\n",
       "\t0.050 -- mean\n",
       "\t0.021 -- median\n",
       "SubCol100_Table:\n",
       "\t0.001 -- min\n",
       "\t4.086 -- max\n",
       "\t0.150 -- mean\n",
       "\t0.023 -- median"
      ]
     },
     "execution_count": 181,
     "metadata": {},
     "output_type": "execute_result"
    }
   ],
   "source": [
    "stat5"
   ]
  },
  {
   "cell_type": "code",
   "execution_count": null,
   "id": "232ab8b1",
   "metadata": {},
   "outputs": [],
   "source": []
  }
 ],
 "metadata": {
  "kernelspec": {
   "display_name": "Python 3 (ipykernel)",
   "language": "python",
   "name": "python3"
  },
  "language_info": {
   "codemirror_mode": {
    "name": "ipython",
    "version": 3
   },
   "file_extension": ".py",
   "mimetype": "text/x-python",
   "name": "python",
   "nbconvert_exporter": "python",
   "pygments_lexer": "ipython3",
   "version": "3.10.5"
  }
 },
 "nbformat": 4,
 "nbformat_minor": 5
}
