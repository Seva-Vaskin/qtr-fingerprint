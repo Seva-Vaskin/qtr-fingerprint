{
 "cells": [
  {
   "cell_type": "code",
   "execution_count": 1,
   "id": "293a9920",
   "metadata": {},
   "outputs": [],
   "source": [
    "from pathlib import Path\n",
    "from indigo import Indigo\n",
    "import numpy as np\n",
    "import pandas as pd\n",
    "\n",
    "from substrucure_finder import BucketsInitializer\n",
    "from substrucure_finder import SearchEngine\n",
    "\n",
    "import fp_utils\n",
    "from fp_utils.finders import Finder\n",
    "from fp_utils.tests import FinderSpeedTester\n",
    "from fp_utils.catch_time import CatchTime"
   ]
  },
  {
   "cell_type": "code",
   "execution_count": 2,
   "id": "8ec50dd4",
   "metadata": {},
   "outputs": [
    {
     "name": "stdout",
     "output_type": "stream",
     "text": [
      "INFO: Pandarallel will run on 4 workers.\n",
      "INFO: Pandarallel will use Memory file system to transfer data between the main process and workers.\n"
     ]
    }
   ],
   "source": [
    "fp_utils.settings.init_fp_utils()"
   ]
  },
  {
   "cell_type": "code",
   "execution_count": 3,
   "id": "5bcdd2f7",
   "metadata": {},
   "outputs": [],
   "source": [
    "data_path = Path(\"../data/search_data_2/\")"
   ]
  },
  {
   "cell_type": "code",
   "execution_count": 4,
   "id": "0bc9eefa",
   "metadata": {},
   "outputs": [],
   "source": [
    "zero_columns_name = '../data/zero_columns'"
   ]
  },
  {
   "cell_type": "markdown",
   "id": "09fb9e56",
   "metadata": {},
   "source": [
    "# Build structure"
   ]
  },
  {
   "cell_type": "code",
   "execution_count": 5,
   "id": "a72d5432",
   "metadata": {},
   "outputs": [],
   "source": [
    "initializer = BucketsInitializer(data_path, columns_count=100)"
   ]
  },
  {
   "cell_type": "code",
   "execution_count": 6,
   "id": "da942a35",
   "metadata": {},
   "outputs": [],
   "source": [
    "from substrucure_finder import consts"
   ]
  },
  {
   "cell_type": "code",
   "execution_count": 7,
   "id": "d2c74514",
   "metadata": {},
   "outputs": [
    {
     "data": {
      "text/plain": [
       "2584"
      ]
     },
     "execution_count": 7,
     "metadata": {},
     "output_type": "execute_result"
    }
   ],
   "source": [
    "consts.fingerprint_size_in_bits"
   ]
  },
  {
   "cell_type": "code",
   "execution_count": 8,
   "id": "a63a9fe4",
   "metadata": {},
   "outputs": [],
   "source": [
    "# file = data_path / \"raw_buckets/55/0.csv\""
   ]
  },
  {
   "cell_type": "code",
   "execution_count": 9,
   "id": "5c12d650",
   "metadata": {},
   "outputs": [],
   "source": [
    "# with file.open('r') as f:\n",
    "#     lines = f.readlines()\n",
    "#     line = lines[105]"
   ]
  },
  {
   "cell_type": "code",
   "execution_count": 10,
   "id": "66d68b4e",
   "metadata": {},
   "outputs": [],
   "source": [
    "# line"
   ]
  },
  {
   "cell_type": "code",
   "execution_count": 11,
   "id": "660c964e",
   "metadata": {},
   "outputs": [],
   "source": [
    "# df = pd.read_csv(file, delimiter=',', header=0, index_col=0, dtype=dict((str(i), bool) for i in range(3)))"
   ]
  },
  {
   "cell_type": "code",
   "execution_count": 12,
   "id": "8119dd30",
   "metadata": {},
   "outputs": [],
   "source": [
    "# df"
   ]
  },
  {
   "cell_type": "code",
   "execution_count": 13,
   "id": "468d89c1",
   "metadata": {},
   "outputs": [],
   "source": [
    "(data_path / 'buckets').mkdir(parents=True, exist_ok=True)"
   ]
  },
  {
   "cell_type": "code",
   "execution_count": null,
   "id": "3440c5a7",
   "metadata": {
    "scrolled": true
   },
   "outputs": [
    {
     "name": "stdout",
     "output_type": "stream",
     "text": [
      "INFO: Pandarallel will run on 4 workers.\n",
      "INFO: Pandarallel will use Memory file system to transfer data between the main process and workers.\n",
      "Start init 61\n",
      "Finish init 61\n",
      "Start init 62\n",
      "Finish init 62\n",
      "Start init 77\n",
      "Finish init 77\n",
      "Start init 78\n",
      "Finish init 78\n",
      "Start init 79\n",
      "Finish init 79\n",
      "Start init 80\n",
      "Finish init 80\n",
      "Start init 81\n",
      "Finish init 81\n",
      "Start init 82\n",
      "Finish init 82\n",
      "Start init 83\n",
      "Finish init 83\n",
      "Start init 84\n",
      "Finish init 84\n",
      "Start init 85\n",
      "Finish init 85\n",
      "Start init 86\n",
      "Finish init 86\n",
      "Start init 87\n",
      "Finish init 87\n",
      "Start init 88\n",
      "Finish init 88\n",
      "Start init 89\n",
      "Finish init 89\n",
      "Start init 90\n",
      "Finish init 90\n",
      "Start init 91\n",
      "Finish init 91\n",
      "Start init 92\n",
      "Finish init 92\n",
      "Start init 94\n",
      "Finish init 94\n",
      "Start init 95\n",
      "Finish init 95\n",
      "Start init 97\n",
      "Finish init 97\n",
      "Start init 98\n",
      "Finish init 98\n",
      "Start init 99\n",
      "Finish init 99\n",
      "Start init 100\n",
      "Finish init 100\n",
      "Start init 111\n",
      "Finish init 111\n",
      "Start init 112\n",
      "Finish init 112\n",
      "Start init 117\n",
      "Finish init 117\n",
      "Start init 118\n",
      "Finish init 118\n",
      "Start init 119\n",
      "Finish init 119\n",
      "Start init 120\n",
      "Finish init 120\n",
      "Start init 121\n",
      "Finish init 121\n",
      "Start init 122\n",
      "Finish init 122\n",
      "Start init 123\n",
      "Finish init 123\n",
      "Start init 124\n",
      "Finish init 124\n",
      "Start init 125\n",
      "Finish init 125\n",
      "Start init 126\n",
      "Finish init 126\n",
      "Start init 127\n",
      "Finish init 127\n",
      "Start init 128\n",
      "Finish init 128\n",
      "Start init 129\n",
      "Finish init 129\n",
      "Start init 130\n",
      "Finish init 130\n",
      "Start init 131\n",
      "Finish init 131\n",
      "Start init 132\n",
      "Finish init 132\n",
      "Start init 133\n",
      "Finish init 133\n",
      "Start init 134\n",
      "Finish init 134\n",
      "Start init 135\n",
      "Finish init 135\n",
      "Start init 136\n",
      "Finish init 136\n",
      "Start init 137\n",
      "Finish init 137\n",
      "Start init 138\n",
      "Finish init 138\n",
      "Start init 139\n",
      "Finish init 139\n",
      "Start init 140\n",
      "Finish init 140\n",
      "Start init 141\n",
      "Finish init 141\n",
      "Start init 142\n",
      "Finish init 142\n",
      "Start init 145\n",
      "Finish init 145\n",
      "Start init 146\n",
      "Finish init 146\n",
      "Start init 147\n",
      "Finish init 147\n",
      "Start init 148\n",
      "Finish init 148\n",
      "Start init 159\n",
      "Finish init 159\n",
      "Start init 160\n",
      "Finish init 160\n",
      "Start init 161\n",
      "Finish init 161\n",
      "Start init 162\n",
      "Finish init 162\n",
      "Start init 169\n",
      "Finish init 169\n",
      "Start init 170\n",
      "Finish init 170\n",
      "Start init 171\n",
      "Finish init 171\n",
      "Start init 172\n",
      "Finish init 172\n",
      "Start init 175\n",
      "Finish init 175\n",
      "Start init 176\n",
      "Finish init 176\n",
      "Start init 181\n",
      "Finish init 181\n",
      "Start init 182\n",
      "Finish init 182\n",
      "Start init 185\n",
      "Finish init 185\n",
      "Start init 186\n",
      "Finish init 186\n",
      "Start init 193\n",
      "Finish init 193\n",
      "Start init 194\n",
      "Finish init 194\n",
      "Start init 197\n",
      "Finish init 197\n",
      "Start init 198\n",
      "Finish init 198\n",
      "Start init 199\n",
      "Finish init 199\n",
      "Start init 200\n",
      "Finish init 200\n",
      "Start init 201\n",
      "Finish init 201\n",
      "Start init 202\n",
      "Finish init 202\n",
      "Start init 203\n",
      "Finish init 203\n",
      "Start init 204\n",
      "Finish init 204\n",
      "Start init 205\n",
      "Finish init 205\n",
      "Start init 206\n",
      "Finish init 206\n",
      "Start init 207\n",
      "Finish init 207\n",
      "Start init 208\n",
      "Finish init 208\n",
      "Start init 213\n",
      "Finish init 213\n",
      "Start init 214\n",
      "Finish init 214\n",
      "Start init 215\n"
     ]
    }
   ],
   "source": [
    "%%time\n",
    "initializer.init_buckets()"
   ]
  },
  {
   "cell_type": "markdown",
   "id": "24513925",
   "metadata": {},
   "source": [
    "# Search Queries"
   ]
  },
  {
   "cell_type": "code",
   "execution_count": null,
   "id": "0ce6e415",
   "metadata": {},
   "outputs": [],
   "source": [
    "with open(zero_columns_name, 'r') as f:\n",
    "    zero_columns = list(map(int, f.read().split()))\n",
    "assert list(sorted(zero_columns)) == zero_columns"
   ]
  },
  {
   "cell_type": "code",
   "execution_count": null,
   "id": "9552b860",
   "metadata": {},
   "outputs": [],
   "source": [
    "full_columns = list(sorted(set(range(3736)) - set(zero_columns)))"
   ]
  },
  {
   "cell_type": "code",
   "execution_count": null,
   "id": "da526095",
   "metadata": {},
   "outputs": [],
   "source": [
    "def bin_format(number, num_of_bits=3736):\n",
    "    fp = list(map(int, list(bin(int(number, 16))[2:].zfill(num_of_bits))))\n",
    "    return np.fromiter(fp, dtype=int)"
   ]
  },
  {
   "cell_type": "code",
   "execution_count": null,
   "id": "59620037",
   "metadata": {},
   "outputs": [],
   "source": [
    "def smiles_to_fingerprint(smiles):\n",
    "    indigo_mol_to_test = Indigo().loadMolecule(smiles)\n",
    "    full_fp = bin_format(indigo_mol_to_test.fingerprint(\"sub\").toString())\n",
    "    return np.fromiter(pd.Series(full_fp)[full_columns].values, dtype=int)"
   ]
  },
  {
   "cell_type": "code",
   "execution_count": null,
   "id": "9393dba7",
   "metadata": {},
   "outputs": [],
   "source": [
    "@CatchTime(\"search\")\n",
    "def search(smiles: str, finder: Finder, ans_count=None):\n",
    "    fp = smiles_to_fingerprint(smiles)\n",
    "    return list(finder.find(fp, ans_count))"
   ]
  },
  {
   "cell_type": "code",
   "execution_count": null,
   "id": "1cd3e033",
   "metadata": {},
   "outputs": [],
   "source": [
    "class ComplexFinder(SearchEngine, Finder):   \n",
    "    def find_all(self, fp):\n",
    "        return self.search(fp)"
   ]
  },
  {
   "cell_type": "code",
   "execution_count": null,
   "id": "e5db9ddf",
   "metadata": {},
   "outputs": [],
   "source": [
    "complex_finder = ComplexFinder(data_path)"
   ]
  },
  {
   "cell_type": "code",
   "execution_count": null,
   "id": "7b2514d8",
   "metadata": {},
   "outputs": [],
   "source": [
    "with open('../data/pubchem_994_queries.txt', 'r') as f:\n",
    "    queries = list(map(lambda x: x.split()[0], f.read().strip().split('\\n')))"
   ]
  },
  {
   "cell_type": "code",
   "execution_count": null,
   "id": "7f9f4a39",
   "metadata": {
    "scrolled": true
   },
   "outputs": [],
   "source": [
    "len(queries), queries[:10]"
   ]
  },
  {
   "cell_type": "code",
   "execution_count": null,
   "id": "17d4e116",
   "metadata": {
    "scrolled": false
   },
   "outputs": [],
   "source": [
    "for q in queries:\n",
    "    print(f'\\nQuery: {q}')\n",
    "    answers = list(search(q, complex_finder, ans_count=10))\n",
    "    print(f'Ans len: {len(answers)}')"
   ]
  },
  {
   "cell_type": "code",
   "execution_count": null,
   "id": "543eb5f5",
   "metadata": {},
   "outputs": [],
   "source": []
  },
  {
   "cell_type": "code",
   "execution_count": null,
   "id": "a7dc4371",
   "metadata": {},
   "outputs": [],
   "source": []
  },
  {
   "cell_type": "code",
   "execution_count": null,
   "id": "b3cac8d1",
   "metadata": {},
   "outputs": [],
   "source": []
  }
 ],
 "metadata": {
  "kernelspec": {
   "display_name": "Python 3 (ipykernel)",
   "language": "python",
   "name": "python3"
  },
  "language_info": {
   "codemirror_mode": {
    "name": "ipython",
    "version": 3
   },
   "file_extension": ".py",
   "mimetype": "text/x-python",
   "name": "python",
   "nbconvert_exporter": "python",
   "pygments_lexer": "ipython3",
   "version": "3.10.5"
  }
 },
 "nbformat": 4,
 "nbformat_minor": 5
}
