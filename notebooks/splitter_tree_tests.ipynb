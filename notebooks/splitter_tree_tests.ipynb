{
 "cells": [
  {
   "cell_type": "code",
   "execution_count": 1,
   "id": "92e7c34c",
   "metadata": {},
   "outputs": [],
   "source": [
    "from pathlib import Path\n",
    "import pandas as pd\n",
    "import numpy as np"
   ]
  },
  {
   "cell_type": "code",
   "execution_count": 2,
   "id": "fa2dd39f",
   "metadata": {},
   "outputs": [],
   "source": [
    "import fp_utils"
   ]
  },
  {
   "cell_type": "code",
   "execution_count": 3,
   "id": "ec50f7db",
   "metadata": {},
   "outputs": [
    {
     "name": "stdout",
     "output_type": "stream",
     "text": [
      "INFO: Pandarallel will run on 4 workers.\n",
      "INFO: Pandarallel will use Memory file system to transfer data between the main process and workers.\n"
     ]
    }
   ],
   "source": [
    "fp_utils.settings.init_fp_utils()"
   ]
  },
  {
   "cell_type": "code",
   "execution_count": 4,
   "id": "bd03ae91",
   "metadata": {},
   "outputs": [],
   "source": [
    "data_dir = Path('../data')\n",
    "df_name = '1e5.pickle'"
   ]
  },
  {
   "cell_type": "code",
   "execution_count": 5,
   "id": "1e9c5a47",
   "metadata": {},
   "outputs": [
    {
     "data": {
      "text/plain": [
       "(100000, 2575)"
      ]
     },
     "execution_count": 5,
     "metadata": {},
     "output_type": "execute_result"
    }
   ],
   "source": [
    "df = fp_utils.data_io.DataFrameLoader.pickle(data_dir / df_name)\n",
    "df.shape"
   ]
  },
  {
   "cell_type": "markdown",
   "id": "1bb355ad",
   "metadata": {},
   "source": [
    "# Corectness tests"
   ]
  },
  {
   "cell_type": "code",
   "execution_count": 6,
   "id": "0a839ff2",
   "metadata": {},
   "outputs": [],
   "source": [
    "from fp_utils.finders import BFRamFinder, SplitterTreeFinder"
   ]
  },
  {
   "cell_type": "code",
   "execution_count": 7,
   "id": "6a3e1a68",
   "metadata": {},
   "outputs": [
    {
     "name": "stdout",
     "output_type": "stream",
     "text": [
      "0.000s -- BFRamFinder init time\n"
     ]
    }
   ],
   "source": [
    "bf_finder = BFRamFinder(df)"
   ]
  },
  {
   "cell_type": "code",
   "execution_count": 8,
   "id": "0c99cdaf",
   "metadata": {},
   "outputs": [
    {
     "name": "stdout",
     "output_type": "stream",
     "text": [
      "28.405s -- SplitterTreeFinder init time\n"
     ]
    }
   ],
   "source": [
    "tree_finder = SplitterTreeFinder(df, data_dir / 'tree')"
   ]
  },
  {
   "cell_type": "code",
   "execution_count": 9,
   "id": "757bccca",
   "metadata": {},
   "outputs": [],
   "source": [
    "checker = fp_utils.tests.FinderCorrectnessTester(bf_finder, [tree_finder])"
   ]
  },
  {
   "cell_type": "code",
   "execution_count": 10,
   "id": "f6ce62d7",
   "metadata": {},
   "outputs": [],
   "source": [
    "queries = df.sample(20)"
   ]
  },
  {
   "cell_type": "code",
   "execution_count": 11,
   "id": "4f842765",
   "metadata": {
    "scrolled": true
   },
   "outputs": [
    {
     "name": "stdout",
     "output_type": "stream",
     "text": [
      "-----\n",
      "Test #000\n",
      "OK -- SplitterTreeFinder\n",
      "-----\n",
      "Test #001\n",
      "OK -- SplitterTreeFinder\n",
      "-----\n",
      "Test #002\n",
      "OK -- SplitterTreeFinder\n",
      "-----\n",
      "Test #003\n",
      "OK -- SplitterTreeFinder\n",
      "-----\n",
      "Test #004\n",
      "OK -- SplitterTreeFinder\n",
      "-----\n",
      "Test #005\n",
      "OK -- SplitterTreeFinder\n",
      "-----\n",
      "Test #006\n",
      "OK -- SplitterTreeFinder\n",
      "-----\n",
      "Test #007\n",
      "OK -- SplitterTreeFinder\n",
      "-----\n",
      "Test #008\n",
      "OK -- SplitterTreeFinder\n",
      "-----\n",
      "Test #009\n",
      "OK -- SplitterTreeFinder\n",
      "-----\n",
      "Test #010\n",
      "OK -- SplitterTreeFinder\n",
      "-----\n",
      "Test #011\n",
      "OK -- SplitterTreeFinder\n",
      "-----\n",
      "Test #012\n",
      "OK -- SplitterTreeFinder\n",
      "-----\n",
      "Test #013\n",
      "OK -- SplitterTreeFinder\n",
      "-----\n",
      "Test #014\n",
      "OK -- SplitterTreeFinder\n",
      "-----\n",
      "Test #015\n",
      "OK -- SplitterTreeFinder\n",
      "-----\n",
      "Test #016\n",
      "OK -- SplitterTreeFinder\n",
      "-----\n",
      "Test #017\n",
      "OK -- SplitterTreeFinder\n",
      "-----\n",
      "Test #018\n",
      "OK -- SplitterTreeFinder\n",
      "-----\n",
      "Test #019\n",
      "OK -- SplitterTreeFinder\n",
      "-----\n",
      "CPU times: user 13.5 s, sys: 5.9 s, total: 19.4 s\n",
      "Wall time: 19.4 s\n"
     ]
    },
    {
     "data": {
      "text/plain": [
       "array([ True])"
      ]
     },
     "execution_count": 11,
     "metadata": {},
     "output_type": "execute_result"
    }
   ],
   "source": [
    "%%time\n",
    "checker.test_all(queries, verbose=True)"
   ]
  },
  {
   "cell_type": "markdown",
   "id": "2cd34632",
   "metadata": {},
   "source": [
    "# Speed tests"
   ]
  },
  {
   "cell_type": "code",
   "execution_count": 12,
   "id": "d361776e",
   "metadata": {},
   "outputs": [],
   "source": [
    "from fp_utils.tests import FinderSpeedTester"
   ]
  },
  {
   "cell_type": "code",
   "execution_count": 13,
   "id": "03f548ae",
   "metadata": {},
   "outputs": [],
   "source": [
    "class Tree20k(SplitterTreeFinder):\n",
    "    BUCKET_SIZE = 20000\n",
    "\n",
    "class Tree15k(SplitterTreeFinder):\n",
    "    BUCKET_SIZE = 15000\n",
    "\n",
    "class Tree10k(SplitterTreeFinder):\n",
    "    BUCKET_SIZE = 10000\n",
    "    \n",
    "class Tree5k(SplitterTreeFinder):\n",
    "    BUCKET_SIZE = 5000"
   ]
  },
  {
   "cell_type": "code",
   "execution_count": 14,
   "id": "42db2cb9",
   "metadata": {},
   "outputs": [
    {
     "name": "stdout",
     "output_type": "stream",
     "text": [
      "27.589s -- SplitterTreeFinder init time\n"
     ]
    }
   ],
   "source": [
    "tree_20k = Tree20k(df, data_dir / '20k')"
   ]
  },
  {
   "cell_type": "code",
   "execution_count": 15,
   "id": "b5368028",
   "metadata": {},
   "outputs": [
    {
     "name": "stdout",
     "output_type": "stream",
     "text": [
      "27.220s -- SplitterTreeFinder init time\n"
     ]
    }
   ],
   "source": [
    "tree_15k = Tree15k(df, data_dir / '15k')"
   ]
  },
  {
   "cell_type": "code",
   "execution_count": 16,
   "id": "02353190",
   "metadata": {},
   "outputs": [
    {
     "name": "stdout",
     "output_type": "stream",
     "text": [
      "27.137s -- SplitterTreeFinder init time\n"
     ]
    }
   ],
   "source": [
    "tree_10k = Tree10k(df, data_dir / '10k')"
   ]
  },
  {
   "cell_type": "code",
   "execution_count": 17,
   "id": "4ec3d2e4",
   "metadata": {},
   "outputs": [
    {
     "name": "stdout",
     "output_type": "stream",
     "text": [
      "26.341s -- SplitterTreeFinder init time\n"
     ]
    }
   ],
   "source": [
    "tree_5k = Tree5k(df, data_dir / '5k')"
   ]
  },
  {
   "cell_type": "code",
   "execution_count": 18,
   "id": "484337ef",
   "metadata": {},
   "outputs": [],
   "source": [
    "speedTester = FinderSpeedTester([bf_finder, tree_5k, tree_10k, tree_15k, tree_20k])"
   ]
  },
  {
   "cell_type": "code",
   "execution_count": 19,
   "id": "4ab30300",
   "metadata": {},
   "outputs": [],
   "source": [
    "stat = speedTester.test_all(queries)"
   ]
  },
  {
   "cell_type": "code",
   "execution_count": 20,
   "id": "bb567d1b",
   "metadata": {},
   "outputs": [
    {
     "data": {
      "image/png": "[encoded data removed]",
      "text/plain": [
       "<Figure size 576x576 with 1 Axes>"
      ]
     },
     "metadata": {
      "needs_background": "light"
     },
     "output_type": "display_data"
    }
   ],
   "source": [
    "stat.as_boxplot()"
   ]
  },
  {
   "cell_type": "code",
   "execution_count": 21,
   "id": "b8a90e30",
   "metadata": {},
   "outputs": [],
   "source": [
    "class Tree4k(SplitterTreeFinder):\n",
    "    BUCKET_SIZE = 4000\n",
    "    \n",
    "class Tree3k(SplitterTreeFinder):\n",
    "    BUCKET_SIZE = 3000\n",
    "\n",
    "class Tree2k(SplitterTreeFinder):\n",
    "    BUCKET_SIZE = 2000\n",
    "    \n",
    "class Tree1k(SplitterTreeFinder):\n",
    "    BUCKET_SIZE = 1000"
   ]
  },
  {
   "cell_type": "code",
   "execution_count": 22,
   "id": "61ab5ad9",
   "metadata": {},
   "outputs": [
    {
     "name": "stdout",
     "output_type": "stream",
     "text": [
      "29.020s -- SplitterTreeFinder init time\n"
     ]
    }
   ],
   "source": [
    "tree_4k = Tree4k(df, data_dir / '4k')"
   ]
  },
  {
   "cell_type": "code",
   "execution_count": 23,
   "id": "96351c59",
   "metadata": {},
   "outputs": [
    {
     "name": "stdout",
     "output_type": "stream",
     "text": [
      "26.697s -- SplitterTreeFinder init time\n"
     ]
    }
   ],
   "source": [
    "tree_3k = Tree3k(df, data_dir / '3k')"
   ]
  },
  {
   "cell_type": "code",
   "execution_count": 24,
   "id": "df6b6ee3",
   "metadata": {},
   "outputs": [
    {
     "name": "stdout",
     "output_type": "stream",
     "text": [
      "26.926s -- SplitterTreeFinder init time\n"
     ]
    }
   ],
   "source": [
    "tree_2k = Tree2k(df, data_dir / '2k')"
   ]
  },
  {
   "cell_type": "code",
   "execution_count": 26,
   "id": "b4bc1618",
   "metadata": {},
   "outputs": [
    {
     "name": "stdout",
     "output_type": "stream",
     "text": [
      "25.755s -- SplitterTreeFinder init time\n"
     ]
    }
   ],
   "source": [
    "tree_1k = Tree1k(df, data_dir / '1k')"
   ]
  },
  {
   "cell_type": "code",
   "execution_count": 27,
   "id": "69ad7298",
   "metadata": {},
   "outputs": [],
   "source": [
    "speedTester = FinderSpeedTester([bf_finder, tree_1k, tree_2k, tree_3k, tree_4k, tree_5k])"
   ]
  },
  {
   "cell_type": "code",
   "execution_count": 28,
   "id": "a1f08e6b",
   "metadata": {},
   "outputs": [],
   "source": [
    "stat = speedTester.test_all(queries)"
   ]
  },
  {
   "cell_type": "code",
   "execution_count": 29,
   "id": "4892b134",
   "metadata": {},
   "outputs": [
    {
     "data": {
      "image/png": "[encoded data removed]",
      "text/plain": [
       "<Figure size 576x576 with 1 Axes>"
      ]
     },
     "metadata": {
      "needs_background": "light"
     },
     "output_type": "display_data"
    }
   ],
   "source": [
    "\n",
    "stat.as_boxplot()"
   ]
  },
  {
   "cell_type": "code",
   "execution_count": 30,
   "id": "98ffeca2",
   "metadata": {},
   "outputs": [],
   "source": [
    "class Tree500(SplitterTreeFinder):\n",
    "    BUCKET_SIZE = 500\n",
    "\n",
    "class Tree100(SplitterTreeFinder):\n",
    "    BUCKET_SIZE = 100\n",
    "    \n",
    "class Tree50(SplitterTreeFinder):\n",
    "    BUCKET_SIZE = 50"
   ]
  },
  {
   "cell_type": "code",
   "execution_count": 32,
   "id": "81498d97",
   "metadata": {},
   "outputs": [
    {
     "name": "stdout",
     "output_type": "stream",
     "text": [
      "25.345s -- SplitterTreeFinder init time\n"
     ]
    }
   ],
   "source": [
    "tree_500 = Tree500(df, data_dir / '500')"
   ]
  },
  {
   "cell_type": "code",
   "execution_count": 33,
   "id": "c3d80889",
   "metadata": {},
   "outputs": [
    {
     "name": "stdout",
     "output_type": "stream",
     "text": [
      "26.932s -- SplitterTreeFinder init time\n"
     ]
    }
   ],
   "source": [
    "tree_100 = Tree100(df, data_dir / '100')"
   ]
  },
  {
   "cell_type": "code",
   "execution_count": 36,
   "id": "42afe839",
   "metadata": {},
   "outputs": [],
   "source": [
    "speedTester = FinderSpeedTester([bf_finder, tree_100, tree_500, tree_1k])"
   ]
  },
  {
   "cell_type": "code",
   "execution_count": 38,
   "id": "efae96bb",
   "metadata": {},
   "outputs": [],
   "source": [
    "stat = speedTester.test_all(queries)"
   ]
  },
  {
   "cell_type": "code",
   "execution_count": 42,
   "id": "cb36e31a",
   "metadata": {},
   "outputs": [
    {
     "data": {
      "image/png": "[encoded data removed]",
      "text/plain": [
       "<Figure size 576x1152 with 1 Axes>"
      ]
     },
     "metadata": {
      "needs_background": "light"
     },
     "output_type": "display_data"
    }
   ],
   "source": [
    "stat.as_boxplot(figsize=(8, 16))"
   ]
  },
  {
   "cell_type": "code",
   "execution_count": null,
   "id": "319664fb",
   "metadata": {},
   "outputs": [],
   "source": []
  }
 ],
 "metadata": {
  "kernelspec": {
   "display_name": "Python 3 (ipykernel)",
   "language": "python",
   "name": "python3"
  },
  "language_info": {
   "codemirror_mode": {
    "name": "ipython",
    "version": 3
   },
   "file_extension": ".py",
   "mimetype": "text/x-python",
   "name": "python",
   "nbconvert_exporter": "python",
   "pygments_lexer": "ipython3",
   "version": "3.10.5"
  }
 },
 "nbformat": 4,
 "nbformat_minor": 5
}
