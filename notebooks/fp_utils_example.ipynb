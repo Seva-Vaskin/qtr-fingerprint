{
 "cells": [
  {
   "cell_type": "code",
   "execution_count": null,
   "id": "5639dd22",
   "metadata": {},
   "outputs": [],
   "source": [
    "import numpy as np\n",
    "import pandas as pd\n",
    "import matplotlib.pyplot as plt\n",
    "from pathlib import Path\n",
    "import time"
   ]
  },
  {
   "cell_type": "markdown",
   "id": "98b839e4",
   "metadata": {},
   "source": [
    "# Init"
   ]
  },
  {
   "cell_type": "code",
   "execution_count": null,
   "id": "c4d660b2",
   "metadata": {
    "scrolled": false
   },
   "outputs": [],
   "source": [
    "import fp_utils"
   ]
  },
  {
   "cell_type": "code",
   "execution_count": null,
   "id": "6b6f63b8",
   "metadata": {},
   "outputs": [],
   "source": [
    "fp_utils.settings.init_fp_utils()"
   ]
  },
  {
   "cell_type": "markdown",
   "id": "81224f19",
   "metadata": {},
   "source": [
    "# Data io"
   ]
  },
  {
   "cell_type": "code",
   "execution_count": null,
   "id": "620a99fd",
   "metadata": {},
   "outputs": [],
   "source": [
    "data_path = Path('../data')"
   ]
  },
  {
   "cell_type": "code",
   "execution_count": null,
   "id": "85be0f01",
   "metadata": {},
   "outputs": [],
   "source": [
    "from fp_utils.data_io import DataFrameLoader"
   ]
  },
  {
   "cell_type": "code",
   "execution_count": null,
   "id": "7f66473f",
   "metadata": {},
   "outputs": [],
   "source": [
    "df = DataFrameLoader.pickle(data_path / '1e5.pickle')\n",
    "df.shape"
   ]
  },
  {
   "cell_type": "code",
   "execution_count": null,
   "id": "68c5d2d1",
   "metadata": {},
   "outputs": [],
   "source": [
    "cols2 = np.load('../data/cols.npy')"
   ]
  },
  {
   "cell_type": "code",
   "execution_count": null,
   "id": "f8a10b73",
   "metadata": {},
   "outputs": [],
   "source": [
    "df2 = DataFrameLoader.pickle('../data/1e5.pickle', columns=cols2)"
   ]
  },
  {
   "cell_type": "markdown",
   "id": "750dda47",
   "metadata": {},
   "source": [
    "# Speed testing"
   ]
  },
  {
   "cell_type": "code",
   "execution_count": null,
   "id": "58059db9",
   "metadata": {},
   "outputs": [],
   "source": [
    "from fp_utils.finders import BFDriveFinder, BFRamFinder, BFPDriveFinder, BFPRamFinder\n",
    "from fp_utils.tests import FinderSpeedTester\n",
    "from fp_utils.packing_mixins import PickleMixin"
   ]
  },
  {
   "cell_type": "code",
   "execution_count": null,
   "id": "643544b0",
   "metadata": {},
   "outputs": [],
   "source": [
    "class BFD(BFDriveFinder, PickleMixin):\n",
    "    pass\n",
    "\n",
    "class BFPD(BFPDriveFinder, PickleMixin):\n",
    "    pass"
   ]
  },
  {
   "cell_type": "code",
   "execution_count": null,
   "id": "616f0edb",
   "metadata": {
    "scrolled": true
   },
   "outputs": [],
   "source": [
    "bf_drive_finder = BFD(df, data_path)"
   ]
  },
  {
   "cell_type": "code",
   "execution_count": null,
   "id": "a4bb6067",
   "metadata": {},
   "outputs": [],
   "source": [
    "bf_ram_finder = BFRamFinder(df)"
   ]
  },
  {
   "cell_type": "code",
   "execution_count": null,
   "id": "4db9113c",
   "metadata": {},
   "outputs": [],
   "source": [
    "bfp_drive_finder = BFPD(df, data_path)"
   ]
  },
  {
   "cell_type": "code",
   "execution_count": null,
   "id": "0f93dba3",
   "metadata": {},
   "outputs": [],
   "source": [
    "bfp_ram_finder = BFPRamFinder(df)"
   ]
  },
  {
   "cell_type": "code",
   "execution_count": null,
   "id": "5246c8e6",
   "metadata": {},
   "outputs": [],
   "source": [
    "finders = [bf_drive_finder, bfp_drive_finder, bf_ram_finder, bfp_ram_finder]"
   ]
  },
  {
   "cell_type": "code",
   "execution_count": null,
   "id": "c766378f",
   "metadata": {
    "scrolled": true
   },
   "outputs": [],
   "source": [
    "speed_tester = FinderSpeedTester(finders)"
   ]
  },
  {
   "cell_type": "code",
   "execution_count": null,
   "id": "e828eb6c",
   "metadata": {
    "scrolled": true
   },
   "outputs": [],
   "source": [
    "fp_utils.settings.set_progress_bar(False)\n",
    "speed_tester.test_random(df, 2, verbose=True) "
   ]
  },
  {
   "cell_type": "code",
   "execution_count": null,
   "id": "c3bb6ace",
   "metadata": {},
   "outputs": [],
   "source": [
    "stat = speed_tester.test_random(df, 2, ans_count=10, verbose=True)"
   ]
  },
  {
   "cell_type": "code",
   "execution_count": null,
   "id": "0002e460",
   "metadata": {
    "scrolled": true
   },
   "outputs": [],
   "source": [
    "stat.as_plot(figsize=(8, 5))"
   ]
  },
  {
   "cell_type": "code",
   "execution_count": null,
   "id": "dbb65a7f",
   "metadata": {},
   "outputs": [],
   "source": [
    "stat.as_boxplot(figsize=(8, 5))"
   ]
  },
  {
   "cell_type": "markdown",
   "id": "670d1ca8",
   "metadata": {},
   "source": [
    "# Corectness testing"
   ]
  },
  {
   "cell_type": "code",
   "execution_count": null,
   "id": "470d4e0b",
   "metadata": {},
   "outputs": [],
   "source": [
    "from fp_utils.tests import FinderCorrectnessTester"
   ]
  },
  {
   "cell_type": "code",
   "execution_count": null,
   "id": "3b2cda01",
   "metadata": {},
   "outputs": [],
   "source": [
    "correctness_tester = FinderCorrectnessTester(finders[0], finders[1:])"
   ]
  },
  {
   "cell_type": "code",
   "execution_count": null,
   "id": "619a70a7",
   "metadata": {},
   "outputs": [],
   "source": [
    "correctness_tester.test_random(df, 2)"
   ]
  },
  {
   "cell_type": "code",
   "execution_count": null,
   "id": "895e5877",
   "metadata": {},
   "outputs": [],
   "source": [
    "correctness_tester.test_all(df.sample(2), verbose=True)"
   ]
  },
  {
   "cell_type": "code",
   "execution_count": null,
   "id": "93729245",
   "metadata": {},
   "outputs": [],
   "source": [
    "wa_finder = BFRamFinder(df.sample(int(len(df) * 0.5)))"
   ]
  },
  {
   "cell_type": "code",
   "execution_count": null,
   "id": "26cc604c",
   "metadata": {},
   "outputs": [],
   "source": [
    "correctness_tester = FinderCorrectnessTester(bf_drive_finder, [bfp_drive_finder, wa_finder])"
   ]
  },
  {
   "cell_type": "code",
   "execution_count": null,
   "id": "f8d51001",
   "metadata": {
    "scrolled": false
   },
   "outputs": [],
   "source": [
    "correctness_tester.test_random(df, 2, verbose=True)"
   ]
  },
  {
   "cell_type": "markdown",
   "id": "4be03b80",
   "metadata": {},
   "source": [
    "# Draw"
   ]
  },
  {
   "cell_type": "code",
   "execution_count": null,
   "id": "4e11ff6e",
   "metadata": {},
   "outputs": [],
   "source": [
    "from fp_utils.draw import MoleculeDrawer"
   ]
  },
  {
   "cell_type": "code",
   "execution_count": null,
   "id": "883c522b",
   "metadata": {},
   "outputs": [],
   "source": [
    "fingerprint = pd.read_pickle(\"../data/f.pickle\")\n",
    "fingerprint.name = 'NCCc1ccc4c(c1)OCCO4'\n",
    "fingerprint = fingerprint[df.columns]"
   ]
  },
  {
   "cell_type": "code",
   "execution_count": null,
   "id": "d3df6d75",
   "metadata": {
    "scrolled": true
   },
   "outputs": [],
   "source": [
    "MoleculeDrawer.draw_one(fingerprint.name)"
   ]
  },
  {
   "cell_type": "code",
   "execution_count": null,
   "id": "ceb7e711",
   "metadata": {},
   "outputs": [],
   "source": [
    "answers = list(bf_ram_finder.find(fingerprint, ans_count=10))"
   ]
  }
 ],
 "metadata": {
  "kernelspec": {
   "display_name": "Python 3 (ipykernel)",
   "language": "python",
   "name": "python3"
  },
  "language_info": {
   "codemirror_mode": {
    "name": "ipython",
    "version": 3
   },
   "file_extension": ".py",
   "mimetype": "text/x-python",
   "name": "python",
   "nbconvert_exporter": "python",
   "pygments_lexer": "ipython3",
   "version": "3.10.5"
  }
 },
 "nbformat": 4,
 "nbformat_minor": 5
}
