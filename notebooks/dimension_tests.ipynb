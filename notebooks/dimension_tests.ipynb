{
 "cells": [
  {
   "cell_type": "code",
   "execution_count": 1,
   "id": "285960c3",
   "metadata": {},
   "outputs": [],
   "source": [
    "import pandas as pd\n",
    "import numpy as np\n",
    "from pathlib import Path"
   ]
  },
  {
   "cell_type": "code",
   "execution_count": 2,
   "id": "25546087",
   "metadata": {},
   "outputs": [],
   "source": [
    "import fp_utils"
   ]
  },
  {
   "cell_type": "code",
   "execution_count": 3,
   "id": "1b369f88",
   "metadata": {},
   "outputs": [
    {
     "name": "stdout",
     "output_type": "stream",
     "text": [
      "INFO: Pandarallel will run on 4 workers.\n",
      "INFO: Pandarallel will use Memory file system to transfer data between the main process and workers.\n"
     ]
    }
   ],
   "source": [
    "fp_utils.settings.init_fp_utils()"
   ]
  },
  {
   "cell_type": "code",
   "execution_count": 4,
   "id": "180156ff",
   "metadata": {},
   "outputs": [],
   "source": [
    "data_dir = Path('../data')"
   ]
  },
  {
   "cell_type": "code",
   "execution_count": 5,
   "id": "d7e35ff3",
   "metadata": {},
   "outputs": [
    {
     "data": {
      "text/plain": [
       "(100000, 2575)"
      ]
     },
     "execution_count": 5,
     "metadata": {},
     "output_type": "execute_result"
    }
   ],
   "source": [
    "df = fp_utils.data_io.DataFrameLoader.pickle(data_dir / '1e5.pickle')\n",
    "df.shape"
   ]
  },
  {
   "cell_type": "markdown",
   "id": "e2262bb8",
   "metadata": {},
   "source": [
    "# Minimally correlating columns + BF"
   ]
  },
  {
   "cell_type": "code",
   "execution_count": 6,
   "id": "4eebd846",
   "metadata": {},
   "outputs": [],
   "source": [
    "min_cor_cols = np.load(str(data_dir / 'cols.npy'))"
   ]
  },
  {
   "cell_type": "code",
   "execution_count": 7,
   "id": "d0b8b74b",
   "metadata": {},
   "outputs": [
    {
     "data": {
      "text/plain": [
       "array([ 883,  489,   94, 1585, 1556, 1576,  832,  295,  919, 1345])"
      ]
     },
     "execution_count": 7,
     "metadata": {},
     "output_type": "execute_result"
    }
   ],
   "source": [
    "min_cor_cols[:10]"
   ]
  },
  {
   "cell_type": "code",
   "execution_count": 8,
   "id": "ff5cd110",
   "metadata": {},
   "outputs": [],
   "source": [
    "from fp_utils.finders import BFDriveFinder, SubColsFinder"
   ]
  },
  {
   "cell_type": "code",
   "execution_count": 9,
   "id": "fe4f699e",
   "metadata": {},
   "outputs": [
    {
     "name": "stdout",
     "output_type": "stream",
     "text": [
      "1.344s -- BFDriveFinder init time\n"
     ]
    }
   ],
   "source": [
    "bfd_finder = BFDriveFinder(df, data_dir / 'bf_data')"
   ]
  },
  {
   "cell_type": "code",
   "execution_count": 58,
   "id": "2b5a94d8",
   "metadata": {},
   "outputs": [],
   "source": [
    "class MCC10(SubColsFinder):\n",
    "    COLUMNS = min_cor_cols[:10]\n",
    "    \n",
    "class MCC50(SubColsFinder):\n",
    "    COLUMNS = min_cor_cols[:50]\n",
    "    \n",
    "class MCC100(SubColsFinder):\n",
    "    COLUMNS = min_cor_cols[:100]\n",
    "    \n",
    "class MCC500(SubColsFinder):\n",
    "    COLUMNS = min_cor_cols[:500]\n",
    "    \n",
    "class MCC1000(SubColsFinder):\n",
    "    COLUMNS = min_cor_cols[:1000]"
   ]
  },
  {
   "cell_type": "code",
   "execution_count": 11,
   "id": "20b06df3",
   "metadata": {},
   "outputs": [
    {
     "name": "stdout",
     "output_type": "stream",
     "text": [
      "0.026s -- BFDriveFinder init time\n",
      "1.075s -- MCC10 init time\n"
     ]
    }
   ],
   "source": [
    "mcc10 = MCC10(df, BFDriveFinder, data_dir / 'mcc10')"
   ]
  },
  {
   "cell_type": "code",
   "execution_count": 12,
   "id": "96e61146",
   "metadata": {
    "scrolled": true
   },
   "outputs": [
    {
     "name": "stdout",
     "output_type": "stream",
     "text": [
      "0.046s -- BFDriveFinder init time\n",
      "1.062s -- MCC50 init time\n"
     ]
    }
   ],
   "source": [
    "mcc50 = MCC50(df, BFDriveFinder, data_dir / 'mcc50')"
   ]
  },
  {
   "cell_type": "code",
   "execution_count": 13,
   "id": "9f3d16f7",
   "metadata": {},
   "outputs": [
    {
     "name": "stdout",
     "output_type": "stream",
     "text": [
      "0.077s -- BFDriveFinder init time\n",
      "0.936s -- MCC100 init time\n"
     ]
    }
   ],
   "source": [
    "mcc100 = MCC100(df, BFDriveFinder, data_dir / 'mcc100')"
   ]
  },
  {
   "cell_type": "code",
   "execution_count": 14,
   "id": "b5fae040",
   "metadata": {},
   "outputs": [
    {
     "name": "stdout",
     "output_type": "stream",
     "text": [
      "0.324s -- BFDriveFinder init time\n",
      "1.465s -- MCC500 init time\n"
     ]
    }
   ],
   "source": [
    "mcc500 = MCC500(df, BFDriveFinder, data_dir / 'mcc500')"
   ]
  },
  {
   "cell_type": "code",
   "execution_count": 15,
   "id": "4b7a9e29",
   "metadata": {},
   "outputs": [
    {
     "name": "stdout",
     "output_type": "stream",
     "text": [
      "0.542s -- BFDriveFinder init time\n",
      "2.230s -- MCC1000 init time\n"
     ]
    }
   ],
   "source": [
    "mcc1000 = MCC1000(df, BFDriveFinder, data_dir / 'mcc1000')"
   ]
  },
  {
   "cell_type": "code",
   "execution_count": 16,
   "id": "05fda143",
   "metadata": {},
   "outputs": [],
   "source": [
    "from fp_utils.tests import FinderCorrectnessTester, FinderSpeedTester"
   ]
  },
  {
   "cell_type": "code",
   "execution_count": 17,
   "id": "62e07750",
   "metadata": {},
   "outputs": [],
   "source": [
    "checker = FinderCorrectnessTester(bfd_finder, [mcc10, mcc50, mcc100, mcc500, mcc1000])"
   ]
  },
  {
   "cell_type": "code",
   "execution_count": 18,
   "id": "f7360f17",
   "metadata": {},
   "outputs": [],
   "source": [
    "tests = df.sample(20)"
   ]
  },
  {
   "cell_type": "code",
   "execution_count": null,
   "id": "9bb261ed",
   "metadata": {
    "scrolled": false
   },
   "outputs": [],
   "source": [
    "%%time\n",
    "checker.test_all(tests, verbose=True)"
   ]
  },
  {
   "cell_type": "code",
   "execution_count": 19,
   "id": "b4a3de89",
   "metadata": {},
   "outputs": [],
   "source": [
    "speed_tester = FinderSpeedTester([bfd_finder, mcc10, mcc50, mcc100, mcc500, mcc1000])"
   ]
  },
  {
   "cell_type": "code",
   "execution_count": 20,
   "id": "722e01ff",
   "metadata": {},
   "outputs": [
    {
     "name": "stdout",
     "output_type": "stream",
     "text": [
      "-----\n",
      "Test #000\n",
      "1.884s -- BFDriveFinder\n",
      "1.143s -- MCC10\n",
      "0.339s -- MCC50\n",
      "0.372s -- MCC100\n",
      "0.626s -- MCC500\n",
      "0.897s -- MCC1000\n",
      "-----\n",
      "Test #001\n",
      "1.210s -- BFDriveFinder\n",
      "4.817s -- MCC10\n",
      "0.318s -- MCC50\n",
      "0.322s -- MCC100\n",
      "0.470s -- MCC500\n",
      "0.618s -- MCC1000\n",
      "-----\n",
      "Test #002\n",
      "1.100s -- BFDriveFinder\n",
      "0.442s -- MCC10\n",
      "0.305s -- MCC50\n",
      "0.321s -- MCC100\n",
      "0.508s -- MCC500\n",
      "0.626s -- MCC1000\n",
      "-----\n",
      "Test #003\n",
      "1.079s -- BFDriveFinder\n",
      "0.372s -- MCC10\n",
      "0.309s -- MCC50\n",
      "0.323s -- MCC100\n",
      "0.461s -- MCC500\n",
      "0.617s -- MCC1000\n",
      "-----\n",
      "Test #004\n",
      "1.052s -- BFDriveFinder\n",
      "0.452s -- MCC10\n",
      "0.338s -- MCC50\n",
      "0.335s -- MCC100\n",
      "0.464s -- MCC500\n",
      "0.630s -- MCC1000\n",
      "-----\n",
      "Test #005\n",
      "1.034s -- BFDriveFinder\n",
      "4.730s -- MCC10\n",
      "0.306s -- MCC50\n",
      "0.321s -- MCC100\n",
      "0.458s -- MCC500\n",
      "0.618s -- MCC1000\n",
      "-----\n",
      "Test #006\n",
      "1.071s -- BFDriveFinder\n",
      "1.083s -- MCC10\n",
      "0.320s -- MCC50\n",
      "0.326s -- MCC100\n",
      "0.462s -- MCC500\n",
      "0.610s -- MCC1000\n",
      "-----\n",
      "Test #007\n",
      "1.035s -- BFDriveFinder\n",
      "0.435s -- MCC10\n",
      "0.308s -- MCC50\n",
      "0.320s -- MCC100\n",
      "0.456s -- MCC500\n",
      "0.610s -- MCC1000\n",
      "-----\n",
      "Test #008\n",
      "1.049s -- BFDriveFinder\n",
      "0.348s -- MCC10\n",
      "0.384s -- MCC50\n",
      "0.349s -- MCC100\n",
      "0.446s -- MCC500\n",
      "0.596s -- MCC1000\n",
      "-----\n",
      "Test #009\n",
      "1.011s -- BFDriveFinder\n",
      "0.346s -- MCC10\n",
      "0.305s -- MCC50\n",
      "0.319s -- MCC100\n",
      "0.445s -- MCC500\n",
      "0.589s -- MCC1000\n",
      "-----\n",
      "Test #010\n",
      "0.995s -- BFDriveFinder\n",
      "0.455s -- MCC10\n",
      "0.465s -- MCC50\n",
      "0.324s -- MCC100\n",
      "0.445s -- MCC500\n",
      "0.590s -- MCC1000\n",
      "-----\n",
      "Test #011\n",
      "1.003s -- BFDriveFinder\n",
      "4.873s -- MCC10\n",
      "0.310s -- MCC50\n",
      "0.339s -- MCC100\n",
      "0.446s -- MCC500\n",
      "0.613s -- MCC1000\n",
      "-----\n",
      "Test #012\n",
      "0.995s -- BFDriveFinder\n",
      "4.779s -- MCC10\n",
      "0.317s -- MCC50\n",
      "0.325s -- MCC100\n",
      "0.446s -- MCC500\n",
      "0.592s -- MCC1000\n",
      "-----\n",
      "Test #013\n",
      "1.021s -- BFDriveFinder\n",
      "4.752s -- MCC10\n",
      "0.329s -- MCC50\n",
      "0.321s -- MCC100\n",
      "0.447s -- MCC500\n",
      "0.593s -- MCC1000\n",
      "-----\n",
      "Test #014\n",
      "1.001s -- BFDriveFinder\n",
      "4.764s -- MCC10\n",
      "0.306s -- MCC50\n",
      "0.317s -- MCC100\n",
      "0.447s -- MCC500\n",
      "0.594s -- MCC1000\n",
      "-----\n",
      "Test #015\n",
      "1.007s -- BFDriveFinder\n",
      "4.751s -- MCC10\n",
      "4.766s -- MCC50\n",
      "4.789s -- MCC100\n",
      "0.905s -- MCC500\n",
      "0.600s -- MCC1000\n",
      "-----\n",
      "Test #016\n",
      "1.010s -- BFDriveFinder\n",
      "0.438s -- MCC10\n",
      "0.320s -- MCC50\n",
      "0.323s -- MCC100\n",
      "0.445s -- MCC500\n",
      "0.590s -- MCC1000\n",
      "-----\n",
      "Test #017\n",
      "1.002s -- BFDriveFinder\n",
      "0.998s -- MCC10\n",
      "0.368s -- MCC50\n",
      "0.322s -- MCC100\n",
      "0.449s -- MCC500\n",
      "0.594s -- MCC1000\n",
      "-----\n",
      "Test #018\n",
      "1.006s -- BFDriveFinder\n",
      "0.309s -- MCC10\n",
      "0.310s -- MCC50\n",
      "0.326s -- MCC100\n",
      "0.446s -- MCC500\n",
      "0.594s -- MCC1000\n",
      "-----\n",
      "Test #019\n",
      "1.005s -- BFDriveFinder\n",
      "0.997s -- MCC10\n",
      "0.534s -- MCC50\n",
      "0.366s -- MCC100\n",
      "0.455s -- MCC500\n",
      "0.591s -- MCC1000\n",
      "-----\n"
     ]
    }
   ],
   "source": [
    "stat = speed_tester.test_all(tests, verbose=True)"
   ]
  },
  {
   "cell_type": "code",
   "execution_count": 21,
   "id": "57c7d57d",
   "metadata": {},
   "outputs": [
    {
     "data": {
      "image/png": "[encoded data removed]",
      "text/plain": [
       "<Figure size 576x576 with 1 Axes>"
      ]
     },
     "metadata": {
      "needs_background": "light"
     },
     "output_type": "display_data"
    }
   ],
   "source": [
    "stat.as_boxplot()"
   ]
  },
  {
   "cell_type": "code",
   "execution_count": 22,
   "id": "2a1790cc",
   "metadata": {},
   "outputs": [
    {
     "data": {
      "image/png": "[encoded data removed]",
      "text/plain": [
       "<Figure size 576x576 with 1 Axes>"
      ]
     },
     "metadata": {
      "needs_background": "light"
     },
     "output_type": "display_data"
    }
   ],
   "source": [
    "stat.drop([bfd_finder, MCC10]).as_boxplot()"
   ]
  },
  {
   "cell_type": "code",
   "execution_count": 23,
   "id": "9d7602e1",
   "metadata": {},
   "outputs": [
    {
     "data": {
      "image/png": "[encoded data removed]",
      "text/plain": [
       "<Figure size 1152x576 with 1 Axes>"
      ]
     },
     "metadata": {
      "needs_background": "light"
     },
     "output_type": "display_data"
    }
   ],
   "source": [
    "stat.drop([bfd_finder, MCC10]).as_plot()"
   ]
  },
  {
   "cell_type": "code",
   "execution_count": 24,
   "id": "167adb41",
   "metadata": {},
   "outputs": [],
   "source": [
    "class MCC20(SubColsFinder):\n",
    "    COLUMNS = min_cor_cols[:20]\n",
    "    \n",
    "class MCC30(SubColsFinder):\n",
    "    COLUMNS = min_cor_cols[:30]\n",
    "    \n",
    "class MCC40(SubColsFinder):\n",
    "    COLUMNS = min_cor_cols[:40]"
   ]
  },
  {
   "cell_type": "code",
   "execution_count": 25,
   "id": "650a54c7",
   "metadata": {},
   "outputs": [
    {
     "name": "stdout",
     "output_type": "stream",
     "text": [
      "0.034s -- BFDriveFinder init time\n",
      "1.341s -- MCC20 init time\n"
     ]
    }
   ],
   "source": [
    "mcc20 = MCC20(df,BFDriveFinder, data_dir / 'mcc20')"
   ]
  },
  {
   "cell_type": "code",
   "execution_count": 26,
   "id": "8e35d74c",
   "metadata": {},
   "outputs": [
    {
     "name": "stdout",
     "output_type": "stream",
     "text": [
      "0.039s -- BFDriveFinder init time\n",
      "1.573s -- MCC30 init time\n"
     ]
    }
   ],
   "source": [
    "mcc30 = MCC30(df, BFDriveFinder, data_dir / 'mcc30')"
   ]
  },
  {
   "cell_type": "code",
   "execution_count": 27,
   "id": "d6c07149",
   "metadata": {},
   "outputs": [
    {
     "name": "stdout",
     "output_type": "stream",
     "text": [
      "0.046s -- BFDriveFinder init time\n",
      "1.585s -- MCC40 init time\n"
     ]
    }
   ],
   "source": [
    "mcc40 = MCC40(df, BFDriveFinder, data_dir / 'mcc40')"
   ]
  },
  {
   "cell_type": "code",
   "execution_count": 28,
   "id": "4958057c",
   "metadata": {},
   "outputs": [],
   "source": [
    "speed_tester = FinderSpeedTester([mcc20, mcc30, mcc40])"
   ]
  },
  {
   "cell_type": "code",
   "execution_count": 29,
   "id": "c8c1a1df",
   "metadata": {},
   "outputs": [
    {
     "name": "stdout",
     "output_type": "stream",
     "text": [
      "-----\n",
      "Test #000\n",
      "1.044s -- MCC20\n",
      "0.471s -- MCC30\n",
      "0.351s -- MCC40\n",
      "-----\n",
      "Test #001\n",
      "0.544s -- MCC20\n",
      "0.323s -- MCC30\n",
      "0.302s -- MCC40\n",
      "-----\n",
      "Test #002\n",
      "0.324s -- MCC20\n",
      "0.297s -- MCC30\n",
      "0.294s -- MCC40\n",
      "-----\n",
      "Test #003\n",
      "0.367s -- MCC20\n",
      "0.302s -- MCC30\n",
      "0.298s -- MCC40\n",
      "-----\n",
      "Test #004\n",
      "0.458s -- MCC20\n",
      "0.463s -- MCC30\n",
      "0.326s -- MCC40\n",
      "-----\n",
      "Test #005\n",
      "0.374s -- MCC20\n",
      "0.315s -- MCC30\n",
      "0.303s -- MCC40\n",
      "-----\n",
      "Test #006\n",
      "0.316s -- MCC20\n",
      "0.310s -- MCC30\n",
      "0.308s -- MCC40\n",
      "-----\n",
      "Test #007\n",
      "0.333s -- MCC20\n",
      "0.319s -- MCC30\n",
      "0.310s -- MCC40\n",
      "-----\n",
      "Test #008\n",
      "0.319s -- MCC20\n",
      "0.308s -- MCC30\n",
      "0.308s -- MCC40\n",
      "-----\n",
      "Test #009\n",
      "0.302s -- MCC20\n",
      "0.311s -- MCC30\n",
      "0.302s -- MCC40\n",
      "-----\n",
      "Test #010\n",
      "0.460s -- MCC20\n",
      "0.463s -- MCC30\n",
      "0.472s -- MCC40\n",
      "-----\n",
      "Test #011\n",
      "0.335s -- MCC20\n",
      "0.319s -- MCC30\n",
      "0.316s -- MCC40\n",
      "-----\n",
      "Test #012\n",
      "1.032s -- MCC20\n",
      "0.340s -- MCC30\n",
      "0.324s -- MCC40\n",
      "-----\n",
      "Test #013\n",
      "4.870s -- MCC20\n",
      "0.537s -- MCC30\n",
      "0.329s -- MCC40\n",
      "-----\n",
      "Test #014\n",
      "0.534s -- MCC20\n",
      "0.321s -- MCC30\n",
      "0.316s -- MCC40\n",
      "-----\n",
      "Test #015\n",
      "4.869s -- MCC20\n",
      "4.877s -- MCC30\n",
      "4.845s -- MCC40\n",
      "-----\n",
      "Test #016\n",
      "0.346s -- MCC20\n",
      "0.354s -- MCC30\n",
      "0.326s -- MCC40\n",
      "-----\n",
      "Test #017\n",
      "1.035s -- MCC20\n",
      "1.038s -- MCC30\n",
      "1.046s -- MCC40\n",
      "-----\n",
      "Test #018\n",
      "0.317s -- MCC20\n",
      "0.325s -- MCC30\n",
      "0.318s -- MCC40\n",
      "-----\n",
      "Test #019\n",
      "1.037s -- MCC20\n",
      "1.030s -- MCC30\n",
      "1.020s -- MCC40\n",
      "-----\n"
     ]
    }
   ],
   "source": [
    "stat2 = speed_tester.test_all(tests, verbose=True)"
   ]
  },
  {
   "cell_type": "code",
   "execution_count": 36,
   "id": "ec3b127b",
   "metadata": {
    "scrolled": false
   },
   "outputs": [],
   "source": [
    "stat3 = stat.take([mcc10]) + stat2 + stat.take([mcc50])"
   ]
  },
  {
   "cell_type": "code",
   "execution_count": 111,
   "id": "53c43210",
   "metadata": {
    "scrolled": false
   },
   "outputs": [
    {
     "data": {
      "image/png": "[encoded data removed]",
      "text/plain": [
       "<Figure size 576x576 with 1 Axes>"
      ]
     },
     "metadata": {
      "needs_background": "light"
     },
     "output_type": "display_data"
    }
   ],
   "source": [
    "stat3.as_boxplot()"
   ]
  },
  {
   "cell_type": "code",
   "execution_count": 112,
   "id": "e80cf3e7",
   "metadata": {},
   "outputs": [
    {
     "data": {
      "text/plain": [
       "MCC10:\n",
       "\t0.309 -- min\n",
       "\t4.873 -- max\n",
       "\t2.064 -- mean\n",
       "\t0.997 -- median\n",
       "MCC20:\n",
       "\t0.302 -- min\n",
       "\t4.870 -- max\n",
       "\t0.961 -- mean\n",
       "\t0.416 -- median\n",
       "MCC30:\n",
       "\t0.297 -- min\n",
       "\t4.877 -- max\n",
       "\t0.651 -- mean\n",
       "\t0.324 -- median\n",
       "MCC40:\n",
       "\t0.294 -- min\n",
       "\t4.845 -- max\n",
       "\t0.621 -- mean\n",
       "\t0.317 -- median\n",
       "MCC50:\n",
       "\t0.305 -- min\n",
       "\t4.766 -- max\n",
       "\t0.563 -- mean\n",
       "\t0.319 -- median"
      ]
     },
     "execution_count": 112,
     "metadata": {},
     "output_type": "execute_result"
    }
   ],
   "source": [
    "stat3"
   ]
  },
  {
   "cell_type": "markdown",
   "id": "09eea654",
   "metadata": {},
   "source": [
    "# Minimally correlating columns + SplitTree"
   ]
  },
  {
   "cell_type": "code",
   "execution_count": 38,
   "id": "f10da937",
   "metadata": {},
   "outputs": [],
   "source": [
    "from fp_utils.finders import SplitterTreeFinder"
   ]
  },
  {
   "cell_type": "code",
   "execution_count": 39,
   "id": "8fa893bd",
   "metadata": {},
   "outputs": [
    {
     "name": "stdout",
     "output_type": "stream",
     "text": [
      "29.868s -- SplitterTreeFinder init time\n"
     ]
    }
   ],
   "source": [
    "tree = SplitterTreeFinder(df, data_dir / 'splitter_tree')"
   ]
  },
  {
   "cell_type": "code",
   "execution_count": 47,
   "id": "b77f2c1a",
   "metadata": {
    "scrolled": true
   },
   "outputs": [],
   "source": [
    "class Tree(SplitterTreeFinder):\n",
    "    BUCKET_SIZE = 10000\n",
    "    MAX_DEPTH = 5"
   ]
  },
  {
   "cell_type": "code",
   "execution_count": 49,
   "id": "ed72e096",
   "metadata": {
    "scrolled": true
   },
   "outputs": [
    {
     "ename": "IndexError",
     "evalue": "index 0 is out of bounds for axis 0 with size 0",
     "output_type": "error",
     "traceback": [
      "\u001b[0;31m---------------------------------------------------------------------------\u001b[0m",
      "\u001b[0;31mIndexError\u001b[0m                                Traceback (most recent call last)",
      "Input \u001b[0;32mIn [49]\u001b[0m, in \u001b[0;36m<cell line: 1>\u001b[0;34m()\u001b[0m\n\u001b[0;32m----> 1\u001b[0m mcc10 \u001b[38;5;241m=\u001b[39m \u001b[43mMCC10\u001b[49m\u001b[43m(\u001b[49m\u001b[43mdf\u001b[49m\u001b[43m,\u001b[49m\u001b[43m \u001b[49m\u001b[43mTree\u001b[49m\u001b[43m,\u001b[49m\u001b[43m \u001b[49m\u001b[43mdata_dir\u001b[49m\u001b[43m \u001b[49m\u001b[38;5;241;43m/\u001b[39;49m\u001b[43m \u001b[49m\u001b[38;5;124;43m'\u001b[39;49m\u001b[38;5;124;43mmcc10\u001b[39;49m\u001b[38;5;124;43m'\u001b[39;49m\u001b[43m)\u001b[49m\n",
      "File \u001b[0;32m~/qtr-fingerprint/notebooks/fp_utils/catch_time.py:43\u001b[0m, in \u001b[0;36mCatchTime.__call__.<locals>.wrap_function\u001b[0;34m(*args, **kwargs)\u001b[0m\n\u001b[1;32m     40\u001b[0m \u001b[38;5;129m@functools\u001b[39m\u001b[38;5;241m.\u001b[39mwraps(function)\n\u001b[1;32m     41\u001b[0m \u001b[38;5;28;01mdef\u001b[39;00m \u001b[38;5;21mwrap_function\u001b[39m(\u001b[38;5;241m*\u001b[39margs, \u001b[38;5;241m*\u001b[39m\u001b[38;5;241m*\u001b[39mkwargs):\n\u001b[1;32m     42\u001b[0m     \u001b[38;5;28;01mwith\u001b[39;00m \u001b[38;5;28mself\u001b[39m:\n\u001b[0;32m---> 43\u001b[0m         return_value \u001b[38;5;241m=\u001b[39m \u001b[43mfunction\u001b[49m\u001b[43m(\u001b[49m\u001b[38;5;241;43m*\u001b[39;49m\u001b[43margs\u001b[49m\u001b[43m,\u001b[49m\u001b[43m \u001b[49m\u001b[38;5;241;43m*\u001b[39;49m\u001b[38;5;241;43m*\u001b[39;49m\u001b[43mkwargs\u001b[49m\u001b[43m)\u001b[49m\n\u001b[1;32m     44\u001b[0m     \u001b[38;5;28mprint\u001b[39m(\u001b[38;5;28mself\u001b[39m)\n\u001b[1;32m     45\u001b[0m     \u001b[38;5;28;01mreturn\u001b[39;00m return_value\n",
      "File \u001b[0;32m~/qtr-fingerprint/notebooks/fp_utils/finders/subcols_finder.py:24\u001b[0m, in \u001b[0;36mSubColsFinder.__init__\u001b[0;34m(self, df, base_finder, *args, **kwargs)\u001b[0m\n\u001b[1;32m     22\u001b[0m \u001b[38;5;28mself\u001b[39m\u001b[38;5;241m.\u001b[39msub_df \u001b[38;5;241m=\u001b[39m df\u001b[38;5;241m.\u001b[39mloc[df\u001b[38;5;241m.\u001b[39mindex, df\u001b[38;5;241m.\u001b[39mcolumns\u001b[38;5;241m.\u001b[39misin(\u001b[38;5;28mself\u001b[39m\u001b[38;5;241m.\u001b[39mcolumns)]\n\u001b[1;32m     23\u001b[0m \u001b[38;5;28mself\u001b[39m\u001b[38;5;241m.\u001b[39msub_df \u001b[38;5;241m=\u001b[39m \u001b[38;5;28mself\u001b[39m\u001b[38;5;241m.\u001b[39msub_df[\u001b[38;5;28mself\u001b[39m\u001b[38;5;241m.\u001b[39mcolumns]\n\u001b[0;32m---> 24\u001b[0m \u001b[38;5;28mself\u001b[39m\u001b[38;5;241m.\u001b[39mbase_finder \u001b[38;5;241m=\u001b[39m \u001b[43mbase_finder\u001b[49m\u001b[43m(\u001b[49m\u001b[38;5;28;43mself\u001b[39;49m\u001b[38;5;241;43m.\u001b[39;49m\u001b[43msub_df\u001b[49m\u001b[43m,\u001b[49m\u001b[43m \u001b[49m\u001b[38;5;241;43m*\u001b[39;49m\u001b[43margs\u001b[49m\u001b[43m,\u001b[49m\u001b[43m \u001b[49m\u001b[38;5;241;43m*\u001b[39;49m\u001b[38;5;241;43m*\u001b[39;49m\u001b[43mkwargs\u001b[49m\u001b[43m)\u001b[49m\n",
      "File \u001b[0;32m~/qtr-fingerprint/notebooks/fp_utils/catch_time.py:43\u001b[0m, in \u001b[0;36mCatchTime.__call__.<locals>.wrap_function\u001b[0;34m(*args, **kwargs)\u001b[0m\n\u001b[1;32m     40\u001b[0m \u001b[38;5;129m@functools\u001b[39m\u001b[38;5;241m.\u001b[39mwraps(function)\n\u001b[1;32m     41\u001b[0m \u001b[38;5;28;01mdef\u001b[39;00m \u001b[38;5;21mwrap_function\u001b[39m(\u001b[38;5;241m*\u001b[39margs, \u001b[38;5;241m*\u001b[39m\u001b[38;5;241m*\u001b[39mkwargs):\n\u001b[1;32m     42\u001b[0m     \u001b[38;5;28;01mwith\u001b[39;00m \u001b[38;5;28mself\u001b[39m:\n\u001b[0;32m---> 43\u001b[0m         return_value \u001b[38;5;241m=\u001b[39m \u001b[43mfunction\u001b[49m\u001b[43m(\u001b[49m\u001b[38;5;241;43m*\u001b[39;49m\u001b[43margs\u001b[49m\u001b[43m,\u001b[49m\u001b[43m \u001b[49m\u001b[38;5;241;43m*\u001b[39;49m\u001b[38;5;241;43m*\u001b[39;49m\u001b[43mkwargs\u001b[49m\u001b[43m)\u001b[49m\n\u001b[1;32m     44\u001b[0m     \u001b[38;5;28mprint\u001b[39m(\u001b[38;5;28mself\u001b[39m)\n\u001b[1;32m     45\u001b[0m     \u001b[38;5;28;01mreturn\u001b[39;00m return_value\n",
      "File \u001b[0;32m~/qtr-fingerprint/notebooks/fp_utils/finders/splitter_tree_finder.py:38\u001b[0m, in \u001b[0;36mSplitterTreeFinder.__init__\u001b[0;34m(self, df, directory)\u001b[0m\n\u001b[1;32m     36\u001b[0m \u001b[38;5;28;01mdef\u001b[39;00m \u001b[38;5;21m__init__\u001b[39m(\u001b[38;5;28mself\u001b[39m, df: pd\u001b[38;5;241m.\u001b[39mDataFrame, directory: PathType) \u001b[38;5;241m-\u001b[39m\u001b[38;5;241m>\u001b[39m \u001b[38;5;28;01mNone\u001b[39;00m:\n\u001b[1;32m     37\u001b[0m     \u001b[38;5;28mself\u001b[39m\u001b[38;5;241m.\u001b[39mdirectory \u001b[38;5;241m=\u001b[39m Path(directory)\n\u001b[0;32m---> 38\u001b[0m     \u001b[38;5;28mself\u001b[39m\u001b[38;5;241m.\u001b[39m__tree \u001b[38;5;241m=\u001b[39m \u001b[38;5;28;43mself\u001b[39;49m\u001b[38;5;241;43m.\u001b[39;49m\u001b[43m__build_tree\u001b[49m\u001b[43m(\u001b[49m\u001b[43mdf\u001b[49m\u001b[38;5;241;43m.\u001b[39;49m\u001b[43mindex\u001b[49m\u001b[43m,\u001b[49m\u001b[43m \u001b[49m\u001b[43mdf\u001b[49m\u001b[43m,\u001b[49m\u001b[43m \u001b[49m\u001b[38;5;28;43mlist\u001b[39;49m\u001b[43m(\u001b[49m\u001b[43m)\u001b[49m\u001b[43m,\u001b[49m\u001b[43m \u001b[49m\u001b[38;5;28;43mself\u001b[39;49m\u001b[38;5;241;43m.\u001b[39;49m\u001b[43mMAX_DEPTH\u001b[49m\u001b[43m,\u001b[49m\u001b[43m \u001b[49m\u001b[38;5;124;43m'\u001b[39;49m\u001b[38;5;124;43m'\u001b[39;49m\u001b[43m)\u001b[49m\n",
      "File \u001b[0;32m~/qtr-fingerprint/notebooks/fp_utils/finders/splitter_tree_finder.py:99\u001b[0m, in \u001b[0;36mSplitterTreeFinder.__build_tree\u001b[0;34m(self, df_index, df, used_cols, depth, node_path)\u001b[0m\n\u001b[1;32m     97\u001b[0m df_index_0, df_index_1, split_id \u001b[38;5;241m=\u001b[39m \u001b[38;5;28mself\u001b[39m\u001b[38;5;241m.\u001b[39m__split_df(df_index, df, used_cols)\n\u001b[1;32m     98\u001b[0m used_cols\u001b[38;5;241m.\u001b[39mappend(split_id)\n\u001b[0;32m---> 99\u001b[0m left \u001b[38;5;241m=\u001b[39m \u001b[38;5;28;43mself\u001b[39;49m\u001b[38;5;241;43m.\u001b[39;49m\u001b[43m__build_tree\u001b[49m\u001b[43m(\u001b[49m\u001b[43mdf_index_0\u001b[49m\u001b[43m,\u001b[49m\u001b[43m \u001b[49m\u001b[43mdf\u001b[49m\u001b[43m,\u001b[49m\u001b[43m \u001b[49m\u001b[43mused_cols\u001b[49m\u001b[43m,\u001b[49m\u001b[43m \u001b[49m\u001b[43mdepth\u001b[49m\u001b[43m \u001b[49m\u001b[38;5;241;43m-\u001b[39;49m\u001b[43m \u001b[49m\u001b[38;5;241;43m1\u001b[39;49m\u001b[43m,\u001b[49m\u001b[43m \u001b[49m\u001b[43mnode_path\u001b[49m\u001b[43m \u001b[49m\u001b[38;5;241;43m+\u001b[39;49m\u001b[43m \u001b[49m\u001b[38;5;124;43m'\u001b[39;49m\u001b[38;5;124;43m0\u001b[39;49m\u001b[38;5;124;43m'\u001b[39;49m\u001b[43m)\u001b[49m\n\u001b[1;32m    100\u001b[0m right \u001b[38;5;241m=\u001b[39m \u001b[38;5;28mself\u001b[39m\u001b[38;5;241m.\u001b[39m__build_tree(df_index_1, df, used_cols, depth \u001b[38;5;241m-\u001b[39m \u001b[38;5;241m1\u001b[39m, node_path \u001b[38;5;241m+\u001b[39m \u001b[38;5;124m'\u001b[39m\u001b[38;5;124m1\u001b[39m\u001b[38;5;124m'\u001b[39m)\n\u001b[1;32m    101\u001b[0m \u001b[38;5;28;01mreturn\u001b[39;00m \u001b[38;5;28mself\u001b[39m\u001b[38;5;241m.\u001b[39mTree(base\u001b[38;5;241m=\u001b[39m\u001b[38;5;28mself\u001b[39m, col_id\u001b[38;5;241m=\u001b[39msplit_id, left\u001b[38;5;241m=\u001b[39mleft, right\u001b[38;5;241m=\u001b[39mright, df_index\u001b[38;5;241m=\u001b[39mdf_index, df\u001b[38;5;241m=\u001b[39mdf,\n\u001b[1;32m    102\u001b[0m                  node_path\u001b[38;5;241m=\u001b[39mnode_path)\n",
      "File \u001b[0;32m~/qtr-fingerprint/notebooks/fp_utils/finders/splitter_tree_finder.py:99\u001b[0m, in \u001b[0;36mSplitterTreeFinder.__build_tree\u001b[0;34m(self, df_index, df, used_cols, depth, node_path)\u001b[0m\n\u001b[1;32m     97\u001b[0m df_index_0, df_index_1, split_id \u001b[38;5;241m=\u001b[39m \u001b[38;5;28mself\u001b[39m\u001b[38;5;241m.\u001b[39m__split_df(df_index, df, used_cols)\n\u001b[1;32m     98\u001b[0m used_cols\u001b[38;5;241m.\u001b[39mappend(split_id)\n\u001b[0;32m---> 99\u001b[0m left \u001b[38;5;241m=\u001b[39m \u001b[38;5;28;43mself\u001b[39;49m\u001b[38;5;241;43m.\u001b[39;49m\u001b[43m__build_tree\u001b[49m\u001b[43m(\u001b[49m\u001b[43mdf_index_0\u001b[49m\u001b[43m,\u001b[49m\u001b[43m \u001b[49m\u001b[43mdf\u001b[49m\u001b[43m,\u001b[49m\u001b[43m \u001b[49m\u001b[43mused_cols\u001b[49m\u001b[43m,\u001b[49m\u001b[43m \u001b[49m\u001b[43mdepth\u001b[49m\u001b[43m \u001b[49m\u001b[38;5;241;43m-\u001b[39;49m\u001b[43m \u001b[49m\u001b[38;5;241;43m1\u001b[39;49m\u001b[43m,\u001b[49m\u001b[43m \u001b[49m\u001b[43mnode_path\u001b[49m\u001b[43m \u001b[49m\u001b[38;5;241;43m+\u001b[39;49m\u001b[43m \u001b[49m\u001b[38;5;124;43m'\u001b[39;49m\u001b[38;5;124;43m0\u001b[39;49m\u001b[38;5;124;43m'\u001b[39;49m\u001b[43m)\u001b[49m\n\u001b[1;32m    100\u001b[0m right \u001b[38;5;241m=\u001b[39m \u001b[38;5;28mself\u001b[39m\u001b[38;5;241m.\u001b[39m__build_tree(df_index_1, df, used_cols, depth \u001b[38;5;241m-\u001b[39m \u001b[38;5;241m1\u001b[39m, node_path \u001b[38;5;241m+\u001b[39m \u001b[38;5;124m'\u001b[39m\u001b[38;5;124m1\u001b[39m\u001b[38;5;124m'\u001b[39m)\n\u001b[1;32m    101\u001b[0m \u001b[38;5;28;01mreturn\u001b[39;00m \u001b[38;5;28mself\u001b[39m\u001b[38;5;241m.\u001b[39mTree(base\u001b[38;5;241m=\u001b[39m\u001b[38;5;28mself\u001b[39m, col_id\u001b[38;5;241m=\u001b[39msplit_id, left\u001b[38;5;241m=\u001b[39mleft, right\u001b[38;5;241m=\u001b[39mright, df_index\u001b[38;5;241m=\u001b[39mdf_index, df\u001b[38;5;241m=\u001b[39mdf,\n\u001b[1;32m    102\u001b[0m                  node_path\u001b[38;5;241m=\u001b[39mnode_path)\n",
      "File \u001b[0;32m~/qtr-fingerprint/notebooks/fp_utils/finders/splitter_tree_finder.py:100\u001b[0m, in \u001b[0;36mSplitterTreeFinder.__build_tree\u001b[0;34m(self, df_index, df, used_cols, depth, node_path)\u001b[0m\n\u001b[1;32m     98\u001b[0m used_cols\u001b[38;5;241m.\u001b[39mappend(split_id)\n\u001b[1;32m     99\u001b[0m left \u001b[38;5;241m=\u001b[39m \u001b[38;5;28mself\u001b[39m\u001b[38;5;241m.\u001b[39m__build_tree(df_index_0, df, used_cols, depth \u001b[38;5;241m-\u001b[39m \u001b[38;5;241m1\u001b[39m, node_path \u001b[38;5;241m+\u001b[39m \u001b[38;5;124m'\u001b[39m\u001b[38;5;124m0\u001b[39m\u001b[38;5;124m'\u001b[39m)\n\u001b[0;32m--> 100\u001b[0m right \u001b[38;5;241m=\u001b[39m \u001b[38;5;28;43mself\u001b[39;49m\u001b[38;5;241;43m.\u001b[39;49m\u001b[43m__build_tree\u001b[49m\u001b[43m(\u001b[49m\u001b[43mdf_index_1\u001b[49m\u001b[43m,\u001b[49m\u001b[43m \u001b[49m\u001b[43mdf\u001b[49m\u001b[43m,\u001b[49m\u001b[43m \u001b[49m\u001b[43mused_cols\u001b[49m\u001b[43m,\u001b[49m\u001b[43m \u001b[49m\u001b[43mdepth\u001b[49m\u001b[43m \u001b[49m\u001b[38;5;241;43m-\u001b[39;49m\u001b[43m \u001b[49m\u001b[38;5;241;43m1\u001b[39;49m\u001b[43m,\u001b[49m\u001b[43m \u001b[49m\u001b[43mnode_path\u001b[49m\u001b[43m \u001b[49m\u001b[38;5;241;43m+\u001b[39;49m\u001b[43m \u001b[49m\u001b[38;5;124;43m'\u001b[39;49m\u001b[38;5;124;43m1\u001b[39;49m\u001b[38;5;124;43m'\u001b[39;49m\u001b[43m)\u001b[49m\n\u001b[1;32m    101\u001b[0m \u001b[38;5;28;01mreturn\u001b[39;00m \u001b[38;5;28mself\u001b[39m\u001b[38;5;241m.\u001b[39mTree(base\u001b[38;5;241m=\u001b[39m\u001b[38;5;28mself\u001b[39m, col_id\u001b[38;5;241m=\u001b[39msplit_id, left\u001b[38;5;241m=\u001b[39mleft, right\u001b[38;5;241m=\u001b[39mright, df_index\u001b[38;5;241m=\u001b[39mdf_index, df\u001b[38;5;241m=\u001b[39mdf,\n\u001b[1;32m    102\u001b[0m                  node_path\u001b[38;5;241m=\u001b[39mnode_path)\n",
      "File \u001b[0;32m~/qtr-fingerprint/notebooks/fp_utils/finders/splitter_tree_finder.py:97\u001b[0m, in \u001b[0;36mSplitterTreeFinder.__build_tree\u001b[0;34m(self, df_index, df, used_cols, depth, node_path)\u001b[0m\n\u001b[1;32m     93\u001b[0m         Logger\u001b[38;5;241m.\u001b[39mlog(\u001b[38;5;124m\"\u001b[39m\u001b[38;5;124mWARNING: empty bucket\u001b[39m\u001b[38;5;124m\"\u001b[39m)\n\u001b[1;32m     94\u001b[0m     \u001b[38;5;28;01mreturn\u001b[39;00m \u001b[38;5;28mself\u001b[39m\u001b[38;5;241m.\u001b[39mTree(base\u001b[38;5;241m=\u001b[39m\u001b[38;5;28mself\u001b[39m, col_id\u001b[38;5;241m=\u001b[39m\u001b[38;5;28mself\u001b[39m\u001b[38;5;241m.\u001b[39mLEAF_ID, left\u001b[38;5;241m=\u001b[39m\u001b[38;5;28;01mNone\u001b[39;00m, right\u001b[38;5;241m=\u001b[39m\u001b[38;5;28;01mNone\u001b[39;00m, df_index\u001b[38;5;241m=\u001b[39mdf_index, df\u001b[38;5;241m=\u001b[39mdf,\n\u001b[1;32m     95\u001b[0m                      node_path\u001b[38;5;241m=\u001b[39mnode_path)\n\u001b[0;32m---> 97\u001b[0m df_index_0, df_index_1, split_id \u001b[38;5;241m=\u001b[39m \u001b[38;5;28;43mself\u001b[39;49m\u001b[38;5;241;43m.\u001b[39;49m\u001b[43m__split_df\u001b[49m\u001b[43m(\u001b[49m\u001b[43mdf_index\u001b[49m\u001b[43m,\u001b[49m\u001b[43m \u001b[49m\u001b[43mdf\u001b[49m\u001b[43m,\u001b[49m\u001b[43m \u001b[49m\u001b[43mused_cols\u001b[49m\u001b[43m)\u001b[49m\n\u001b[1;32m     98\u001b[0m used_cols\u001b[38;5;241m.\u001b[39mappend(split_id)\n\u001b[1;32m     99\u001b[0m left \u001b[38;5;241m=\u001b[39m \u001b[38;5;28mself\u001b[39m\u001b[38;5;241m.\u001b[39m__build_tree(df_index_0, df, used_cols, depth \u001b[38;5;241m-\u001b[39m \u001b[38;5;241m1\u001b[39m, node_path \u001b[38;5;241m+\u001b[39m \u001b[38;5;124m'\u001b[39m\u001b[38;5;124m0\u001b[39m\u001b[38;5;124m'\u001b[39m)\n",
      "File \u001b[0;32m~/qtr-fingerprint/notebooks/fp_utils/finders/splitter_tree_finder.py:83\u001b[0m, in \u001b[0;36mSplitterTreeFinder.__split_df\u001b[0;34m(self, df_index, df, used_cols)\u001b[0m\n\u001b[1;32m     81\u001b[0m sub_df \u001b[38;5;241m=\u001b[39m df\u001b[38;5;241m.\u001b[39mloc[df_index, \u001b[38;5;241m~\u001b[39mdf\u001b[38;5;241m.\u001b[39mcolumns\u001b[38;5;241m.\u001b[39misin(used_cols)]\n\u001b[1;32m     82\u001b[0m sv \u001b[38;5;241m=\u001b[39m sub_df\u001b[38;5;241m.\u001b[39mmean()\u001b[38;5;241m.\u001b[39mapply(\u001b[38;5;28;01mlambda\u001b[39;00m x: \u001b[38;5;28mabs\u001b[39m(x \u001b[38;5;241m-\u001b[39m \u001b[38;5;28mself\u001b[39m\u001b[38;5;241m.\u001b[39mSPLIT_VALUE))\u001b[38;5;241m.\u001b[39msort_values()\n\u001b[0;32m---> 83\u001b[0m split_id \u001b[38;5;241m=\u001b[39m \u001b[43msv\u001b[49m\u001b[38;5;241;43m.\u001b[39;49m\u001b[43mindex\u001b[49m\u001b[43m[\u001b[49m\u001b[38;5;241;43m0\u001b[39;49m\u001b[43m]\u001b[49m\n\u001b[1;32m     84\u001b[0m col_values \u001b[38;5;241m=\u001b[39m df\u001b[38;5;241m.\u001b[39mloc[df_index, split_id]\n\u001b[1;32m     85\u001b[0m df_index_0 \u001b[38;5;241m=\u001b[39m df_index[col_values \u001b[38;5;241m==\u001b[39m \u001b[38;5;241m0\u001b[39m]\n",
      "File \u001b[0;32m~/anaconda3/envs/rdkit-env/lib/python3.10/site-packages/pandas/core/indexes/base.py:5039\u001b[0m, in \u001b[0;36mIndex.__getitem__\u001b[0;34m(self, key)\u001b[0m\n\u001b[1;32m   5036\u001b[0m \u001b[38;5;28;01mif\u001b[39;00m is_integer(key) \u001b[38;5;129;01mor\u001b[39;00m is_float(key):\n\u001b[1;32m   5037\u001b[0m     \u001b[38;5;66;03m# GH#44051 exclude bool, which would return a 2d ndarray\u001b[39;00m\n\u001b[1;32m   5038\u001b[0m     key \u001b[38;5;241m=\u001b[39m com\u001b[38;5;241m.\u001b[39mcast_scalar_indexer(key, warn_float\u001b[38;5;241m=\u001b[39m\u001b[38;5;28;01mTrue\u001b[39;00m)\n\u001b[0;32m-> 5039\u001b[0m     \u001b[38;5;28;01mreturn\u001b[39;00m \u001b[43mgetitem\u001b[49m\u001b[43m(\u001b[49m\u001b[43mkey\u001b[49m\u001b[43m)\u001b[49m\n\u001b[1;32m   5041\u001b[0m \u001b[38;5;28;01mif\u001b[39;00m \u001b[38;5;28misinstance\u001b[39m(key, \u001b[38;5;28mslice\u001b[39m):\n\u001b[1;32m   5042\u001b[0m     \u001b[38;5;66;03m# This case is separated from the conditional above to avoid\u001b[39;00m\n\u001b[1;32m   5043\u001b[0m     \u001b[38;5;66;03m# pessimization com.is_bool_indexer and ndim checks.\u001b[39;00m\n\u001b[1;32m   5044\u001b[0m     result \u001b[38;5;241m=\u001b[39m getitem(key)\n",
      "\u001b[0;31mIndexError\u001b[0m: index 0 is out of bounds for axis 0 with size 0"
     ]
    }
   ],
   "source": [
    "mcc10 = MCC10(df, Tree, data_dir / 'mcc10')"
   ]
  },
  {
   "cell_type": "markdown",
   "id": "87cb3178",
   "metadata": {},
   "source": [
    "# Ivan's columns + SplitTree"
   ]
  },
  {
   "cell_type": "code",
   "execution_count": 54,
   "id": "40075569",
   "metadata": {},
   "outputs": [],
   "source": [
    "iv_cols = df.mean().apply(lambda p: p * (1 - p) / (1 - p + p * p)).sort_values(ascending=False)"
   ]
  },
  {
   "cell_type": "code",
   "execution_count": 55,
   "id": "45b6cb43",
   "metadata": {},
   "outputs": [
    {
     "data": {
      "text/plain": [
       "1510    0.333333\n",
       "3197    0.333333\n",
       "3403    0.333333\n",
       "3026    0.333333\n",
       "1212    0.333333\n",
       "          ...   \n",
       "3016    0.001940\n",
       "3166    0.001940\n",
       "3385    0.001940\n",
       "2871    0.000000\n",
       "3654    0.000000\n",
       "Length: 2575, dtype: float64"
      ]
     },
     "execution_count": 55,
     "metadata": {},
     "output_type": "execute_result"
    }
   ],
   "source": [
    "iv_cols"
   ]
  },
  {
   "cell_type": "code",
   "execution_count": 91,
   "id": "dc0a7f04",
   "metadata": {},
   "outputs": [],
   "source": [
    "class Tree(SplitterTreeFinder):\n",
    "    BUCKET_SIZE = 5000\n",
    "    MAX_DEPTH = 8"
   ]
  },
  {
   "cell_type": "code",
   "execution_count": 92,
   "id": "71eb432e",
   "metadata": {},
   "outputs": [],
   "source": [
    "class IC10(SubColsFinder):\n",
    "    COLUMNS = iv_cols.index[:10]\n",
    "    \n",
    "class IC50(SubColsFinder):\n",
    "    COLUMNS = iv_cols.index[:50]\n",
    "    \n",
    "class IC100(SubColsFinder):\n",
    "    COLUMNS = iv_cols.index[:100]\n",
    "    \n",
    "class IC500(SubColsFinder):\n",
    "    COLUMNS = iv_cols.index[:500]\n",
    "    \n",
    "class IC1000(SubColsFinder):\n",
    "    COLUMNS = iv_cols.index[:1000]"
   ]
  },
  {
   "cell_type": "code",
   "execution_count": 93,
   "id": "1dd74221",
   "metadata": {},
   "outputs": [
    {
     "name": "stdout",
     "output_type": "stream",
     "text": [
      "1.453s -- SplitterTreeFinder init time\n",
      "2.552s -- IC100 init time\n"
     ]
    }
   ],
   "source": [
    "ic100 = IC100(df, Tree, data_dir / 'ic100')"
   ]
  },
  {
   "cell_type": "code",
   "execution_count": 94,
   "id": "ddb8c418",
   "metadata": {},
   "outputs": [
    {
     "name": "stdout",
     "output_type": "stream",
     "text": [
      "4.471s -- SplitterTreeFinder init time\n",
      "5.774s -- IC500 init time\n"
     ]
    }
   ],
   "source": [
    "ic500 = IC500(df, Tree, data_dir / 'ic500')"
   ]
  },
  {
   "cell_type": "code",
   "execution_count": 95,
   "id": "0fc1427d",
   "metadata": {},
   "outputs": [
    {
     "name": "stdout",
     "output_type": "stream",
     "text": [
      "14.353s -- SplitterTreeFinder init time\n",
      "16.198s -- IC1000 init time\n"
     ]
    }
   ],
   "source": [
    "ic1000 = IC1000(df, Tree, data_dir / 'ic1000')"
   ]
  },
  {
   "cell_type": "code",
   "execution_count": 96,
   "id": "e4e5d1b8",
   "metadata": {},
   "outputs": [],
   "source": [
    "checker = FinderCorrectnessTester(bfd_finder, [ic100, ic500, ic1000])"
   ]
  },
  {
   "cell_type": "code",
   "execution_count": 97,
   "id": "4bea6ff0",
   "metadata": {},
   "outputs": [
    {
     "name": "stdout",
     "output_type": "stream",
     "text": [
      "-----\n",
      "Test #000\n",
      "OK -- IC100\n",
      "OK -- IC500\n",
      "OK -- IC1000\n",
      "-----\n",
      "Test #001\n",
      "OK -- IC100\n",
      "OK -- IC500\n",
      "OK -- IC1000\n",
      "-----\n",
      "Test #002\n",
      "OK -- IC100\n",
      "OK -- IC500\n",
      "OK -- IC1000\n",
      "-----\n",
      "Test #003\n",
      "OK -- IC100\n",
      "OK -- IC500\n",
      "OK -- IC1000\n",
      "-----\n",
      "Test #004\n",
      "OK -- IC100\n",
      "OK -- IC500\n",
      "OK -- IC1000\n",
      "-----\n"
     ]
    },
    {
     "data": {
      "text/plain": [
       "array([ True,  True,  True])"
      ]
     },
     "execution_count": 97,
     "metadata": {},
     "output_type": "execute_result"
    }
   ],
   "source": [
    "checker.test_random(df, 5, verbose=True)"
   ]
  },
  {
   "cell_type": "code",
   "execution_count": 98,
   "id": "d18c474a",
   "metadata": {},
   "outputs": [],
   "source": [
    "speed_tester = FinderSpeedTester([ic100, ic500, ic1000])"
   ]
  },
  {
   "cell_type": "code",
   "execution_count": 116,
   "id": "de63d90c",
   "metadata": {},
   "outputs": [],
   "source": [
    "tests = df.sample(50)"
   ]
  },
  {
   "cell_type": "code",
   "execution_count": 117,
   "id": "60fbec90",
   "metadata": {},
   "outputs": [
    {
     "name": "stdout",
     "output_type": "stream",
     "text": [
      "-----\n",
      "Test #000\n",
      "0.126s -- IC100\n",
      "0.252s -- IC500\n",
      "0.604s -- IC1000\n",
      "-----\n",
      "Test #001\n",
      "0.068s -- IC100\n",
      "0.049s -- IC500\n",
      "0.062s -- IC1000\n",
      "-----\n",
      "Test #002\n",
      "0.018s -- IC100\n",
      "0.046s -- IC500\n",
      "0.059s -- IC1000\n",
      "-----\n",
      "Test #003\n",
      "0.005s -- IC100\n",
      "0.015s -- IC500\n",
      "0.027s -- IC1000\n",
      "-----\n",
      "Test #004\n",
      "0.033s -- IC100\n",
      "0.070s -- IC500\n",
      "0.140s -- IC1000\n",
      "-----\n",
      "Test #005\n",
      "0.019s -- IC100\n",
      "0.095s -- IC500\n",
      "0.114s -- IC1000\n",
      "-----\n",
      "Test #006\n",
      "0.013s -- IC100\n",
      "0.060s -- IC500\n",
      "0.107s -- IC1000\n",
      "-----\n",
      "Test #007\n",
      "0.060s -- IC100\n",
      "0.172s -- IC500\n",
      "0.217s -- IC1000\n",
      "-----\n",
      "Test #008\n",
      "0.107s -- IC100\n",
      "0.195s -- IC500\n",
      "0.347s -- IC1000\n",
      "-----\n",
      "Test #009\n",
      "0.037s -- IC100\n",
      "0.118s -- IC500\n",
      "0.253s -- IC1000\n",
      "-----\n",
      "Test #010\n",
      "0.937s -- IC100\n",
      "0.322s -- IC500\n",
      "0.415s -- IC1000\n",
      "-----\n",
      "Test #011\n",
      "0.018s -- IC100\n",
      "0.116s -- IC500\n",
      "0.082s -- IC1000\n",
      "-----\n",
      "Test #012\n",
      "0.045s -- IC100\n",
      "0.062s -- IC500\n",
      "0.193s -- IC1000\n",
      "-----\n",
      "Test #013\n",
      "0.021s -- IC100\n",
      "0.073s -- IC500\n",
      "0.135s -- IC1000\n",
      "-----\n",
      "Test #014\n",
      "0.048s -- IC100\n",
      "0.086s -- IC500\n",
      "0.104s -- IC1000\n",
      "-----\n",
      "Test #015\n",
      "0.012s -- IC100\n",
      "0.022s -- IC500\n",
      "0.122s -- IC1000\n",
      "-----\n",
      "Test #016\n",
      "0.010s -- IC100\n",
      "0.015s -- IC500\n",
      "0.054s -- IC1000\n",
      "-----\n",
      "Test #017\n",
      "0.040s -- IC100\n",
      "0.082s -- IC500\n",
      "0.205s -- IC1000\n",
      "-----\n",
      "Test #018\n",
      "0.020s -- IC100\n",
      "0.065s -- IC500\n",
      "0.108s -- IC1000\n",
      "-----\n",
      "Test #019\n",
      "0.066s -- IC100\n",
      "0.175s -- IC500\n",
      "0.235s -- IC1000\n",
      "-----\n",
      "Test #020\n",
      "0.021s -- IC100\n",
      "0.071s -- IC500\n",
      "0.157s -- IC1000\n",
      "-----\n",
      "Test #021\n",
      "0.013s -- IC100\n",
      "0.057s -- IC500\n",
      "0.041s -- IC1000\n",
      "-----\n",
      "Test #022\n",
      "0.105s -- IC100\n",
      "0.088s -- IC500\n",
      "0.182s -- IC1000\n",
      "-----\n",
      "Test #023\n",
      "0.015s -- IC100\n",
      "0.028s -- IC500\n",
      "0.077s -- IC1000\n",
      "-----\n",
      "Test #024\n",
      "0.057s -- IC100\n",
      "0.026s -- IC500\n",
      "0.093s -- IC1000\n",
      "-----\n",
      "Test #025\n",
      "0.020s -- IC100\n",
      "0.044s -- IC500\n",
      "0.093s -- IC1000\n",
      "-----\n",
      "Test #026\n",
      "0.024s -- IC100\n",
      "0.029s -- IC500\n",
      "0.092s -- IC1000\n",
      "-----\n",
      "Test #027\n",
      "0.031s -- IC100\n",
      "0.089s -- IC500\n",
      "0.118s -- IC1000\n",
      "-----\n",
      "Test #028\n",
      "0.016s -- IC100\n",
      "0.046s -- IC500\n",
      "0.106s -- IC1000\n",
      "-----\n",
      "Test #029\n",
      "0.107s -- IC100\n",
      "0.146s -- IC500\n",
      "0.302s -- IC1000\n",
      "-----\n",
      "Test #030\n",
      "0.050s -- IC100\n",
      "0.070s -- IC500\n",
      "0.151s -- IC1000\n",
      "-----\n",
      "Test #031\n",
      "0.024s -- IC100\n",
      "0.049s -- IC500\n",
      "0.104s -- IC1000\n",
      "-----\n",
      "Test #032\n",
      "0.079s -- IC100\n",
      "0.064s -- IC500\n",
      "0.165s -- IC1000\n",
      "-----\n",
      "Test #033\n",
      "0.035s -- IC100\n",
      "0.054s -- IC500\n",
      "0.211s -- IC1000\n",
      "-----\n",
      "Test #034\n",
      "0.056s -- IC100\n",
      "0.109s -- IC500\n",
      "0.177s -- IC1000\n",
      "-----\n",
      "Test #035\n",
      "0.014s -- IC100\n",
      "0.029s -- IC500\n",
      "0.038s -- IC1000\n",
      "-----\n",
      "Test #036\n",
      "0.247s -- IC100\n",
      "0.208s -- IC500\n",
      "0.279s -- IC1000\n",
      "-----\n",
      "Test #037\n",
      "0.035s -- IC100\n",
      "0.099s -- IC500\n",
      "0.177s -- IC1000\n",
      "-----\n",
      "Test #038\n",
      "0.020s -- IC100\n",
      "0.083s -- IC500\n",
      "0.076s -- IC1000\n",
      "-----\n",
      "Test #039\n",
      "0.008s -- IC100\n",
      "0.047s -- IC500\n",
      "0.041s -- IC1000\n",
      "-----\n",
      "Test #040\n",
      "0.073s -- IC100\n",
      "0.173s -- IC500\n",
      "0.253s -- IC1000\n",
      "-----\n",
      "Test #041\n",
      "0.018s -- IC100\n",
      "0.062s -- IC500\n",
      "0.097s -- IC1000\n",
      "-----\n",
      "Test #042\n",
      "0.012s -- IC100\n",
      "0.034s -- IC500\n",
      "0.039s -- IC1000\n",
      "-----\n",
      "Test #043\n",
      "0.076s -- IC100\n",
      "0.115s -- IC500\n",
      "0.174s -- IC1000\n",
      "-----\n",
      "Test #044\n",
      "0.018s -- IC100\n",
      "0.048s -- IC500\n",
      "0.069s -- IC1000\n",
      "-----\n",
      "Test #045\n",
      "0.008s -- IC100\n",
      "0.008s -- IC500\n",
      "0.052s -- IC1000\n",
      "-----\n",
      "Test #046\n",
      "0.335s -- IC100\n",
      "0.220s -- IC500\n",
      "0.356s -- IC1000\n",
      "-----\n",
      "Test #047\n",
      "0.044s -- IC100\n",
      "0.126s -- IC500\n",
      "0.159s -- IC1000\n",
      "-----\n",
      "Test #048\n",
      "0.041s -- IC100\n",
      "0.083s -- IC500\n",
      "0.135s -- IC1000\n",
      "-----\n",
      "Test #049\n",
      "0.087s -- IC100\n",
      "0.146s -- IC500\n",
      "0.211s -- IC1000\n",
      "-----\n"
     ]
    }
   ],
   "source": [
    "stat4 = speed_tester.test_all(tests, verbose=True)"
   ]
  },
  {
   "cell_type": "code",
   "execution_count": 118,
   "id": "d21f5dfe",
   "metadata": {},
   "outputs": [
    {
     "data": {
      "image/png": "[encoded data removed]",
      "text/plain": [
       "<Figure size 576x576 with 1 Axes>"
      ]
     },
     "metadata": {
      "needs_background": "light"
     },
     "output_type": "display_data"
    }
   ],
   "source": [
    "stat4.as_boxplot()"
   ]
  },
  {
   "cell_type": "code",
   "execution_count": 119,
   "id": "6a756230",
   "metadata": {},
   "outputs": [
    {
     "data": {
      "image/png": "[encoded data removed]",
      "text/plain": [
       "<Figure size 1152x576 with 1 Axes>"
      ]
     },
     "metadata": {
      "needs_background": "light"
     },
     "output_type": "display_data"
    }
   ],
   "source": [
    "stat4.as_plot()"
   ]
  },
  {
   "cell_type": "code",
   "execution_count": 138,
   "id": "dceea482",
   "metadata": {},
   "outputs": [
    {
     "data": {
      "image/png": "[encoded data removed]",
      "text/plain": [
       "<Figure size 576x576 with 1 Axes>"
      ]
     },
     "metadata": {
      "needs_background": "light"
     },
     "output_type": "display_data"
    }
   ],
   "source": [
    "(stat4 + stat3.drop([mcc10])).as_boxplot()"
   ]
  },
  {
   "cell_type": "code",
   "execution_count": 115,
   "id": "2d7f095c",
   "metadata": {},
   "outputs": [
    {
     "data": {
      "image/png": "[encoded data removed]",
      "text/plain": [
       "<Figure size 1152x576 with 1 Axes>"
      ]
     },
     "metadata": {
      "needs_background": "light"
     },
     "output_type": "display_data"
    }
   ],
   "source": [
    "(stat4 + stat3).as_plot()"
   ]
  },
  {
   "cell_type": "code",
   "execution_count": null,
   "id": "08dc393a",
   "metadata": {},
   "outputs": [],
   "source": []
  }
 ],
 "metadata": {
  "kernelspec": {
   "display_name": "Python 3 (ipykernel)",
   "language": "python",
   "name": "python3"
  },
  "language_info": {
   "codemirror_mode": {
    "name": "ipython",
    "version": 3
   },
   "file_extension": ".py",
   "mimetype": "text/x-python",
   "name": "python",
   "nbconvert_exporter": "python",
   "pygments_lexer": "ipython3",
   "version": "3.10.5"
  }
 },
 "nbformat": 4,
 "nbformat_minor": 5
}
