{
 "cells": [
  {
   "cell_type": "code",
   "execution_count": 1,
   "id": "8196d908",
   "metadata": {
    "scrolled": true
   },
   "outputs": [],
   "source": [
    "import os\n",
    "import gzip\n",
    "import shutil\n",
    "import fp_utils\n",
    "import requests\n",
    "import pandas as pd\n",
    "from pathlib import Path\n",
    "from bs4 import BeautifulSoup"
   ]
  },
  {
   "cell_type": "code",
   "execution_count": 2,
   "id": "f9f1ae7d",
   "metadata": {},
   "outputs": [
    {
     "name": "stdout",
     "output_type": "stream",
     "text": [
      "INFO: Pandarallel will run on 4 workers.\n",
      "INFO: Pandarallel will use Memory file system to transfer data between the main process and workers.\n"
     ]
    }
   ],
   "source": [
    "fp_utils.settings.init_fp_utils()"
   ]
  },
  {
   "cell_type": "code",
   "execution_count": 3,
   "id": "d9f156e2",
   "metadata": {},
   "outputs": [],
   "source": [
    "url = \"https://ftp.ncbi.nlm.nih.gov/pubchem/Compound/CURRENT-Full/SDF/\""
   ]
  },
  {
   "cell_type": "code",
   "execution_count": 4,
   "id": "bee151bc",
   "metadata": {},
   "outputs": [],
   "source": [
    "dir_to_download = Path('../data/pubchem/sdfs')\n",
    "dir_to_download.mkdir(parents=True, exist_ok=True)"
   ]
  },
  {
   "cell_type": "code",
   "execution_count": 5,
   "id": "b70bfeef",
   "metadata": {},
   "outputs": [],
   "source": [
    "processed_files = Path(\"../data/pubchem/processed.txt\")\n",
    "with processed_files.open('a'):\n",
    "    pass"
   ]
  },
  {
   "cell_type": "code",
   "execution_count": 6,
   "id": "9d12e3c5",
   "metadata": {},
   "outputs": [],
   "source": [
    "with open(processed_files, 'r') as f:\n",
    "    processed_before = set(f.read().split())"
   ]
  },
  {
   "cell_type": "code",
   "execution_count": 7,
   "id": "62f35a19",
   "metadata": {},
   "outputs": [
    {
     "data": {
      "text/plain": [
       "set()"
      ]
     },
     "execution_count": 7,
     "metadata": {},
     "output_type": "execute_result"
    }
   ],
   "source": [
    "processed_before"
   ]
  },
  {
   "cell_type": "code",
   "execution_count": 8,
   "id": "1d030acd",
   "metadata": {},
   "outputs": [],
   "source": [
    "def get_urls(url, ext):\n",
    "    page = requests.get(url)\n",
    "    soup = BeautifulSoup(page.content, features='lxml')\n",
    "    all_links = [link.get(\"href\") for link in soup(\"a\")]\n",
    "    return pd.Series(filter(lambda x: x.endswith(ext), all_links))"
   ]
  },
  {
   "cell_type": "code",
   "execution_count": 9,
   "id": "643193da",
   "metadata": {},
   "outputs": [],
   "source": [
    "sdfs = get_urls(url, \".sdf.gz\")"
   ]
  },
  {
   "cell_type": "code",
   "execution_count": 10,
   "id": "06dd813f",
   "metadata": {
    "scrolled": true
   },
   "outputs": [],
   "source": [
    "file_names = pd.Series(list(sorted(sdfs)))"
   ]
  },
  {
   "cell_type": "code",
   "execution_count": 11,
   "id": "fcdc5eab",
   "metadata": {},
   "outputs": [],
   "source": [
    "def download_zips(file_name):\n",
    "    if file_name in processed_before:\n",
    "        print(\"skipped\", file_name)\n",
    "        return\n",
    "    print(\"start\", file_name)\n",
    "    with requests.get(url + file_name, stream=True) as r:\n",
    "        with open(dir_to_download / file_name, 'wb') as f:\n",
    "            shutil.copyfileobj(r.raw, f)\n",
    "    with gzip.open(dir_to_download / file_name, 'rb') as f_in:\n",
    "        with open(dir_to_download / file_name[:-3], 'wb') as f_out:\n",
    "            shutil.copyfileobj(f_in, f_out)\n",
    "    os.remove(dir_to_download / file_name)\n",
    "    with open(processed_files, 'a') as f:\n",
    "        f.write(str(file_name) + '\\n')\n",
    "    print(\"finish\", file_name)"
   ]
  },
  {
   "cell_type": "code",
   "execution_count": null,
   "id": "b5c1e0ec",
   "metadata": {},
   "outputs": [
    {
     "data": {
      "application/vnd.jupyter.widget-view+json": {
       "model_id": "b865d18805514f049c4c86bd965fcf5c",
       "version_major": 2,
       "version_minor": 0
      },
      "text/plain": [
       "VBox(children=(HBox(children=(IntProgress(value=0, description='0.00%', max=83), Label(value='0 / 83'))), HBox…"
      ]
     },
     "metadata": {},
     "output_type": "display_data"
    },
    {
     "name": "stdout",
     "output_type": "stream",
     "text": [
      "startstartstartstart Compound_083000001_083500000.sdf.gz \n",
      "Compound_000000001_000500000.sdf.gz\n",
      "  Compound_041500001_042000000.sdf.gzCompound_124000001_124500000.sdf.gz\n",
      "\n",
      "finish Compound_041500001_042000000.sdf.gz\n",
      "start Compound_042000001_042500000.sdf.gz\n"
     ]
    }
   ],
   "source": [
    "file_names.parallel_apply(download_zips)"
   ]
  },
  {
   "cell_type": "code",
   "execution_count": null,
   "id": "27267beb",
   "metadata": {},
   "outputs": [],
   "source": []
  }
 ],
 "metadata": {
  "kernelspec": {
   "display_name": "Python 3 (ipykernel)",
   "language": "python",
   "name": "python3"
  },
  "language_info": {
   "codemirror_mode": {
    "name": "ipython",
    "version": 3
   },
   "file_extension": ".py",
   "mimetype": "text/x-python",
   "name": "python",
   "nbconvert_exporter": "python",
   "pygments_lexer": "ipython3",
   "version": "3.10.5"
  }
 },
 "nbformat": 4,
 "nbformat_minor": 5
}
