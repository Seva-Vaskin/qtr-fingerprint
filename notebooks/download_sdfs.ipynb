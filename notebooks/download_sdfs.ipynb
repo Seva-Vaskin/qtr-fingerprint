{
 "cells": [
  {
   "cell_type": "code",
   "execution_count": 4,
   "id": "8196d908",
   "metadata": {
    "scrolled": true
   },
   "outputs": [],
   "source": [
    "import os\n",
    "import gzip\n",
    "import shutil\n",
    "import requests\n",
    "import pandas as pd\n",
    "from pathlib import Path\n",
    "from bs4 import BeautifulSoup"
   ]
  },
  {
   "cell_type": "code",
   "execution_count": 5,
   "id": "d9f156e2",
   "metadata": {},
   "outputs": [],
   "source": [
    "url = \"https://ftp.ncbi.nlm.nih.gov/pubchem/Compound/CURRENT-Full/SDF/\""
   ]
  },
  {
   "cell_type": "code",
   "execution_count": 6,
   "id": "bee151bc",
   "metadata": {},
   "outputs": [],
   "source": [
    "dir_to_download = Path('../data/pubchem/sdfs')\n",
    "dir_to_download.mkdir(parents=True, exist_ok=True)"
   ]
  },
  {
   "cell_type": "code",
   "execution_count": 7,
   "id": "cd66892d",
   "metadata": {},
   "outputs": [],
   "source": [
    "processed_file = Path(\"../data/pubchem/processed.txt\")\n",
    "with processed_file.open('a'):\n",
    "    pass"
   ]
  },
  {
   "cell_type": "code",
   "execution_count": 8,
   "id": "3b681a3f",
   "metadata": {},
   "outputs": [],
   "source": [
    "with open(processed_file, 'r') as f:\n",
    "    processed_before = set(f.read().split())"
   ]
  },
  {
   "cell_type": "code",
   "execution_count": 9,
   "id": "de7c0683",
   "metadata": {
    "scrolled": true
   },
   "outputs": [
    {
     "data": {
      "text/plain": [
       "{'Compound_000000001_000500000.sdf.gz',\n",
       " 'Compound_000500001_001000000.sdf.gz',\n",
       " 'Compound_001000001_001500000.sdf.gz',\n",
       " 'Compound_001500001_002000000.sdf.gz',\n",
       " 'Compound_002000001_002500000.sdf.gz',\n",
       " 'Compound_002500001_003000000.sdf.gz',\n",
       " 'Compound_003000001_003500000.sdf.gz',\n",
       " 'Compound_003500001_004000000.sdf.gz',\n",
       " 'Compound_004000001_004500000.sdf.gz',\n",
       " 'Compound_004500001_005000000.sdf.gz',\n",
       " 'Compound_005000001_005500000.sdf.gz',\n",
       " 'Compound_005500001_006000000.sdf.gz',\n",
       " 'Compound_006000001_006500000.sdf.gz',\n",
       " 'Compound_006500001_007000000.sdf.gz',\n",
       " 'Compound_007000001_007500000.sdf.gz',\n",
       " 'Compound_007500001_008000000.sdf.gz',\n",
       " 'Compound_008000001_008500000.sdf.gz',\n",
       " 'Compound_008500001_009000000.sdf.gz',\n",
       " 'Compound_009000001_009500000.sdf.gz',\n",
       " 'Compound_009500001_010000000.sdf.gz',\n",
       " 'Compound_010000001_010500000.sdf.gz',\n",
       " 'Compound_010500001_011000000.sdf.gz',\n",
       " 'Compound_011000001_011500000.sdf.gz',\n",
       " 'Compound_011500001_012000000.sdf.gz',\n",
       " 'Compound_012000001_012500000.sdf.gz',\n",
       " 'Compound_012500001_013000000.sdf.gz',\n",
       " 'Compound_013000001_013500000.sdf.gz',\n",
       " 'Compound_013500001_014000000.sdf.gz',\n",
       " 'Compound_014000001_014500000.sdf.gz',\n",
       " 'Compound_014500001_015000000.sdf.gz',\n",
       " 'Compound_015000001_015500000.sdf.gz',\n",
       " 'Compound_015500001_016000000.sdf.gz',\n",
       " 'Compound_016000001_016500000.sdf.gz',\n",
       " 'Compound_016500001_017000000.sdf.gz',\n",
       " 'Compound_017000001_017500000.sdf.gz',\n",
       " 'Compound_017500001_018000000.sdf.gz',\n",
       " 'Compound_018000001_018500000.sdf.gz',\n",
       " 'Compound_018500001_019000000.sdf.gz',\n",
       " 'Compound_019000001_019500000.sdf.gz',\n",
       " 'Compound_019500001_020000000.sdf.gz'}"
      ]
     },
     "execution_count": 9,
     "metadata": {},
     "output_type": "execute_result"
    }
   ],
   "source": [
    "processed_before"
   ]
  },
  {
   "cell_type": "code",
   "execution_count": 10,
   "id": "1d030acd",
   "metadata": {},
   "outputs": [],
   "source": [
    "def get_urls(url, ext):\n",
    "    page = requests.get(url)\n",
    "    soup = BeautifulSoup(page.content, features='lxml')\n",
    "    all_links = [link.get(\"href\") for link in soup(\"a\")]\n",
    "    return pd.Series(filter(lambda x: x.endswith(ext), all_links))"
   ]
  },
  {
   "cell_type": "code",
   "execution_count": 11,
   "id": "643193da",
   "metadata": {},
   "outputs": [],
   "source": [
    "sdfs = get_urls(url, \".sdf.gz\")"
   ]
  },
  {
   "cell_type": "code",
   "execution_count": 12,
   "id": "be13788d",
   "metadata": {
    "scrolled": true
   },
   "outputs": [],
   "source": [
    "file_names = pd.Series(list(sorted(sdfs)))[:40]"
   ]
  },
  {
   "cell_type": "code",
   "execution_count": 13,
   "id": "20f0e62f",
   "metadata": {},
   "outputs": [
    {
     "data": {
      "text/plain": [
       "0     Compound_000000001_000500000.sdf.gz\n",
       "1     Compound_000500001_001000000.sdf.gz\n",
       "2     Compound_001000001_001500000.sdf.gz\n",
       "3     Compound_001500001_002000000.sdf.gz\n",
       "4     Compound_002000001_002500000.sdf.gz\n",
       "5     Compound_002500001_003000000.sdf.gz\n",
       "6     Compound_003000001_003500000.sdf.gz\n",
       "7     Compound_003500001_004000000.sdf.gz\n",
       "8     Compound_004000001_004500000.sdf.gz\n",
       "9     Compound_004500001_005000000.sdf.gz\n",
       "10    Compound_005000001_005500000.sdf.gz\n",
       "11    Compound_005500001_006000000.sdf.gz\n",
       "12    Compound_006000001_006500000.sdf.gz\n",
       "13    Compound_006500001_007000000.sdf.gz\n",
       "14    Compound_007000001_007500000.sdf.gz\n",
       "15    Compound_007500001_008000000.sdf.gz\n",
       "16    Compound_008000001_008500000.sdf.gz\n",
       "17    Compound_008500001_009000000.sdf.gz\n",
       "18    Compound_009000001_009500000.sdf.gz\n",
       "19    Compound_009500001_010000000.sdf.gz\n",
       "20    Compound_010000001_010500000.sdf.gz\n",
       "21    Compound_010500001_011000000.sdf.gz\n",
       "22    Compound_011000001_011500000.sdf.gz\n",
       "23    Compound_011500001_012000000.sdf.gz\n",
       "24    Compound_012000001_012500000.sdf.gz\n",
       "25    Compound_012500001_013000000.sdf.gz\n",
       "26    Compound_013000001_013500000.sdf.gz\n",
       "27    Compound_013500001_014000000.sdf.gz\n",
       "28    Compound_014000001_014500000.sdf.gz\n",
       "29    Compound_014500001_015000000.sdf.gz\n",
       "30    Compound_015000001_015500000.sdf.gz\n",
       "31    Compound_015500001_016000000.sdf.gz\n",
       "32    Compound_016000001_016500000.sdf.gz\n",
       "33    Compound_016500001_017000000.sdf.gz\n",
       "34    Compound_017000001_017500000.sdf.gz\n",
       "35    Compound_017500001_018000000.sdf.gz\n",
       "36    Compound_018000001_018500000.sdf.gz\n",
       "37    Compound_018500001_019000000.sdf.gz\n",
       "38    Compound_019000001_019500000.sdf.gz\n",
       "39    Compound_019500001_020000000.sdf.gz\n",
       "dtype: object"
      ]
     },
     "execution_count": 13,
     "metadata": {},
     "output_type": "execute_result"
    }
   ],
   "source": [
    "file_names"
   ]
  },
  {
   "cell_type": "code",
   "execution_count": 14,
   "id": "02f0f7a0",
   "metadata": {},
   "outputs": [],
   "source": [
    "def tag_processed(file_name):\n",
    "    with open(processed_file, 'a') as f:\n",
    "        f.write(str(file_name) + '\\n')\n",
    "    print('prcessed:', file_name)"
   ]
  },
  {
   "cell_type": "code",
   "execution_count": 15,
   "id": "fcdc5eab",
   "metadata": {},
   "outputs": [],
   "source": [
    "def download_zips(file_name):\n",
    "    if file_name in processed_before:\n",
    "        print(\"skipped\", file_name)\n",
    "        return\n",
    "    print(\"start\", file_name)\n",
    "    with requests.get(url + file_name, stream=True) as r:\n",
    "        with open(dir_to_download / file_name, 'wb') as f:\n",
    "            shutil.copyfileobj(r.raw, f)\n",
    "    with gzip.open(dir_to_download / file_name, 'rb') as f_in:\n",
    "        with open(dir_to_download / file_name[:-3], 'wb') as f_out:\n",
    "            shutil.copyfileobj(f_in, f_out)\n",
    "    os.remove(dir_to_download / file_name)\n",
    "    tag_processed(file_name)"
   ]
  },
  {
   "cell_type": "code",
   "execution_count": 14,
   "id": "b5c1e0ec",
   "metadata": {
    "scrolled": true
   },
   "outputs": [
    {
     "data": {
      "application/vnd.jupyter.widget-view+json": {
       "model_id": "cee143a4720e4bf28a2e54d63f777c93",
       "version_major": 2,
       "version_minor": 0
      },
      "text/plain": [
       "VBox(children=(HBox(children=(IntProgress(value=0, description='0.00%', max=10), Label(value='0 / 10'))), HBox…"
      ]
     },
     "metadata": {},
     "output_type": "display_data"
    },
    {
     "name": "stdout",
     "output_type": "stream",
     "text": [
      "startstartstart  Compound_005000001_005500000.sdf.gzCompound_010000001_010500000.sdf.gz start\n",
      "\n",
      " Compound_015000001_015500000.sdf.gz\n",
      "Compound_000000001_000500000.sdf.gz\n",
      "prcessed: Compound_015000001_015500000.sdf.gz\n",
      "start Compound_015500001_016000000.sdf.gz\n",
      "prcessed: Compound_015500001_016000000.sdf.gz\n",
      "start Compound_016000001_016500000.sdf.gz\n",
      "prcessed: Compound_000000001_000500000.sdf.gz\n",
      "start Compound_000500001_001000000.sdf.gz\n",
      "prcessed: Compound_005000001_005500000.sdf.gz\n",
      "start Compound_005500001_006000000.sdf.gz\n",
      "prcessed: Compound_010000001_010500000.sdf.gz\n",
      "start Compound_010500001_011000000.sdf.gz\n",
      "prcessed: Compound_005500001_006000000.sdf.gz\n",
      "start Compound_006000001_006500000.sdf.gz\n",
      "prcessed: Compound_000500001_001000000.sdf.gz\n",
      "start Compound_001000001_001500000.sdf.gz\n",
      "prcessed: Compound_016000001_016500000.sdf.gz\n",
      "start Compound_016500001_017000000.sdf.gz\n",
      "prcessed: Compound_006000001_006500000.sdf.gz\n",
      "start\n",
      " Compound_006500001_007000000.sdf.gzprcessed: Compound_001000001_001500000.sdf.gz\n",
      "start Compound_001500001_002000000.sdf.gz\n",
      "prcessed: Compound_010500001_011000000.sdf.gz\n",
      "start Compound_011000001_011500000.sdf.gz\n",
      "prcessed: Compound_016500001_017000000.sdf.gz\n",
      "start Compound_017000001_017500000.sdf.gz\n",
      "prcessed: Compound_006500001_007000000.sdf.gz\n",
      "start Compound_007000001_007500000.sdf.gz\n",
      "prcessed: Compound_001500001_002000000.sdf.gz\n",
      "start Compound_002000001_002500000.sdf.gz\n",
      "prcessed: Compound_007000001_007500000.sdf.gz\n",
      "start Compound_007500001_008000000.sdf.gz\n",
      "prcessed: Compound_017000001_017500000.sdf.gz\n",
      "start Compound_017500001_018000000.sdf.gz\n",
      "prcessed: Compound_011000001_011500000.sdf.gz\n",
      "start\n",
      " Compound_011500001_012000000.sdf.gzprcessed: Compound_002000001_002500000.sdf.gz\n",
      "start Compound_002500001_003000000.sdf.gz\n",
      "prcessed: Compound_017500001_018000000.sdf.gz\n",
      "start Compound_018000001_018500000.sdf.gz\n",
      "prcessed: Compound_007500001_008000000.sdf.gz\n",
      "start Compound_008000001_008500000.sdf.gz\n",
      "prcessed: Compound_002500001_003000000.sdf.gz\n",
      "start\n",
      " Compound_003000001_003500000.sdf.gzprcessed: Compound_008000001_008500000.sdf.gz\n",
      "start Compound_008500001_009000000.sdf.gz\n",
      "prcessed: Compound_011500001_012000000.sdf.gz\n",
      "start Compound_012000001_012500000.sdf.gz\n",
      "prcessed: Compound_018000001_018500000.sdf.gz\n",
      "start Compound_018500001_019000000.sdf.gz\n",
      "prcessed: Compound_012000001_012500000.sdf.gz\n",
      "start Compound_012500001_013000000.sdf.gz\n",
      "prcessed: Compound_003000001_003500000.sdf.gz\n",
      "start Compound_003500001_004000000.sdf.gz\n",
      "prcessed: Compound_012500001_013000000.sdf.gz\n",
      "start Compound_013000001_013500000.sdf.gz\n",
      "prcessed: Compound_008500001_009000000.sdf.gz\n",
      "start Compound_009000001_009500000.sdf.gz\n",
      "prcessed: Compound_018500001_019000000.sdf.gz\n",
      "start Compound_019000001_019500000.sdf.gz\n",
      "prcessed: Compound_013000001_013500000.sdf.gz\n",
      "start Compound_013500001_014000000.sdf.gz\n",
      "prcessed: Compound_013500001_014000000.sdf.gz\n",
      "start Compound_014000001_014500000.sdf.gz\n",
      "prcessed: Compound_014000001_014500000.sdf.gz\n",
      "start Compound_014500001_015000000.sdf.gz\n",
      "prcessed: Compound_014500001_015000000.sdf.gz\n",
      "prcessed: Compound_009000001_009500000.sdf.gz\n",
      "startCompound_009500001_010000000.sdf.gz \n",
      "prcessed: Compound_019000001_019500000.sdf.gz\n",
      "start Compound_019500001_020000000.sdf.gz\n",
      "prcessed: Compound_003500001_004000000.sdf.gz\n",
      "start Compound_004000001_004500000.sdf.gz\n",
      "prcessed: Compound_019500001_020000000.sdf.gz\n",
      "prcessed: Compound_009500001_010000000.sdf.gz\n",
      "prcessed: Compound_004000001_004500000.sdf.gz\n",
      "start Compound_004500001_005000000.sdf.gz\n",
      "prcessed: Compound_004500001_005000000.sdf.gz\n"
     ]
    },
    {
     "data": {
      "text/plain": [
       "0     None\n",
       "1     None\n",
       "2     None\n",
       "3     None\n",
       "4     None\n",
       "5     None\n",
       "6     None\n",
       "7     None\n",
       "8     None\n",
       "9     None\n",
       "10    None\n",
       "11    None\n",
       "12    None\n",
       "13    None\n",
       "14    None\n",
       "15    None\n",
       "16    None\n",
       "17    None\n",
       "18    None\n",
       "19    None\n",
       "20    None\n",
       "21    None\n",
       "22    None\n",
       "23    None\n",
       "24    None\n",
       "25    None\n",
       "26    None\n",
       "27    None\n",
       "28    None\n",
       "29    None\n",
       "30    None\n",
       "31    None\n",
       "32    None\n",
       "33    None\n",
       "34    None\n",
       "35    None\n",
       "36    None\n",
       "37    None\n",
       "38    None\n",
       "39    None\n",
       "dtype: object"
      ]
     },
     "execution_count": 14,
     "metadata": {},
     "output_type": "execute_result"
    }
   ],
   "source": [
    "file_names.parallel_apply(download_zips)"
   ]
  },
  {
   "cell_type": "code",
   "execution_count": 16,
   "id": "a7b896d3",
   "metadata": {},
   "outputs": [],
   "source": [
    "def check_processed(file_name, processed):\n",
    "    for processed_name in processed:\n",
    "        if file_name in processed_name:\n",
    "            return True\n",
    "    return False"
   ]
  },
  {
   "cell_type": "code",
   "execution_count": 17,
   "id": "d934e717",
   "metadata": {},
   "outputs": [],
   "source": [
    "def remove_unprocessed():\n",
    "    with processed_file.open('r') as f:\n",
    "        processed = f.read().split()\n",
    "    for file in os.listdir(dir_to_download):\n",
    "        if check_processed(file, processed):\n",
    "            continue\n",
    "        os.remove(dir_to_download / file)\n",
    "        print('removed:', dir_to_download / file)\n"
   ]
  },
  {
   "cell_type": "code",
   "execution_count": 17,
   "id": "362f3aa5",
   "metadata": {},
   "outputs": [],
   "source": [
    "remove_unprocessed()"
   ]
  },
  {
   "cell_type": "code",
   "execution_count": null,
   "id": "f1aa6c9f",
   "metadata": {},
   "outputs": [],
   "source": []
  }
 ],
 "metadata": {
  "kernelspec": {
   "display_name": "Python 3 (ipykernel)",
   "language": "python",
   "name": "python3"
  },
  "language_info": {
   "codemirror_mode": {
    "name": "ipython",
    "version": 3
   },
   "file_extension": ".py",
   "mimetype": "text/x-python",
   "name": "python",
   "nbconvert_exporter": "python",
   "pygments_lexer": "ipython3",
   "version": "3.10.5"
  }
 },
 "nbformat": 4,
 "nbformat_minor": 5
}
