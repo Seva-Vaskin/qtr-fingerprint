{
 "cells": [
  {
   "cell_type": "code",
   "execution_count": 1,
   "id": "8196d908",
   "metadata": {},
   "outputs": [],
   "source": [
    "import os\n",
    "import gzip\n",
    "import shutil\n",
    "import fp_utils\n",
    "import requests\n",
    "import pandas as pd\n",
    "from pathlib import Path\n",
    "from bs4 import BeautifulSoup"
   ]
  },
  {
   "cell_type": "code",
   "execution_count": 2,
   "id": "f9f1ae7d",
   "metadata": {},
   "outputs": [
    {
     "name": "stdout",
     "output_type": "stream",
     "text": [
      "INFO: Pandarallel will run on 10 workers.\n",
      "INFO: Pandarallel will use standard multiprocessing data transfer (pipe) to transfer data between the main process and workers.\n"
     ]
    }
   ],
   "source": [
    "fp_utils.settings.init_fp_utils()"
   ]
  },
  {
   "cell_type": "code",
   "execution_count": 3,
   "id": "d9f156e2",
   "metadata": {},
   "outputs": [],
   "source": [
    "url = \"https://ftp.ncbi.nlm.nih.gov/pubchem/Compound/CURRENT-Full/SDF/\""
   ]
  },
  {
   "cell_type": "code",
   "execution_count": 4,
   "id": "bee151bc",
   "metadata": {},
   "outputs": [],
   "source": [
    "dir_to_download = Path('../data/pubchem/sdfs')\n",
    "dir_to_download.mkdir(parents=True, exist_ok=True)"
   ]
  },
  {
   "cell_type": "code",
   "execution_count": 5,
   "id": "1d030acd",
   "metadata": {},
   "outputs": [],
   "source": [
    "def get_urls(url, ext):\n",
    "    page = requests.get(url)\n",
    "    soup = BeautifulSoup(page.content, features='lxml')\n",
    "    all_links = [link.get(\"href\") for link in soup(\"a\")]\n",
    "    return pd.Series(filter(lambda x: x.endswith(ext), all_links))"
   ]
  },
  {
   "cell_type": "code",
   "execution_count": 6,
   "id": "643193da",
   "metadata": {},
   "outputs": [],
   "source": [
    "sdfs = get_urls(url, \".sdf.gz\")"
   ]
  },
  {
   "cell_type": "code",
   "execution_count": 7,
   "id": "fa05673a",
   "metadata": {},
   "outputs": [],
   "source": [
    "file_names = sdfs.sample(1)"
   ]
  },
  {
   "cell_type": "code",
   "execution_count": 8,
   "id": "fcdc5eab",
   "metadata": {},
   "outputs": [],
   "source": [
    "def download_zips(file_name):\n",
    "    print(file_name)\n",
    "    with requests.get(url + file_name, stream=True) as r:\n",
    "        with open(dir_to_download / file_name, 'wb') as f:\n",
    "            shutil.copyfileobj(r.raw, f)\n",
    "    with gzip.open(dir_to_download / file_name, 'rb') as f_in:\n",
    "        with open(dir_to_download / file_name.split('.')[0], 'wb') as f_out:\n",
    "            shutil.copyfileobj(f_in, f_out)\n",
    "    os.remove(dir_to_download / file_name) "
   ]
  },
  {
   "cell_type": "code",
   "execution_count": 9,
   "id": "b5c1e0ec",
   "metadata": {},
   "outputs": [
    {
     "data": {
      "application/vnd.jupyter.widget-view+json": {
       "model_id": "2ccd377800ff47a586030d27cf04b890",
       "version_major": 2,
       "version_minor": 0
      },
      "text/plain": [
       "VBox(children=(HBox(children=(IntProgress(value=0, description='0.00%', max=1), Label(value='0 / 1'))),))"
      ]
     },
     "metadata": {},
     "output_type": "display_data"
    },
    {
     "name": "stdout",
     "output_type": "stream",
     "text": [
      "Compound_073000001_073500000.sdf.gz\n"
     ]
    },
    {
     "data": {
      "text/plain": [
       "146    None\n",
       "dtype: object"
      ]
     },
     "execution_count": 9,
     "metadata": {},
     "output_type": "execute_result"
    }
   ],
   "source": [
    "file_names.parallel_apply(download_zips)"
   ]
  }
 ],
 "metadata": {
  "kernelspec": {
   "display_name": "Python 3 (ipykernel)",
   "language": "python",
   "name": "python3"
  },
  "language_info": {
   "codemirror_mode": {
    "name": "ipython",
    "version": 3
   },
   "file_extension": ".py",
   "mimetype": "text/x-python",
   "name": "python",
   "nbconvert_exporter": "python",
   "pygments_lexer": "ipython3",
   "version": "3.10.4"
  }
 },
 "nbformat": 4,
 "nbformat_minor": 5
}
