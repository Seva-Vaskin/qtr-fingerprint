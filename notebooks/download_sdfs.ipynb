{
 "cells": [
  {
   "cell_type": "code",
   "execution_count": 1,
   "id": "8196d908",
   "metadata": {
    "scrolled": true
   },
   "outputs": [],
   "source": [
    "import os\n",
    "import gzip\n",
    "import shutil\n",
    "import fp_utils\n",
    "import requests\n",
    "import pandas as pd\n",
    "from pathlib import Path\n",
    "from bs4 import BeautifulSoup"
   ]
  },
  {
   "cell_type": "code",
   "execution_count": 2,
   "id": "f9f1ae7d",
   "metadata": {},
   "outputs": [
    {
     "name": "stdout",
     "output_type": "stream",
     "text": [
      "INFO: Pandarallel will run on 4 workers.\n",
      "INFO: Pandarallel will use Memory file system to transfer data between the main process and workers.\n"
     ]
    }
   ],
   "source": [
    "fp_utils.settings.init_fp_utils()"
   ]
  },
  {
   "cell_type": "code",
   "execution_count": 3,
   "id": "d9f156e2",
   "metadata": {},
   "outputs": [],
   "source": [
    "url = \"https://ftp.ncbi.nlm.nih.gov/pubchem/Compound/CURRENT-Full/SDF/\""
   ]
  },
  {
   "cell_type": "code",
   "execution_count": 4,
   "id": "bee151bc",
   "metadata": {},
   "outputs": [],
   "source": [
    "dir_to_download = Path('../data/pubchem/sdfs')\n",
    "dir_to_download.mkdir(parents=True, exist_ok=True)"
   ]
  },
  {
   "cell_type": "code",
   "execution_count": 5,
   "id": "cd66892d",
   "metadata": {},
   "outputs": [],
   "source": [
    "processed_file = Path(\"../data/pubchem/processed.txt\")\n",
    "with processed_file.open('a'):\n",
    "    pass"
   ]
  },
  {
   "cell_type": "code",
   "execution_count": 6,
   "id": "3b681a3f",
   "metadata": {},
   "outputs": [],
   "source": [
    "with open(processed_file, 'r') as f:\n",
    "    processed_before = set(f.read().split())"
   ]
  },
  {
   "cell_type": "code",
   "execution_count": 7,
   "id": "de7c0683",
   "metadata": {
    "scrolled": true
   },
   "outputs": [
    {
     "data": {
      "text/plain": [
       "{'Compound_000000001_000500000.sdf.gz',\n",
       " 'Compound_041500001_042000000.sdf.gz',\n",
       " 'Compound_042000001_042500000.sdf.gz',\n",
       " 'Compound_083000001_083500000.sdf.gz',\n",
       " 'Compound_083500001_084000000.sdf.gz',\n",
       " 'Compound_124000001_124500000.sdf.gz'}"
      ]
     },
     "execution_count": 7,
     "metadata": {},
     "output_type": "execute_result"
    }
   ],
   "source": [
    "processed_before"
   ]
  },
  {
   "cell_type": "code",
   "execution_count": 8,
   "id": "1d030acd",
   "metadata": {},
   "outputs": [],
   "source": [
    "def get_urls(url, ext):\n",
    "    page = requests.get(url)\n",
    "    soup = BeautifulSoup(page.content, features='lxml')\n",
    "    all_links = [link.get(\"href\") for link in soup(\"a\")]\n",
    "    return pd.Series(filter(lambda x: x.endswith(ext), all_links))"
   ]
  },
  {
   "cell_type": "code",
   "execution_count": 9,
   "id": "643193da",
   "metadata": {},
   "outputs": [],
   "source": [
    "sdfs = get_urls(url, \".sdf.gz\")"
   ]
  },
  {
   "cell_type": "code",
   "execution_count": 10,
   "id": "be13788d",
   "metadata": {
    "scrolled": true
   },
   "outputs": [],
   "source": [
    "file_names = pd.Series(list(sorted(sdfs)))"
   ]
  },
  {
   "cell_type": "code",
   "execution_count": 11,
   "id": "02f0f7a0",
   "metadata": {},
   "outputs": [],
   "source": [
    "def tag_processed(file_name):\n",
    "    with open(processed_file, 'a') as f:\n",
    "        f.write(str(file_name) + '\\n')\n",
    "    print('prcessed:', file_name)"
   ]
  },
  {
   "cell_type": "code",
   "execution_count": 12,
   "id": "fcdc5eab",
   "metadata": {},
   "outputs": [],
   "source": [
    "def download_zips(file_name):\n",
    "    if file_name in processed_before:\n",
    "        print(\"skipped\", file_name)\n",
    "        return\n",
    "    print(\"start\", file_name)\n",
    "    with requests.get(url + file_name, stream=True) as r:\n",
    "        with open(dir_to_download / file_name, 'wb') as f:\n",
    "            shutil.copyfileobj(r.raw, f)\n",
    "    with gzip.open(dir_to_download / file_name, 'rb') as f_in:\n",
    "        with open(dir_to_download / file_name[:-3], 'wb') as f_out:\n",
    "            shutil.copyfileobj(f_in, f_out)\n",
    "    os.remove(dir_to_download / file_name)\n",
    "    tag_processed(file_name)"
   ]
  },
  {
   "cell_type": "code",
   "execution_count": 13,
   "id": "b5c1e0ec",
   "metadata": {
    "scrolled": true
   },
   "outputs": [
    {
     "data": {
      "application/vnd.jupyter.widget-view+json": {
       "model_id": "440d2d13538b423d9cc53e4eda795cff",
       "version_major": 2,
       "version_minor": 0
      },
      "text/plain": [
       "VBox(children=(HBox(children=(IntProgress(value=0, description='0.00%', max=83), Label(value='0 / 83'))), HBox…"
      ]
     },
     "metadata": {},
     "output_type": "display_data"
    },
    {
     "name": "stdout",
     "output_type": "stream",
     "text": [
      "startstartstart start  Compound_124000001_124500000.sdf.gzCompound_083000001_083500000.sdf.gzCompound_000000001_000500000.sdf.gz \n",
      "Compound_041500001_042000000.sdf.gz\n",
      "\n",
      "\n",
      "prcessed: Compound_041500001_042000000.sdf.gz\n",
      "start Compound_042000001_042500000.sdf.gz\n",
      "prcessed: Compound_042000001_042500000.sdf.gz\n",
      "start Compound_042500001_043000000.sdf.gz\n",
      "prcessed: Compound_083000001_083500000.sdf.gz\n",
      "start Compound_083500001_084000000.sdf.gz\n",
      "prcessed: Compound_083500001_084000000.sdf.gz\n",
      "start Compound_084000001_084500000.sdf.gz\n",
      "prcessed: Compound_124000001_124500000.sdf.gz\n",
      "start \n",
      "Compound_124500001_125000000.sdf.gzprcessed: Compound_000000001_000500000.sdf.gz\n",
      "start Compound_000500001_001000000.sdf.gz\n"
     ]
    },
    {
     "name": "stderr",
     "output_type": "stream",
     "text": [
      "Process ForkPoolWorker-3:\n",
      "Process ForkPoolWorker-5:\n",
      "Process ForkPoolWorker-4:\n",
      "Process ForkPoolWorker-2:\n",
      "Traceback (most recent call last):\n",
      "Traceback (most recent call last):\n",
      "Traceback (most recent call last):\n",
      "  File \"/home/Vsevolod.Vaskin/anaconda3/envs/rdkit-env/lib/python3.10/multiprocessing/process.py\", line 315, in _bootstrap\n",
      "    self.run()\n",
      "  File \"/home/Vsevolod.Vaskin/anaconda3/envs/rdkit-env/lib/python3.10/multiprocessing/process.py\", line 315, in _bootstrap\n",
      "    self.run()\n",
      "  File \"/home/Vsevolod.Vaskin/anaconda3/envs/rdkit-env/lib/python3.10/multiprocessing/process.py\", line 315, in _bootstrap\n",
      "    self.run()\n",
      "  File \"/home/Vsevolod.Vaskin/anaconda3/envs/rdkit-env/lib/python3.10/multiprocessing/process.py\", line 108, in run\n",
      "    self._target(*self._args, **self._kwargs)\n",
      "  File \"/home/Vsevolod.Vaskin/anaconda3/envs/rdkit-env/lib/python3.10/multiprocessing/process.py\", line 108, in run\n",
      "    self._target(*self._args, **self._kwargs)\n",
      "  File \"/home/Vsevolod.Vaskin/anaconda3/envs/rdkit-env/lib/python3.10/multiprocessing/pool.py\", line 125, in worker\n",
      "    result = (True, func(*args, **kwds))\n",
      "  File \"/home/Vsevolod.Vaskin/anaconda3/envs/rdkit-env/lib/python3.10/multiprocessing/pool.py\", line 125, in worker\n",
      "    result = (True, func(*args, **kwds))\n",
      "  File \"/home/Vsevolod.Vaskin/anaconda3/envs/rdkit-env/lib/python3.10/multiprocessing/pool.py\", line 51, in starmapstar\n",
      "    return list(itertools.starmap(args[0], args[1]))\n",
      "  File \"/home/Vsevolod.Vaskin/anaconda3/envs/rdkit-env/lib/python3.10/multiprocessing/pool.py\", line 51, in starmapstar\n",
      "    return list(itertools.starmap(args[0], args[1]))\n",
      "Traceback (most recent call last):\n",
      "  File \"/home/Vsevolod.Vaskin/anaconda3/envs/rdkit-env/lib/python3.10/site-packages/pandarallel/core.py\", line 95, in __call__\n",
      "    result = self.work_function(\n",
      "  File \"/home/Vsevolod.Vaskin/anaconda3/envs/rdkit-env/lib/python3.10/site-packages/pandarallel/data_types/series.py\", line 26, in work\n",
      "    return data.apply(\n",
      "  File \"/home/Vsevolod.Vaskin/anaconda3/envs/rdkit-env/lib/python3.10/site-packages/pandarallel/core.py\", line 95, in __call__\n",
      "    result = self.work_function(\n",
      "  File \"/home/Vsevolod.Vaskin/anaconda3/envs/rdkit-env/lib/python3.10/multiprocessing/process.py\", line 315, in _bootstrap\n",
      "    self.run()\n",
      "  File \"/home/Vsevolod.Vaskin/anaconda3/envs/rdkit-env/lib/python3.10/site-packages/pandas/core/series.py\", line 4433, in apply\n",
      "    return SeriesApply(self, func, convert_dtype, args, kwargs).apply()\n",
      "  File \"/home/Vsevolod.Vaskin/anaconda3/envs/rdkit-env/lib/python3.10/site-packages/pandarallel/data_types/series.py\", line 26, in work\n",
      "    return data.apply(\n",
      "  File \"/home/Vsevolod.Vaskin/anaconda3/envs/rdkit-env/lib/python3.10/multiprocessing/process.py\", line 108, in run\n",
      "    self._target(*self._args, **self._kwargs)\n",
      "  File \"/home/Vsevolod.Vaskin/anaconda3/envs/rdkit-env/lib/python3.10/site-packages/pandas/core/apply.py\", line 1088, in apply\n",
      "    return self.apply_standard()\n",
      "  File \"/home/Vsevolod.Vaskin/anaconda3/envs/rdkit-env/lib/python3.10/site-packages/pandas/core/series.py\", line 4433, in apply\n",
      "    return SeriesApply(self, func, convert_dtype, args, kwargs).apply()\n",
      "  File \"/home/Vsevolod.Vaskin/anaconda3/envs/rdkit-env/lib/python3.10/multiprocessing/process.py\", line 108, in run\n",
      "    self._target(*self._args, **self._kwargs)\n",
      "  File \"/home/Vsevolod.Vaskin/anaconda3/envs/rdkit-env/lib/python3.10/site-packages/pandas/core/apply.py\", line 1143, in apply_standard\n",
      "    mapped = lib.map_infer(\n",
      "  File \"/home/Vsevolod.Vaskin/anaconda3/envs/rdkit-env/lib/python3.10/site-packages/pandas/core/apply.py\", line 1088, in apply\n",
      "    return self.apply_standard()\n",
      "  File \"/home/Vsevolod.Vaskin/anaconda3/envs/rdkit-env/lib/python3.10/multiprocessing/pool.py\", line 125, in worker\n",
      "    result = (True, func(*args, **kwds))\n",
      "  File \"/home/Vsevolod.Vaskin/anaconda3/envs/rdkit-env/lib/python3.10/multiprocessing/pool.py\", line 125, in worker\n",
      "    result = (True, func(*args, **kwds))\n",
      "  File \"/home/Vsevolod.Vaskin/anaconda3/envs/rdkit-env/lib/python3.10/site-packages/pandas/core/apply.py\", line 1143, in apply_standard\n",
      "    mapped = lib.map_infer(\n",
      "  File \"pandas/_libs/lib.pyx\", line 2870, in pandas._libs.lib.map_infer\n",
      "  File \"/home/Vsevolod.Vaskin/anaconda3/envs/rdkit-env/lib/python3.10/multiprocessing/pool.py\", line 51, in starmapstar\n",
      "    return list(itertools.starmap(args[0], args[1]))\n",
      "  File \"/home/Vsevolod.Vaskin/anaconda3/envs/rdkit-env/lib/python3.10/site-packages/pandarallel/progress_bars.py\", line 210, in closure\n",
      "    return user_defined_function(\n",
      "  File \"/home/Vsevolod.Vaskin/anaconda3/envs/rdkit-env/lib/python3.10/multiprocessing/pool.py\", line 51, in starmapstar\n",
      "    return list(itertools.starmap(args[0], args[1]))\n",
      "  File \"/tmp/ipykernel_26667/2014889605.py\", line 7, in download_zips\n",
      "    with open(dir_to_download / file_name, 'wb') as f:\n",
      "  File \"/home/Vsevolod.Vaskin/anaconda3/envs/rdkit-env/lib/python3.10/site-packages/pandarallel/core.py\", line 95, in __call__\n",
      "    result = self.work_function(\n",
      "  File \"/home/Vsevolod.Vaskin/anaconda3/envs/rdkit-env/lib/python3.10/shutil.py\", line 195, in copyfileobj\n",
      "    buf = fsrc_read(length)\n",
      "  File \"/home/Vsevolod.Vaskin/anaconda3/envs/rdkit-env/lib/python3.10/site-packages/urllib3/response.py\", line 566, in read\n",
      "    data = self._fp_read(amt) if not fp_closed else b\"\"\n",
      "  File \"/home/Vsevolod.Vaskin/anaconda3/envs/rdkit-env/lib/python3.10/site-packages/pandarallel/data_types/series.py\", line 26, in work\n",
      "    return data.apply(\n",
      "  File \"/home/Vsevolod.Vaskin/anaconda3/envs/rdkit-env/lib/python3.10/site-packages/urllib3/response.py\", line 532, in _fp_read\n",
      "    return self._fp.read(amt) if amt is not None else self._fp.read()\n",
      "  File \"/home/Vsevolod.Vaskin/anaconda3/envs/rdkit-env/lib/python3.10/site-packages/pandarallel/core.py\", line 95, in __call__\n",
      "    result = self.work_function(\n",
      "  File \"/home/Vsevolod.Vaskin/anaconda3/envs/rdkit-env/lib/python3.10/http/client.py\", line 465, in read\n",
      "    s = self.fp.read(amt)\n",
      "  File \"pandas/_libs/lib.pyx\", line 2870, in pandas._libs.lib.map_infer\n",
      "  File \"/home/Vsevolod.Vaskin/anaconda3/envs/rdkit-env/lib/python3.10/socket.py\", line 705, in readinto\n",
      "    return self._sock.recv_into(b)\n",
      "  File \"/home/Vsevolod.Vaskin/anaconda3/envs/rdkit-env/lib/python3.10/ssl.py\", line 1274, in recv_into\n",
      "    return self.read(nbytes, buffer)\n",
      "  File \"/home/Vsevolod.Vaskin/anaconda3/envs/rdkit-env/lib/python3.10/site-packages/pandarallel/data_types/series.py\", line 26, in work\n",
      "    return data.apply(\n",
      "  File \"/home/Vsevolod.Vaskin/anaconda3/envs/rdkit-env/lib/python3.10/ssl.py\", line 1130, in read\n",
      "    return self._sslobj.read(len, buffer)\n",
      "  File \"/home/Vsevolod.Vaskin/anaconda3/envs/rdkit-env/lib/python3.10/site-packages/pandas/core/series.py\", line 4433, in apply\n",
      "    return SeriesApply(self, func, convert_dtype, args, kwargs).apply()\n",
      "  File \"/home/Vsevolod.Vaskin/anaconda3/envs/rdkit-env/lib/python3.10/site-packages/pandarallel/progress_bars.py\", line 210, in closure\n",
      "    return user_defined_function(\n",
      "  File \"/home/Vsevolod.Vaskin/anaconda3/envs/rdkit-env/lib/python3.10/site-packages/pandas/core/series.py\", line 4433, in apply\n",
      "    return SeriesApply(self, func, convert_dtype, args, kwargs).apply()\n",
      "KeyboardInterrupt\n",
      "  File \"/home/Vsevolod.Vaskin/anaconda3/envs/rdkit-env/lib/python3.10/site-packages/pandas/core/apply.py\", line 1088, in apply\n",
      "    return self.apply_standard()\n",
      "  File \"/home/Vsevolod.Vaskin/anaconda3/envs/rdkit-env/lib/python3.10/site-packages/pandas/core/apply.py\", line 1088, in apply\n",
      "    return self.apply_standard()\n",
      "  File \"/tmp/ipykernel_26667/2014889605.py\", line 7, in download_zips\n",
      "    with open(dir_to_download / file_name, 'wb') as f:\n",
      "  File \"/home/Vsevolod.Vaskin/anaconda3/envs/rdkit-env/lib/python3.10/site-packages/pandas/core/apply.py\", line 1143, in apply_standard\n",
      "    mapped = lib.map_infer(\n",
      "  File \"/home/Vsevolod.Vaskin/anaconda3/envs/rdkit-env/lib/python3.10/shutil.py\", line 195, in copyfileobj\n",
      "    buf = fsrc_read(length)\n",
      "  File \"pandas/_libs/lib.pyx\", line 2870, in pandas._libs.lib.map_infer\n",
      "  File \"/home/Vsevolod.Vaskin/anaconda3/envs/rdkit-env/lib/python3.10/site-packages/pandarallel/progress_bars.py\", line 210, in closure\n",
      "    return user_defined_function(\n",
      "  File \"/tmp/ipykernel_26667/2014889605.py\", line 7, in download_zips\n",
      "    with open(dir_to_download / file_name, 'wb') as f:\n"
     ]
    },
    {
     "name": "stderr",
     "output_type": "stream",
     "text": [
      "  File \"/home/Vsevolod.Vaskin/anaconda3/envs/rdkit-env/lib/python3.10/site-packages/urllib3/response.py\", line 566, in read\n",
      "    data = self._fp_read(amt) if not fp_closed else b\"\"\n",
      "  File \"/home/Vsevolod.Vaskin/anaconda3/envs/rdkit-env/lib/python3.10/shutil.py\", line 195, in copyfileobj\n",
      "    buf = fsrc_read(length)\n",
      "  File \"/home/Vsevolod.Vaskin/anaconda3/envs/rdkit-env/lib/python3.10/site-packages/urllib3/response.py\", line 566, in read\n",
      "    data = self._fp_read(amt) if not fp_closed else b\"\"\n",
      "  File \"/home/Vsevolod.Vaskin/anaconda3/envs/rdkit-env/lib/python3.10/site-packages/urllib3/response.py\", line 532, in _fp_read\n",
      "    return self._fp.read(amt) if amt is not None else self._fp.read()\n",
      "  File \"/home/Vsevolod.Vaskin/anaconda3/envs/rdkit-env/lib/python3.10/http/client.py\", line 465, in read\n",
      "    s = self.fp.read(amt)\n",
      "  File \"/home/Vsevolod.Vaskin/anaconda3/envs/rdkit-env/lib/python3.10/site-packages/urllib3/response.py\", line 532, in _fp_read\n",
      "    return self._fp.read(amt) if amt is not None else self._fp.read()\n",
      "  File \"/home/Vsevolod.Vaskin/anaconda3/envs/rdkit-env/lib/python3.10/http/client.py\", line 465, in read\n",
      "    s = self.fp.read(amt)\n",
      "  File \"/home/Vsevolod.Vaskin/anaconda3/envs/rdkit-env/lib/python3.10/socket.py\", line 705, in readinto\n",
      "    return self._sock.recv_into(b)\n",
      "  File \"/home/Vsevolod.Vaskin/anaconda3/envs/rdkit-env/lib/python3.10/ssl.py\", line 1274, in recv_into\n",
      "    return self.read(nbytes, buffer)\n",
      "  File \"/home/Vsevolod.Vaskin/anaconda3/envs/rdkit-env/lib/python3.10/ssl.py\", line 1130, in read\n",
      "    return self._sslobj.read(len, buffer)\n",
      "KeyboardInterrupt\n",
      "  File \"/home/Vsevolod.Vaskin/anaconda3/envs/rdkit-env/lib/python3.10/socket.py\", line 705, in readinto\n",
      "    return self._sock.recv_into(b)\n",
      "  File \"/home/Vsevolod.Vaskin/anaconda3/envs/rdkit-env/lib/python3.10/ssl.py\", line 1274, in recv_into\n",
      "    return self.read(nbytes, buffer)\n",
      "  File \"/home/Vsevolod.Vaskin/anaconda3/envs/rdkit-env/lib/python3.10/site-packages/pandas/core/apply.py\", line 1143, in apply_standard\n",
      "    mapped = lib.map_infer(\n",
      "  File \"pandas/_libs/lib.pyx\", line 2870, in pandas._libs.lib.map_infer\n",
      "  File \"/home/Vsevolod.Vaskin/anaconda3/envs/rdkit-env/lib/python3.10/site-packages/pandarallel/progress_bars.py\", line 210, in closure\n",
      "    return user_defined_function(\n",
      "  File \"/tmp/ipykernel_26667/2014889605.py\", line 7, in download_zips\n",
      "    with open(dir_to_download / file_name, 'wb') as f:\n",
      "  File \"/home/Vsevolod.Vaskin/anaconda3/envs/rdkit-env/lib/python3.10/shutil.py\", line 195, in copyfileobj\n",
      "    buf = fsrc_read(length)\n",
      "  File \"/home/Vsevolod.Vaskin/anaconda3/envs/rdkit-env/lib/python3.10/site-packages/urllib3/response.py\", line 566, in read\n",
      "    data = self._fp_read(amt) if not fp_closed else b\"\"\n",
      "  File \"/home/Vsevolod.Vaskin/anaconda3/envs/rdkit-env/lib/python3.10/site-packages/urllib3/response.py\", line 532, in _fp_read\n",
      "    return self._fp.read(amt) if amt is not None else self._fp.read()\n",
      "  File \"/home/Vsevolod.Vaskin/anaconda3/envs/rdkit-env/lib/python3.10/http/client.py\", line 465, in read\n",
      "    s = self.fp.read(amt)\n",
      "  File \"/home/Vsevolod.Vaskin/anaconda3/envs/rdkit-env/lib/python3.10/socket.py\", line 705, in readinto\n",
      "    return self._sock.recv_into(b)\n",
      "  File \"/home/Vsevolod.Vaskin/anaconda3/envs/rdkit-env/lib/python3.10/ssl.py\", line 1274, in recv_into\n",
      "    return self.read(nbytes, buffer)\n",
      "  File \"/home/Vsevolod.Vaskin/anaconda3/envs/rdkit-env/lib/python3.10/ssl.py\", line 1130, in read\n",
      "    return self._sslobj.read(len, buffer)\n",
      "KeyboardInterrupt\n",
      "  File \"/home/Vsevolod.Vaskin/anaconda3/envs/rdkit-env/lib/python3.10/ssl.py\", line 1130, in read\n",
      "    return self._sslobj.read(len, buffer)\n",
      "KeyboardInterrupt\n"
     ]
    },
    {
     "ename": "KeyboardInterrupt",
     "evalue": "",
     "output_type": "error",
     "traceback": [
      "\u001b[0;31m---------------------------------------------------------------------------\u001b[0m",
      "\u001b[0;31mKeyboardInterrupt\u001b[0m                         Traceback (most recent call last)",
      "Input \u001b[0;32mIn [13]\u001b[0m, in \u001b[0;36m<cell line: 1>\u001b[0;34m()\u001b[0m\n\u001b[0;32m----> 1\u001b[0m \u001b[43mfile_names\u001b[49m\u001b[38;5;241;43m.\u001b[39;49m\u001b[43mparallel_apply\u001b[49m\u001b[43m(\u001b[49m\u001b[43mdownload_zips\u001b[49m\u001b[43m)\u001b[49m\n",
      "File \u001b[0;32m~/anaconda3/envs/rdkit-env/lib/python3.10/site-packages/pandarallel/core.py:307\u001b[0m, in \u001b[0;36mparallelize_with_memory_file_system.<locals>.closure\u001b[0;34m(data, user_defined_function, *user_defined_function_args, **user_defined_function_kwargs)\u001b[0m\n\u001b[1;32m    299\u001b[0m generation \u001b[38;5;241m=\u001b[39m count()\n\u001b[1;32m    301\u001b[0m \u001b[38;5;28;01mwhile\u001b[39;00m \u001b[38;5;28many\u001b[39m(\n\u001b[1;32m    302\u001b[0m     (\n\u001b[1;32m    303\u001b[0m         worker_status \u001b[38;5;241m==\u001b[39m WorkerStatus\u001b[38;5;241m.\u001b[39mRunning\n\u001b[1;32m    304\u001b[0m         \u001b[38;5;28;01mfor\u001b[39;00m worker_status \u001b[38;5;129;01min\u001b[39;00m workers_status\n\u001b[1;32m    305\u001b[0m     )\n\u001b[1;32m    306\u001b[0m ):\n\u001b[0;32m--> 307\u001b[0m     message: Tuple[\u001b[38;5;28mint\u001b[39m, WorkerStatus, Any] \u001b[38;5;241m=\u001b[39m \u001b[43mmaster_workers_queue\u001b[49m\u001b[38;5;241;43m.\u001b[39;49m\u001b[43mget\u001b[49m\u001b[43m(\u001b[49m\u001b[43m)\u001b[49m\n\u001b[1;32m    308\u001b[0m     worker_index, worker_status, payload \u001b[38;5;241m=\u001b[39m message\n\u001b[1;32m    309\u001b[0m     workers_status[worker_index] \u001b[38;5;241m=\u001b[39m worker_status\n",
      "File \u001b[0;32m<string>:2\u001b[0m, in \u001b[0;36mget\u001b[0;34m(self, *args, **kwds)\u001b[0m\n",
      "File \u001b[0;32m~/anaconda3/envs/rdkit-env/lib/python3.10/multiprocessing/managers.py:818\u001b[0m, in \u001b[0;36mBaseProxy._callmethod\u001b[0;34m(self, methodname, args, kwds)\u001b[0m\n\u001b[1;32m    815\u001b[0m     conn \u001b[38;5;241m=\u001b[39m \u001b[38;5;28mself\u001b[39m\u001b[38;5;241m.\u001b[39m_tls\u001b[38;5;241m.\u001b[39mconnection\n\u001b[1;32m    817\u001b[0m conn\u001b[38;5;241m.\u001b[39msend((\u001b[38;5;28mself\u001b[39m\u001b[38;5;241m.\u001b[39m_id, methodname, args, kwds))\n\u001b[0;32m--> 818\u001b[0m kind, result \u001b[38;5;241m=\u001b[39m \u001b[43mconn\u001b[49m\u001b[38;5;241;43m.\u001b[39;49m\u001b[43mrecv\u001b[49m\u001b[43m(\u001b[49m\u001b[43m)\u001b[49m\n\u001b[1;32m    820\u001b[0m \u001b[38;5;28;01mif\u001b[39;00m kind \u001b[38;5;241m==\u001b[39m \u001b[38;5;124m'\u001b[39m\u001b[38;5;124m#RETURN\u001b[39m\u001b[38;5;124m'\u001b[39m:\n\u001b[1;32m    821\u001b[0m     \u001b[38;5;28;01mreturn\u001b[39;00m result\n",
      "File \u001b[0;32m~/anaconda3/envs/rdkit-env/lib/python3.10/multiprocessing/connection.py:255\u001b[0m, in \u001b[0;36m_ConnectionBase.recv\u001b[0;34m(self)\u001b[0m\n\u001b[1;32m    253\u001b[0m \u001b[38;5;28mself\u001b[39m\u001b[38;5;241m.\u001b[39m_check_closed()\n\u001b[1;32m    254\u001b[0m \u001b[38;5;28mself\u001b[39m\u001b[38;5;241m.\u001b[39m_check_readable()\n\u001b[0;32m--> 255\u001b[0m buf \u001b[38;5;241m=\u001b[39m \u001b[38;5;28;43mself\u001b[39;49m\u001b[38;5;241;43m.\u001b[39;49m\u001b[43m_recv_bytes\u001b[49m\u001b[43m(\u001b[49m\u001b[43m)\u001b[49m\n\u001b[1;32m    256\u001b[0m \u001b[38;5;28;01mreturn\u001b[39;00m _ForkingPickler\u001b[38;5;241m.\u001b[39mloads(buf\u001b[38;5;241m.\u001b[39mgetbuffer())\n",
      "File \u001b[0;32m~/anaconda3/envs/rdkit-env/lib/python3.10/multiprocessing/connection.py:419\u001b[0m, in \u001b[0;36mConnection._recv_bytes\u001b[0;34m(self, maxsize)\u001b[0m\n\u001b[1;32m    418\u001b[0m \u001b[38;5;28;01mdef\u001b[39;00m \u001b[38;5;21m_recv_bytes\u001b[39m(\u001b[38;5;28mself\u001b[39m, maxsize\u001b[38;5;241m=\u001b[39m\u001b[38;5;28;01mNone\u001b[39;00m):\n\u001b[0;32m--> 419\u001b[0m     buf \u001b[38;5;241m=\u001b[39m \u001b[38;5;28;43mself\u001b[39;49m\u001b[38;5;241;43m.\u001b[39;49m\u001b[43m_recv\u001b[49m\u001b[43m(\u001b[49m\u001b[38;5;241;43m4\u001b[39;49m\u001b[43m)\u001b[49m\n\u001b[1;32m    420\u001b[0m     size, \u001b[38;5;241m=\u001b[39m struct\u001b[38;5;241m.\u001b[39munpack(\u001b[38;5;124m\"\u001b[39m\u001b[38;5;124m!i\u001b[39m\u001b[38;5;124m\"\u001b[39m, buf\u001b[38;5;241m.\u001b[39mgetvalue())\n\u001b[1;32m    421\u001b[0m     \u001b[38;5;28;01mif\u001b[39;00m size \u001b[38;5;241m==\u001b[39m \u001b[38;5;241m-\u001b[39m\u001b[38;5;241m1\u001b[39m:\n",
      "File \u001b[0;32m~/anaconda3/envs/rdkit-env/lib/python3.10/multiprocessing/connection.py:384\u001b[0m, in \u001b[0;36mConnection._recv\u001b[0;34m(self, size, read)\u001b[0m\n\u001b[1;32m    382\u001b[0m remaining \u001b[38;5;241m=\u001b[39m size\n\u001b[1;32m    383\u001b[0m \u001b[38;5;28;01mwhile\u001b[39;00m remaining \u001b[38;5;241m>\u001b[39m \u001b[38;5;241m0\u001b[39m:\n\u001b[0;32m--> 384\u001b[0m     chunk \u001b[38;5;241m=\u001b[39m \u001b[43mread\u001b[49m\u001b[43m(\u001b[49m\u001b[43mhandle\u001b[49m\u001b[43m,\u001b[49m\u001b[43m \u001b[49m\u001b[43mremaining\u001b[49m\u001b[43m)\u001b[49m\n\u001b[1;32m    385\u001b[0m     n \u001b[38;5;241m=\u001b[39m \u001b[38;5;28mlen\u001b[39m(chunk)\n\u001b[1;32m    386\u001b[0m     \u001b[38;5;28;01mif\u001b[39;00m n \u001b[38;5;241m==\u001b[39m \u001b[38;5;241m0\u001b[39m:\n",
      "\u001b[0;31mKeyboardInterrupt\u001b[0m: "
     ]
    }
   ],
   "source": [
    "file_names.parallel_apply(download_zips)"
   ]
  },
  {
   "cell_type": "code",
   "execution_count": 14,
   "id": "a7b896d3",
   "metadata": {},
   "outputs": [],
   "source": [
    "def check_processed(file_name, processed):\n",
    "    for processed_name in processed:\n",
    "        if file_name in processed_name:\n",
    "            return True\n",
    "    return False"
   ]
  },
  {
   "cell_type": "code",
   "execution_count": 15,
   "id": "d934e717",
   "metadata": {},
   "outputs": [],
   "source": [
    "def remove_unprocessed():\n",
    "    with processed_file.open('r') as f:\n",
    "        processed = f.read().split()\n",
    "    for file in os.listdir(dir_to_download):\n",
    "        if check_processed(file, processed):\n",
    "            continue\n",
    "        os.remove(dir_to_download / file)\n",
    "        print('removed:', dir_to_download / file)\n"
   ]
  },
  {
   "cell_type": "code",
   "execution_count": 16,
   "id": "362f3aa5",
   "metadata": {},
   "outputs": [
    {
     "name": "stdout",
     "output_type": "stream",
     "text": [
      "removed: ../data/pubchem/sdfs/Compound_124500001_125000000.sdf.gz\n",
      "removed: ../data/pubchem/sdfs/Compound_084000001_084500000.sdf.gz\n",
      "removed: ../data/pubchem/sdfs/Compound_042500001_043000000.sdf.gz\n",
      "removed: ../data/pubchem/sdfs/Compound_000500001_001000000.sdf.gz\n"
     ]
    }
   ],
   "source": [
    "remove_unprocessed()"
   ]
  },
  {
   "cell_type": "code",
   "execution_count": null,
   "id": "f1aa6c9f",
   "metadata": {},
   "outputs": [],
   "source": []
  }
 ],
 "metadata": {
  "kernelspec": {
   "display_name": "Python 3 (ipykernel)",
   "language": "python",
   "name": "python3"
  },
  "language_info": {
   "codemirror_mode": {
    "name": "ipython",
    "version": 3
   },
   "file_extension": ".py",
   "mimetype": "text/x-python",
   "name": "python",
   "nbconvert_exporter": "python",
   "pygments_lexer": "ipython3",
   "version": "3.10.5"
  }
 },
 "nbformat": 4,
 "nbformat_minor": 5
}
