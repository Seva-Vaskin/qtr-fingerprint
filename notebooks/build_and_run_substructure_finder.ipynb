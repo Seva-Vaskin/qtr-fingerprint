{
 "cells": [
  {
   "cell_type": "code",
   "execution_count": 1,
   "id": "293a9920",
   "metadata": {},
   "outputs": [
    {
     "ename": "SyntaxError",
     "evalue": "'await' outside async function (search_engine.py, line 31)",
     "output_type": "error",
     "traceback": [
      "Traceback \u001b[0;36m(most recent call last)\u001b[0m:\n",
      "  File \u001b[1;32m~/anaconda3/envs/rdkit-env/lib/python3.10/site-packages/IPython/core/interactiveshell.py:3397\u001b[0m in \u001b[1;35mrun_code\u001b[0m\n    exec(code_obj, self.user_global_ns, self.user_ns)\n",
      "  Input \u001b[1;32mIn [1]\u001b[0m in \u001b[1;35m<cell line: 7>\u001b[0m\n    from substrucure_finder import BucketsInitializer\n",
      "\u001b[0;36m  File \u001b[0;32m~/qtr-fingerprint/notebooks/substrucure_finder/__init__.py:2\u001b[0;36m in \u001b[0;35m<module>\u001b[0;36m\u001b[0m\n\u001b[0;31m    from substrucure_finder.search_engine import SearchEngine\u001b[0m\n",
      "\u001b[0;36m  File \u001b[0;32m~/qtr-fingerprint/notebooks/substrucure_finder/search_engine.py:31\u001b[0;36m\u001b[0m\n\u001b[0;31m    yield from await task\u001b[0m\n\u001b[0m               ^\u001b[0m\n\u001b[0;31mSyntaxError\u001b[0m\u001b[0;31m:\u001b[0m 'await' outside async function\n"
     ]
    }
   ],
   "source": [
    "from pathlib import Path\n",
    "from indigo import Indigo\n",
    "import numpy as np\n",
    "import pandas as pd\n",
    "import asyncio\n",
    "\n",
    "from substrucure_finder import BucketsInitializer\n",
    "from substrucure_finder import SearchEngine\n",
    "\n",
    "import fp_utils\n",
    "from fp_utils.finders import Finder\n",
    "from fp_utils.tests import FinderSpeedTester\n",
    "from fp_utils.catch_time import CatchTime"
   ]
  },
  {
   "cell_type": "code",
   "execution_count": null,
   "id": "8ec50dd4",
   "metadata": {},
   "outputs": [],
   "source": [
    "fp_utils.settings.init_fp_utils()"
   ]
  },
  {
   "cell_type": "code",
   "execution_count": null,
   "id": "5bcdd2f7",
   "metadata": {},
   "outputs": [],
   "source": [
    "data_path = Path(\"../data/\")"
   ]
  },
  {
   "cell_type": "code",
   "execution_count": null,
   "id": "0bc9eefa",
   "metadata": {},
   "outputs": [],
   "source": [
    "zero_columns_name = '../data/zero_columns'"
   ]
  },
  {
   "cell_type": "markdown",
   "id": "09fb9e56",
   "metadata": {},
   "source": [
    "# Build structure"
   ]
  },
  {
   "cell_type": "code",
   "execution_count": null,
   "id": "7f749457",
   "metadata": {},
   "outputs": [],
   "source": [
    "data_name = ''"
   ]
  },
  {
   "cell_type": "code",
   "execution_count": null,
   "id": "a72d5432",
   "metadata": {},
   "outputs": [],
   "source": [
    "initializer = BucketsInitializer(data_path / data_name, columns_count=100)"
   ]
  },
  {
   "cell_type": "code",
   "execution_count": null,
   "id": "52200b3a",
   "metadata": {},
   "outputs": [],
   "source": [
    "(data_path / data_name / 'buckets').mkdir(exist_ok=True)"
   ]
  },
  {
   "cell_type": "code",
   "execution_count": null,
   "id": "3440c5a7",
   "metadata": {
    "scrolled": true
   },
   "outputs": [],
   "source": [
    "%%time\n",
    "initializer.init_buckets()"
   ]
  },
  {
   "cell_type": "markdown",
   "id": "24513925",
   "metadata": {},
   "source": [
    "# Search Queries"
   ]
  },
  {
   "cell_type": "code",
   "execution_count": null,
   "id": "0ce6e415",
   "metadata": {},
   "outputs": [],
   "source": [
    "with open(zero_columns_name, 'r') as f:\n",
    "    zero_columns = list(map(int, f.read().split()))\n",
    "assert list(sorted(zero_columns)) == zero_columns"
   ]
  },
  {
   "cell_type": "code",
   "execution_count": null,
   "id": "9552b860",
   "metadata": {},
   "outputs": [],
   "source": [
    "full_columns = list(sorted(set(range(3736)) - set(zero_columns)))"
   ]
  },
  {
   "cell_type": "code",
   "execution_count": null,
   "id": "da526095",
   "metadata": {},
   "outputs": [],
   "source": [
    "def bin_format(number, num_of_bits=3736):\n",
    "    fp = list(map(int, list(bin(int(number, 16))[2:].zfill(num_of_bits))))\n",
    "    return np.fromiter(fp, dtype=int)"
   ]
  },
  {
   "cell_type": "code",
   "execution_count": null,
   "id": "59620037",
   "metadata": {},
   "outputs": [],
   "source": [
    "def smiles_to_fingerprint(smiles):\n",
    "    indigo_mol_to_test = Indigo().loadMolecule(smiles)\n",
    "    full_fp = bin_format(indigo_mol_to_test.fingerprint(\"sub\").toString())\n",
    "    return np.fromiter(pd.Series(full_fp)[full_columns].values, dtype=bool)"
   ]
  },
  {
   "cell_type": "code",
   "execution_count": null,
   "id": "9393dba7",
   "metadata": {},
   "outputs": [],
   "source": [
    "@CatchTime(\"search\")\n",
    "def search(smiles: str, finder: Finder, ans_count=None):\n",
    "    fp = smiles_to_fingerprint(smiles)\n",
    "    return list(finder.find(fp, ans_count))"
   ]
  },
  {
   "cell_type": "code",
   "execution_count": null,
   "id": "1cd3e033",
   "metadata": {},
   "outputs": [],
   "source": [
    "class ComplexFinder(SearchEngine, Finder):   \n",
    "    def find_all(self, fp):\n",
    "        return self.search(fp)"
   ]
  },
  {
   "cell_type": "code",
   "execution_count": null,
   "id": "061f4650",
   "metadata": {},
   "outputs": [],
   "source": [
    "class AsyncFinder(SearchEngine, Finder):   \n",
    "    def find_all(self, fp):\n",
    "        return self.async_search(fp)"
   ]
  },
  {
   "cell_type": "code",
   "execution_count": null,
   "id": "1120db11",
   "metadata": {
    "scrolled": true
   },
   "outputs": [],
   "source": [
    "# mcc100_2kk = ComplexFinder(data_path / '2kk_100_mcc')\n",
    "# mcc100_2kk_async = AsyncFinder(data_path / '2kk_100_mcc')\n",
    "# mcc100_17kk_heur2000 = ComplexFinder(data_path / '17kk_100_heur2000')\n",
    "# mcc100_17kk_heur2000_async = AsyncFinder(data_path / '17kk_100_heur2000')\n",
    "# mcc100_2kk_heur1000 = ComplexFinder(data_path / '2kk_100_heur1000')\n",
    "# mcc100_2kk_heur1500 = ComplexFinder(data_path / '2kk_100_heur1500')\n",
    "# mcc100_2kk_heur1700 = ComplexFinder(data_path / '2kk_100_heur1700')"
   ]
  },
  {
   "cell_type": "code",
   "execution_count": null,
   "id": "adf96f5e",
   "metadata": {},
   "outputs": [],
   "source": [
    "# mcc100_17kk = ComplexFinder(data_path / '17kk_100_heur2000')"
   ]
  },
  {
   "cell_type": "code",
   "execution_count": null,
   "id": "7b2514d8",
   "metadata": {},
   "outputs": [],
   "source": [
    "with open('../data/pubchem_994_queries.txt', 'r') as f:\n",
    "    queries = list(map(lambda x: x.split()[0], f.read().strip().split('\\n')))"
   ]
  },
  {
   "cell_type": "code",
   "execution_count": null,
   "id": "7f9f4a39",
   "metadata": {
    "scrolled": true
   },
   "outputs": [],
   "source": [
    "len(queries), queries[:10]"
   ]
  },
  {
   "cell_type": "code",
   "execution_count": null,
   "id": "aae4267b",
   "metadata": {},
   "outputs": [],
   "source": [
    "queries_fp = [smiles_to_fingerprint(smiles) for smiles in queries]"
   ]
  },
  {
   "cell_type": "code",
   "execution_count": null,
   "id": "fb5ba826",
   "metadata": {},
   "outputs": [],
   "source": [
    "import random"
   ]
  },
  {
   "cell_type": "code",
   "execution_count": null,
   "id": "f5978eb9",
   "metadata": {},
   "outputs": [],
   "source": [
    "queries_30 = random.sample(queries_fp, 30)"
   ]
  },
  {
   "cell_type": "code",
   "execution_count": null,
   "id": "6a283aa9",
   "metadata": {},
   "outputs": [],
   "source": [
    "mcc100_17kk_heur2000 = ComplexFinder(data_path / '17kk_100_heur2000')"
   ]
  },
  {
   "cell_type": "code",
   "execution_count": null,
   "id": "768c318e",
   "metadata": {
    "scrolled": true
   },
   "outputs": [],
   "source": [
    "# %%time \n",
    "# stat_sync = FinderSpeedTester([mcc100_17kk_heur2000]).test_all(queries_30, verbose=True, ans_count=10)"
   ]
  },
  {
   "cell_type": "code",
   "execution_count": null,
   "id": "bdf808d9",
   "metadata": {
    "scrolled": false
   },
   "outputs": [],
   "source": [
    "mcc100_17kk_heur2000_async = AsyncFinder(data_path / '17kk_100_heur2000')"
   ]
  },
  {
   "cell_type": "code",
   "execution_count": null,
   "id": "5877a929",
   "metadata": {
    "scrolled": true
   },
   "outputs": [],
   "source": [
    "%%time \n",
    "stat_async = FinderSpeedTester([mcc100_17kk_heur2000_async]).test_all(queries_30, verbose=True, ans_count=10)"
   ]
  },
  {
   "cell_type": "code",
   "execution_count": null,
   "id": "17d4e116",
   "metadata": {
    "scrolled": false
   },
   "outputs": [],
   "source": [
    "stat = stat_sync + stat_async"
   ]
  },
  {
   "cell_type": "code",
   "execution_count": null,
   "id": "a7dc4371",
   "metadata": {
    "scrolled": false
   },
   "outputs": [],
   "source": [
    "stat"
   ]
  },
  {
   "cell_type": "code",
   "execution_count": null,
   "id": "b3cac8d1",
   "metadata": {},
   "outputs": [],
   "source": [
    "stat.as_boxplot()"
   ]
  },
  {
   "cell_type": "code",
   "execution_count": null,
   "id": "5f56d026",
   "metadata": {},
   "outputs": [],
   "source": [
    "stat.as_plot()"
   ]
  },
  {
   "cell_type": "code",
   "execution_count": null,
   "id": "80e08f96",
   "metadata": {},
   "outputs": [],
   "source": [
    "from fp_utils.draw import MoleculeDrawer"
   ]
  },
  {
   "cell_type": "code",
   "execution_count": null,
   "id": "d71cffe1",
   "metadata": {
    "scrolled": true
   },
   "outputs": [],
   "source": [
    "query = queries[0]\n",
    "MoleculeDrawer.draw_one(query)"
   ]
  },
  {
   "cell_type": "code",
   "execution_count": null,
   "id": "cc36cba2",
   "metadata": {
    "scrolled": false
   },
   "outputs": [],
   "source": [
    "answers = search(query, mcc100_17kk_heur2000_async, ans_count=10)"
   ]
  },
  {
   "cell_type": "code",
   "execution_count": null,
   "id": "f037ccdf",
   "metadata": {},
   "outputs": [],
   "source": [
    "len(answers)"
   ]
  },
  {
   "cell_type": "code",
   "execution_count": null,
   "id": "64801f6d",
   "metadata": {},
   "outputs": [],
   "source": [
    "MoleculeDrawer.draw_many(answers, figsize=(20, 20), shape=(2, 3))"
   ]
  },
  {
   "cell_type": "code",
   "execution_count": null,
   "id": "c6e744ed",
   "metadata": {
    "scrolled": false
   },
   "outputs": [],
   "source": [
    "answers = search(query, mcc100_17kk_heur2000, ans_count=10)\n",
    "MoleculeDrawer.draw_many(answers, figsize=(20, 20), shape=(2, 3))"
   ]
  },
  {
   "cell_type": "code",
   "execution_count": null,
   "id": "04fc8c05",
   "metadata": {},
   "outputs": [],
   "source": []
  }
 ],
 "metadata": {
  "kernelspec": {
   "display_name": "Python 3 (ipykernel)",
   "language": "python",
   "name": "python3"
  },
  "language_info": {
   "codemirror_mode": {
    "name": "ipython",
    "version": 3
   },
   "file_extension": ".py",
   "mimetype": "text/x-python",
   "name": "python",
   "nbconvert_exporter": "python",
   "pygments_lexer": "ipython3",
   "version": "3.10.5"
  }
 },
 "nbformat": 4,
 "nbformat_minor": 5
}
