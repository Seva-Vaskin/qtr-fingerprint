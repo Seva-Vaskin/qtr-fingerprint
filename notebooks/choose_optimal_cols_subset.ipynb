{
 "cells": [
  {
   "cell_type": "code",
   "execution_count": 1,
   "id": "69a7e9ce",
   "metadata": {},
   "outputs": [],
   "source": [
    "from pathlib import Path\n",
    "import numpy as np\n",
    "import pandas as pd\n",
    "import os\n",
    "import matplotlib.pyplot as plt\n",
    "from copy import deepcopy"
   ]
  },
  {
   "cell_type": "code",
   "execution_count": 2,
   "id": "19171851",
   "metadata": {},
   "outputs": [],
   "source": [
    "col_path = Path(\"../data/2kk_100_mcc/raw_buckets/\")"
   ]
  },
  {
   "cell_type": "code",
   "execution_count": 3,
   "id": "9dd99bd6",
   "metadata": {},
   "outputs": [],
   "source": [
    "n = 3000\n",
    "m = 100\n",
    "r = 1.00\n",
    "\n",
    "up_m = int(m * r)"
   ]
  },
  {
   "cell_type": "code",
   "execution_count": 8,
   "id": "76e571ab",
   "metadata": {},
   "outputs": [
    {
     "data": {
      "text/plain": [
       "4089"
      ]
     },
     "execution_count": 8,
     "metadata": {},
     "output_type": "execute_result"
    }
   ],
   "source": [
    "file_names = list(filter(lambda x: x.endswith('.col'), os.listdir(col_path)))\n",
    "len(file_names)"
   ]
  },
  {
   "cell_type": "code",
   "execution_count": 9,
   "id": "b05c4b29",
   "metadata": {},
   "outputs": [],
   "source": [
    "def read_cols(file_path):\n",
    "    return list(map(int, Path(file_path).read_text().split()))"
   ]
  },
  {
   "cell_type": "code",
   "execution_count": 10,
   "id": "887ebfba",
   "metadata": {},
   "outputs": [],
   "source": [
    "orders = [read_cols(col_path / file_name) for file_name in file_names]"
   ]
  },
  {
   "cell_type": "code",
   "execution_count": 11,
   "id": "041a6123",
   "metadata": {},
   "outputs": [],
   "source": [
    "cnt_in_up_m = dict()\n",
    "for order in orders:\n",
    "    for j in order[:up_m]:\n",
    "        cnt_in_up_m.setdefault(j, 0)\n",
    "        cnt_in_up_m[j] += 1"
   ]
  },
  {
   "cell_type": "code",
   "execution_count": 12,
   "id": "f1f50134",
   "metadata": {},
   "outputs": [],
   "source": [
    "ordered_cols = list(sorted(cnt_in_up_m.items(), key=lambda x: x[1], reverse=True))"
   ]
  },
  {
   "cell_type": "code",
   "execution_count": 13,
   "id": "1c9c94c4",
   "metadata": {},
   "outputs": [],
   "source": [
    "selected_cols = [x[0] for x in ordered_cols[:n]]"
   ]
  },
  {
   "cell_type": "code",
   "execution_count": 14,
   "id": "5e05873c",
   "metadata": {},
   "outputs": [],
   "source": [
    "selected_cols = np.fromiter(selected_cols, dtype=int)"
   ]
  },
  {
   "cell_type": "code",
   "execution_count": 15,
   "id": "74bfbd13",
   "metadata": {},
   "outputs": [],
   "source": [
    "good_cols_rates = list()\n",
    "for order in orders:\n",
    "    prefix = set(order[:up_m])\n",
    "    cnt = 0\n",
    "    for col in selected_cols:\n",
    "        cnt += int(col in prefix)\n",
    "    good_cols_rates.append(min(1, cnt / m))\n",
    "good_cols_rates = np.fromiter(good_cols_rates, dtype=float)"
   ]
  },
  {
   "cell_type": "code",
   "execution_count": 16,
   "id": "9af20569",
   "metadata": {},
   "outputs": [
    {
     "data": {
      "text/plain": [
       "1.0"
      ]
     },
     "execution_count": 16,
     "metadata": {},
     "output_type": "execute_result"
    }
   ],
   "source": [
    "np.mean(good_cols_rates)"
   ]
  },
  {
   "cell_type": "code",
   "execution_count": 17,
   "id": "87963c40",
   "metadata": {},
   "outputs": [
    {
     "data": {
      "text/plain": [
       "1.0"
      ]
     },
     "execution_count": 17,
     "metadata": {},
     "output_type": "execute_result"
    }
   ],
   "source": [
    "np.min(good_cols_rates)"
   ]
  },
  {
   "cell_type": "code",
   "execution_count": 18,
   "id": "4c5c5ba3",
   "metadata": {},
   "outputs": [
    {
     "data": {
      "text/plain": [
       "1.0"
      ]
     },
     "execution_count": 18,
     "metadata": {},
     "output_type": "execute_result"
    }
   ],
   "source": [
    "np.median(good_cols_rates)"
   ]
  },
  {
   "cell_type": "code",
   "execution_count": 19,
   "id": "77d56a60",
   "metadata": {},
   "outputs": [
    {
     "data": {
      "text/plain": [
       "[1.0,\n",
       " 1.0,\n",
       " 1.0,\n",
       " 1.0,\n",
       " 1.0,\n",
       " 1.0,\n",
       " 1.0,\n",
       " 1.0,\n",
       " 1.0,\n",
       " 1.0,\n",
       " 1.0,\n",
       " 1.0,\n",
       " 1.0,\n",
       " 1.0,\n",
       " 1.0,\n",
       " 1.0,\n",
       " 1.0,\n",
       " 1.0,\n",
       " 1.0,\n",
       " 1.0,\n",
       " 1.0,\n",
       " 1.0,\n",
       " 1.0,\n",
       " 1.0,\n",
       " 1.0,\n",
       " 1.0,\n",
       " 1.0,\n",
       " 1.0,\n",
       " 1.0,\n",
       " 1.0]"
      ]
     },
     "execution_count": 19,
     "metadata": {},
     "output_type": "execute_result"
    }
   ],
   "source": [
    "list(sorted(good_cols_rates))[:30]"
   ]
  },
  {
   "cell_type": "code",
   "execution_count": 20,
   "id": "d5380f06",
   "metadata": {},
   "outputs": [],
   "source": [
    "from substrucure_finder.utils import save_columns_to_file"
   ]
  },
  {
   "cell_type": "code",
   "execution_count": 21,
   "id": "5f5fd06f",
   "metadata": {},
   "outputs": [],
   "source": [
    "save_columns_to_file(selected_cols, \"../data/columns_to_choose.txt\")"
   ]
  },
  {
   "cell_type": "code",
   "execution_count": null,
   "id": "2edf657c",
   "metadata": {},
   "outputs": [],
   "source": []
  }
 ],
 "metadata": {
  "kernelspec": {
   "display_name": "Python 3 (ipykernel)",
   "language": "python",
   "name": "python3"
  },
  "language_info": {
   "codemirror_mode": {
    "name": "ipython",
    "version": 3
   },
   "file_extension": ".py",
   "mimetype": "text/x-python",
   "name": "python",
   "nbconvert_exporter": "python",
   "pygments_lexer": "ipython3",
   "version": "3.10.5"
  }
 },
 "nbformat": 4,
 "nbformat_minor": 5
}
